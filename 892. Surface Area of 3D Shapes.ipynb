{
 "cells": [
  {
   "cell_type": "markdown",
   "metadata": {},
   "source": [
    "##### 892. Surface Area of 3D Shapes\n",
    "\n",
    "On a N * N grid, we place some 1 * 1 * 1 cubes. <br>\n",
    "Each value v = grid[i][j] represents a tower of v cubes placed on top of grid cell (i, j).<br>\n",
    "Return the total surface area of the resulting shapes.<br>\n",
    "\n",
    "Example 1:<br>\n",
    "Input: [[2]]<br>\n",
    "Output: 10<br>\n",
    "\n",
    "Example 2:<br>\n",
    "Input: [[1,2],[3,4]]<br>\n",
    "Output: 34<br>\n",
    "\n",
    "Example 3:<br>\n",
    "Input: [[1,0],[0,2]]<br>\n",
    "Output: 16<br>\n",
    "\n",
    "Example 4:<br>\n",
    "Input: [[1,1,1],[1,0,1],[1,1,1]]<br>\n",
    "Output: 32<br>\n",
    "\n",
    "Example 5:<br>\n",
    "Input: [[2,2,2],[2,1,2],[2,2,2]]<br>\n",
    "Output: 46<br>\n",
    "\n",
    "Note:<br>\n",
    "\n",
    "1 <= N <= 50<br>\n",
    "0 <= grid[i][j] <= 50<br>"
   ]
  },
  {
   "cell_type": "code",
   "execution_count": 8,
   "metadata": {},
   "outputs": [],
   "source": [
    "class Solution:\n",
    "    def surfaceArea(self, grid):\n",
    "        \"\"\"\n",
    "        :type grid: List[List[int]]\n",
    "        :rtype: int\n",
    "        \"\"\"\n",
    "        r = len(grid)\n",
    "        c = len(grid[0])\n",
    "        updow = sum([1 for row in  grid for col in row if col!=0 ])*2\n",
    "        outsider = sum(grid[0]) + sum(grid[r-1])\n",
    "        outsidec = sum([grid[i][0]+grid[i][c-1] for i in range(r)])\n",
    "        totalr = 0\n",
    "        totalc = 0\n",
    "        for i in range(r-1):\n",
    "            for j in range(c):\n",
    "                totalr += abs(grid[i+1][j] - grid[i][j])\n",
    "        \n",
    "        for i in range(r):\n",
    "            for j in range(c-1):\n",
    "                totalc += abs(grid[i][j+1]-grid[i][j])\n",
    "        return updow + outsider + outsidec + totalr + totalc\n",
    "    \n",
    "# Complexity Analysis\n",
    "#Time Complexity: O(N^2), where N is the number of rows (and columns) in the grid."
   ]
  },
  {
   "cell_type": "code",
   "execution_count": 9,
   "metadata": {},
   "outputs": [
    {
     "data": {
      "text/plain": [
       "46"
      ]
     },
     "execution_count": 9,
     "metadata": {},
     "output_type": "execute_result"
    }
   ],
   "source": [
    "grid = [[2,2,2],[2,1,2],[2,2,2]]\n",
    "s = Solution()\n",
    "s.surfaceArea(grid)"
   ]
  }
 ],
 "metadata": {
  "kernelspec": {
   "display_name": "Python 3",
   "language": "python",
   "name": "python3"
  },
  "language_info": {
   "codemirror_mode": {
    "name": "ipython",
    "version": 3
   },
   "file_extension": ".py",
   "mimetype": "text/x-python",
   "name": "python",
   "nbconvert_exporter": "python",
   "pygments_lexer": "ipython3",
   "version": "3.6.5"
  }
 },
 "nbformat": 4,
 "nbformat_minor": 2
}
