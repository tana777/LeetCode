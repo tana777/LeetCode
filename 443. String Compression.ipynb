{
 "cells": [
  {
   "cell_type": "markdown",
   "metadata": {},
   "source": [
    "##### 443. String Compression\n",
    "\n",
    "Given an array of characters, compress it in-place. The length after compression must always be smaller than or equal to the original array. Every element of the array should be a character (not int) of length 1. After you are done modifying the input array in-place, return the new length of the array.\n",
    "\n",
    "Follow up:\n",
    "Could you solve it using only O(1) extra space?\n",
    "\n",
    "Example 1:\n",
    "\n",
    "Input:\n",
    "[\"a\",\"a\",\"b\",\"b\",\"c\",\"c\",\"c\"]\n",
    "\n",
    "Output:\n",
    "Return 6, and the first 6 characters of the input array should be: [\"a\",\"2\",\"b\",\"2\",\"c\",\"3\"]\n",
    "\n",
    "Explanation:\n",
    "\"aa\" is replaced by \"a2\". \"bb\" is replaced by \"b2\". \"ccc\" is replaced by \"c3\".\n",
    " \n",
    "Example 2:\n",
    "\n",
    "Input:\n",
    "[\"a\"]\n",
    "\n",
    "Output:\n",
    "Return 1, and the first 1 characters of the input array should be: [\"a\"]\n",
    "\n",
    "Explanation:\n",
    "Nothing is replaced.\n",
    "\n",
    "Example 3:\n",
    "\n",
    "Input:\n",
    "[\"a\",\"b\",\"b\",\"b\",\"b\",\"b\",\"b\",\"b\",\"b\",\"b\",\"b\",\"b\",\"b\"]\n",
    "\n",
    "Output:\n",
    "Return 4, and the first 4 characters of the input array should be: [\"a\",\"b\",\"1\",\"2\"].\n",
    "\n",
    "Explanation:\n",
    "Since the character \"a\" does not repeat, it is not compressed. \"bbbbbbbbbbbb\" is replaced by \"b12\".\n",
    "Notice each digit has it's own entry in the array.\n",
    " \n",
    "\n",
    "Note:\n",
    "\n",
    "All characters have an ASCII value in [35, 126].\n",
    "1 <= len(chars) <= 1000.\n"
   ]
  },
  {
   "cell_type": "code",
   "execution_count": 3,
   "metadata": {},
   "outputs": [],
   "source": [
    "class Solution:\n",
    "    def compress(self, chars):\n",
    "        \"\"\"\n",
    "        :type chars: List[str]\n",
    "        :rtype: int\n",
    "        \"\"\"\n",
    "        read = write = 0\n",
    "        \n",
    "        while read < len(chars):\n",
    "            count, flow = 1, read+1\n",
    "            while flow < len(chars) and chars[read]==chars[flow]:\n",
    "                count += 1\n",
    "                flow += 1\n",
    "            chars[write] = chars[read]\n",
    "            write += 1\n",
    "            \n",
    "            if count > 1:\n",
    "                for c in str(count):\n",
    "                    chars[write] = c\n",
    "                    write += 1\n",
    "            read = flow\n",
    "        return write \n",
    "# Complexity analysis\n",
    "# Time: O(n) since we basically only go through the string once\n",
    "# Space: O(1) we do not use other space\n"
   ]
  },
  {
   "cell_type": "markdown",
   "metadata": {},
   "source": [
    "1. create two variables called read and write, one is to go through the string and the other is to compress the string\n",
    "\n",
    "2. use two while loop to implement read and write, one is also for going through the sting and the other is to count the appearance of the same character\n",
    "\n",
    "3. write the character and count number to compress it\n",
    "\n",
    "note: when the count >= 10, we need to write both 1 and 0. Thus we use for loop."
   ]
  },
  {
   "cell_type": "code",
   "execution_count": 4,
   "metadata": {},
   "outputs": [
    {
     "data": {
      "text/plain": [
       "6"
      ]
     },
     "execution_count": 4,
     "metadata": {},
     "output_type": "execute_result"
    }
   ],
   "source": [
    "chars =[\"a\",\"a\",\"b\",\"b\",\"c\",\"c\",\"c\"]\n",
    "s = Solution()\n",
    "s.compress(chars)"
   ]
  }
 ],
 "metadata": {
  "kernelspec": {
   "display_name": "Python 3",
   "language": "python",
   "name": "python3"
  },
  "language_info": {
   "codemirror_mode": {
    "name": "ipython",
    "version": 3
   },
   "file_extension": ".py",
   "mimetype": "text/x-python",
   "name": "python",
   "nbconvert_exporter": "python",
   "pygments_lexer": "ipython3",
   "version": "3.6.5"
  }
 },
 "nbformat": 4,
 "nbformat_minor": 2
}
