{
 "cells": [
  {
   "cell_type": "markdown",
   "metadata": {},
   "source": [
    "##### 821. Shortest Distance to a Character\n",
    "\n",
    "Given a string S and a character C, return an array of integers representing the shortest distance from the character C in the string.<br>\n",
    "\n",
    "Example 1:<br>\n",
    "\n",
    "Input: S = \"loveleetcode\", C = 'e'<br>\n",
    "Output: [3, 2, 1, 0, 1, 0, 0, 1, 2, 2, 1, 0]<br>\n",
    "\n",
    "Note:<br>\n",
    "S string length is in [1, 10000].<br>\n",
    "C is a single character, and guaranteed to be in string S.<br>\n",
    "All letters in S and C are lowercase.<br>"
   ]
  },
  {
   "cell_type": "code",
   "execution_count": 51,
   "metadata": {},
   "outputs": [],
   "source": [
    "class Solution(object):\n",
    "    def shortestToChar(self, S, C):\n",
    "        \"\"\"\n",
    "        :type S: str\n",
    "        :type C: str\n",
    "        :rtype: List[int]\n",
    "        \"\"\"\n",
    "        index = []  ### find all the index of C and remeber them\n",
    "        for idx, char in enumerate(S):\n",
    "            if char == C:\n",
    "                index.append(idx)\n",
    "        output = [] ### traversal S and compute the distance with each index and return the minimum\n",
    "        for idx, char in enumerate(S):\n",
    "            diff = min([abs(index[i]-idx) for i in range(len(index))])\n",
    "            output.append(diff)\n",
    "        return output"
   ]
  },
  {
   "cell_type": "code",
   "execution_count": 53,
   "metadata": {},
   "outputs": [
    {
     "data": {
      "text/plain": [
       "[3, 2, 1, 0, 1, 0, 0, 1, 2, 2, 1, 0]"
      ]
     },
     "execution_count": 53,
     "metadata": {},
     "output_type": "execute_result"
    }
   ],
   "source": [
    "S = \"loveleetcode\"; C = 'e'\n",
    "s = Solution()\n",
    "s.shortestToChar(S,C)\n",
    "#Output: [3, 2, 1, 0, 1, 0, 0, 1, 2, 2, 1, 0]"
   ]
  }
 ],
 "metadata": {
  "kernelspec": {
   "display_name": "Python 3",
   "language": "python",
   "name": "python3"
  },
  "language_info": {
   "codemirror_mode": {
    "name": "ipython",
    "version": 3
   },
   "file_extension": ".py",
   "mimetype": "text/x-python",
   "name": "python",
   "nbconvert_exporter": "python",
   "pygments_lexer": "ipython3",
   "version": "3.6.5"
  }
 },
 "nbformat": 4,
 "nbformat_minor": 2
}
