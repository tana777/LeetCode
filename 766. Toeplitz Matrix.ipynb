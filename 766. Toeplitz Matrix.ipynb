{
 "cells": [
  {
   "cell_type": "markdown",
   "metadata": {},
   "source": [
    "##### 766. Toeplitz Matrix\n",
    "A matrix is Toeplitz if every diagonal from top-left to bottom-right has the same element.<br>\n",
    "Now given an M x N matrix, return True if and only if the matrix is Toeplitz.<br>\n",
    "\n",
    "Example 1:<br>\n",
    "Input:<br>\n",
    "matrix = [<br>\n",
    "  [1,2,3,4],<br>\n",
    "  [5,1,2,3],<br>\n",
    "  [9,5,1,2]<br>\n",
    "]<br>\n",
    "Output: True<br>\n",
    "Explanation:<br>\n",
    "In the above grid, the diagonals are:<br>\n",
    "\"[9]\", \"[5, 5]\", \"[1, 1, 1]\", \"[2, 2, 2]\", \"[3, 3]\", \"[4]\".<br>\n",
    "In each diagonal all elements are the same, so the answer is True.<br>\n",
    "Example 2:<br>\n",
    "Input:<br>\n",
    "matrix = [<br>\n",
    "  [1,2],<br>\n",
    "  [2,2]<br>\n",
    "]<br>\n",
    "Output: False<br>\n",
    "Explanation:<br>\n",
    "The diagonal \"[1, 2]\" has different elements.<br>\n",
    "\n",
    "Note:<br>\n",
    "matrix will be a 2D array of integers.<br>\n",
    "matrix will have a number of rows and columns in range [1, 20].<br>\n",
    "matrix[i][j] will be integers in range [0, 99].<br>"
   ]
  },
  {
   "cell_type": "code",
   "execution_count": 120,
   "metadata": {},
   "outputs": [],
   "source": [
    "class Solution(object):\n",
    "    def isToeplitzMatrix(self, matrix):\n",
    "        \"\"\"\n",
    "        :type matrix: List[List[int]]\n",
    "        :rtype: bool\n",
    "        \"\"\"\n",
    "        dic = {}\n",
    "        for r, row in enumerate(matrix):\n",
    "            for c, col in enumerate(row):\n",
    "                if r-c not in dic:\n",
    "                    dic[r-c] = col\n",
    "                elif dic[r-c] != col:\n",
    "                    return False\n",
    "        return True\n",
    "    \n",
    "## Complexity Analysis\n",
    "# Time: O(m*n)\n",
    "# Space: O(m+n)\n",
    "\n",
    "# If the elements are in the same digonal, then the difference between row and column should be equal."
   ]
  },
  {
   "cell_type": "code",
   "execution_count": 121,
   "metadata": {},
   "outputs": [],
   "source": [
    "class Solution(object):\n",
    "    def isToeplitzMatrix(self, matrix):\n",
    "        \"\"\"\n",
    "        :type matrix: List[List[int]]\n",
    "        :rtype: bool\n",
    "        \"\"\"\n",
    "        return all([matrix[row+1][1:] == matrix[row][:-1] for row in range(len(matrix)-1)])\n",
    "        \n",
    "        \n",
    "        \n",
    "### We can find that \n",
    "# 1 2 3 4\n",
    "# 5 1 2 3\n",
    "# 9 5 1 2 \n",
    "# the last three value of the second row equal to the first three value of the first row and \n",
    "#so on so forth\n"
   ]
  },
  {
   "cell_type": "code",
   "execution_count": 122,
   "metadata": {},
   "outputs": [],
   "source": [
    "class Solution(object):\n",
    "    def isToeplitzMatrix(self, matrix):\n",
    "        \"\"\"\n",
    "        :type matrix: List[List[int]]\n",
    "        :rtype: bool\n",
    "        \"\"\"\n",
    "        for r in range(len(matrix)-1):\n",
    "            for c in range(len(matrix[0])-1):\n",
    "                if matrix[r][c] != matrix[r+1][c+1]:\n",
    "                    return False\n",
    "        return True\n",
    "        \n",
    "## We can check each element and its right bottom element, if they are the same or not."
   ]
  },
  {
   "cell_type": "code",
   "execution_count": 123,
   "metadata": {},
   "outputs": [
    {
     "data": {
      "text/plain": [
       "True"
      ]
     },
     "execution_count": 123,
     "metadata": {},
     "output_type": "execute_result"
    }
   ],
   "source": [
    "matrix=[[1,2,3,4],[5,1,2,3],[9,5,1,2]]\n",
    "s=Solution()\n",
    "s.isToeplitzMatrix(matrix)"
   ]
  }
 ],
 "metadata": {
  "kernelspec": {
   "display_name": "Python 3",
   "language": "python",
   "name": "python3"
  },
  "language_info": {
   "codemirror_mode": {
    "name": "ipython",
    "version": 3
   },
   "file_extension": ".py",
   "mimetype": "text/x-python",
   "name": "python",
   "nbconvert_exporter": "python",
   "pygments_lexer": "ipython3",
   "version": "3.6.5"
  }
 },
 "nbformat": 4,
 "nbformat_minor": 2
}
