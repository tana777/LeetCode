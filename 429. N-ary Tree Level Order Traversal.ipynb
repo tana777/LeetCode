{
 "cells": [
  {
   "cell_type": "markdown",
   "metadata": {},
   "source": [
    "##### 429. N-ary Tree Level Order Traversal\n",
    "\n",
    "Given an n-ary tree, return the level order traversal of its nodes' values. (ie, from left to right, level by level).\n",
    "For example, given a 3-ary tree:<br>\n",
    "\n",
    "            1\n",
    "         /  \\  \\\n",
    "        3   2  4 \n",
    "       / \\ \n",
    "      5   6\n",
    "We should return its level order traversal:<br>\n",
    "\n",
    "  [<br>\n",
    "     [1],<br>\n",
    "     [3,2,4],<br>\n",
    "     [5,6]<br>\n",
    "   ]<br>\n",
    "Note:<br>\n",
    "The depth of the tree is at most 1000.<br>\n",
    "The total number of nodes is at most 5000.<br>"
   ]
  },
  {
   "cell_type": "code",
   "execution_count": 85,
   "metadata": {},
   "outputs": [],
   "source": [
    "\"\"\"\n",
    "# Definition for a Node.\n",
    "class Node(object):\n",
    "    def __init__(self, val, children):\n",
    "        self.val = val\n",
    "        self.children = children\n",
    "\"\"\"\n",
    "class Solution(object):\n",
    "    def levelOrder(self, root):\n",
    "        \"\"\"\n",
    "        :type root: Node\n",
    "        :rtype: List[List[int]]\n",
    "        \"\"\"\n",
    "        \n",
    "        if root is None:\n",
    "            return []\n",
    "        \n",
    "        que = collections.deque()\n",
    "        output = []\n",
    "        s = 0\n",
    "        que.append(root)\n",
    "        while que:\n",
    "            level = []\n",
    "            s = len(que)\n",
    "            for i in range(s):\n",
    "                node = que.popleft()\n",
    "                level.append(node.val)\n",
    "                for child in node.children:\n",
    "                    que.append(child)\n",
    "            output.append(level)\n",
    "        return output\n",
    "                \n",
    "        \n",
    "# This solution involves bfs implemented by deque and traversal the tree level by level.\n",
    "### Complexity Analysis\n",
    "# Time: O(n) since we visit each node exactly once\n",
    "# Space: O(n)\n"
   ]
  },
  {
   "cell_type": "code",
   "execution_count": null,
   "metadata": {},
   "outputs": [],
   "source": []
  }
 ],
 "metadata": {
  "kernelspec": {
   "display_name": "Python 3",
   "language": "python",
   "name": "python3"
  },
  "language_info": {
   "codemirror_mode": {
    "name": "ipython",
    "version": 3
   },
   "file_extension": ".py",
   "mimetype": "text/x-python",
   "name": "python",
   "nbconvert_exporter": "python",
   "pygments_lexer": "ipython3",
   "version": "3.6.5"
  }
 },
 "nbformat": 4,
 "nbformat_minor": 2
}
