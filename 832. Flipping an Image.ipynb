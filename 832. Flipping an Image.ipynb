{
 "cells": [
  {
   "cell_type": "markdown",
   "metadata": {},
   "source": [
    "Given a binary matrix A, we want to flip the image horizontally, then invert it, and return the resulting image.\n",
    "\n",
    "To flip an image horizontally means that each row of the image is reversed.  For example, flipping [1, 1, 0] horizontally results in [0, 1, 1].\n",
    "\n",
    "To invert an image means that each 0 is replaced by 1, and each 1 is replaced by 0. For example, inverting [0, 1, 1] results in [1, 0, 0].\n",
    "\n",
    "Example 1:\n",
    "\n",
    "Input: [[1,1,0],[1,0,1],[0,0,0]]\n",
    "    \n",
    "Output: [[1,0,0],[0,1,0],[1,1,1]]\n",
    "    \n",
    "Explanation: First reverse each row: [[0,1,1],[1,0,1],[0,0,0]].\n",
    "        \n",
    "Then, invert the image: [[1,0,0],[0,1,0],[1,1,1]]\n",
    "    \n",
    "    Notes:\n",
    "\n",
    "1 <= A.length = A[0].length <= 20\n",
    "\n",
    "0 <= A[i][j] <= 1\n"
   ]
  },
  {
   "cell_type": "code",
   "execution_count": 98,
   "metadata": {},
   "outputs": [],
   "source": [
    "class Solution:\n",
    "    def flipAndInvertImage(self, A):\n",
    "        \"\"\"\n",
    "        :type A: List[List[int]]\n",
    "        :rtype: List[List[int]]\n",
    "        \"\"\"\n",
    "        B = [A[i][::-1] for i in range(len(A))]\n",
    "        B = [0 if B[i][j]==1 else B[i][j]+1 for i in range(len(B)) for j in range(len(B))]\n",
    "        B = [B[i*len(A):(i+1)*len(A)] for i in range(len(A))]\n",
    "        return B "
   ]
  },
  {
   "cell_type": "code",
   "execution_count": 99,
   "metadata": {},
   "outputs": [
    {
     "data": {
      "text/plain": [
       "[[1, 0, 0], [0, 1, 0], [1, 1, 1]]"
      ]
     },
     "execution_count": 99,
     "metadata": {},
     "output_type": "execute_result"
    }
   ],
   "source": [
    "A = [[1,1,0],[1,0,1],[0,0,0]]\n",
    "s = Solution()\n",
    "s.flipAndInvertImage(A)"
   ]
  }
 ],
 "metadata": {
  "kernelspec": {
   "display_name": "Python 3",
   "language": "python",
   "name": "python3"
  },
  "language_info": {
   "codemirror_mode": {
    "name": "ipython",
    "version": 3
   },
   "file_extension": ".py",
   "mimetype": "text/x-python",
   "name": "python",
   "nbconvert_exporter": "python",
   "pygments_lexer": "ipython3",
   "version": "3.6.5"
  }
 },
 "nbformat": 4,
 "nbformat_minor": 2
}
