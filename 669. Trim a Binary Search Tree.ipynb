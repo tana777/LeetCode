{
 "cells": [
  {
   "cell_type": "markdown",
   "metadata": {},
   "source": [
    "##### 669. Trim a Binary Search Tree\n",
    "\n",
    "Given a binary search tree and the lowest and highest boundaries as L and R, trim the tree so that all its elements lies in [L, R] (R >= L). You might need to change the root of the tree, so the result should return the new root of the trimmed binary search tree.<br>\n",
    "\n",
    "Example 1:<br>\n",
    "Input: <br>\n",
    "\n",
    "          1\n",
    "         / \\\n",
    "        0   2\n",
    "L = 1<br>\n",
    "R = 2<br>\n",
    "Output: <br>\n",
    "        \n",
    "        1\n",
    "         \\\n",
    "          2\n",
    "Example 2:<br>\n",
    "Input: <br>\n",
    "    \n",
    "      3\n",
    "     / \\\n",
    "    0   4\n",
    "     \\\n",
    "      2\n",
    "     /\n",
    "    1\n",
    "L = 1<br>\n",
    "R = 3<br>\n",
    "Output: <br>   \n",
    "\n",
    "        3\n",
    "       / \n",
    "      2   \n",
    "     /\n",
    "    1"
   ]
  },
  {
   "cell_type": "code",
   "execution_count": 2,
   "metadata": {},
   "outputs": [],
   "source": [
    "# Definition for a binary tree node.\n",
    "# class TreeNode:\n",
    "#     def __init__(self, x):\n",
    "#         self.val = x\n",
    "#         self.left = None\n",
    "#         self.right = None\n",
    "\n",
    "class Solution:\n",
    "    def trimBST(self, root, L, R):\n",
    "        \"\"\"\n",
    "        :type root: TreeNode\n",
    "        :type L: int\n",
    "        :type R: int\n",
    "        :rtype: TreeNode\n",
    "        \"\"\"\n",
    "        if root is None:\n",
    "            return None\n",
    "        if  R >= root.val >= L:\n",
    "            root.left = self.trimBST(root.left,L,R)\n",
    "            root.right = self.trimBST(root.right,L,R)\n",
    "            return root\n",
    "        elif root.val < L:\n",
    "            return self.trimBST(root.right,L,R)\n",
    "        elif root.val > R:\n",
    "            return self.trimBST(root.left,L,R)\n",
    "            "
   ]
  },
  {
   "cell_type": "code",
   "execution_count": 3,
   "metadata": {},
   "outputs": [],
   "source": [
    "#### Recursion\n",
    "# Problem has three different cases:\n",
    "# 1. L <= root.val <= R \n",
    "# No need to change root, just trim left and right subtree\n",
    "# 2. root.val < L\n",
    "# left subtree and root must be trimmed and new root must be right subtree\n",
    "# 3. root.val > R\n",
    "# right subtree and root must be trimmed and new root must be left subtree\n"
   ]
  }
 ],
 "metadata": {
  "kernelspec": {
   "display_name": "Python 3",
   "language": "python",
   "name": "python3"
  },
  "language_info": {
   "codemirror_mode": {
    "name": "ipython",
    "version": 3
   },
   "file_extension": ".py",
   "mimetype": "text/x-python",
   "name": "python",
   "nbconvert_exporter": "python",
   "pygments_lexer": "ipython3",
   "version": "3.6.5"
  }
 },
 "nbformat": 4,
 "nbformat_minor": 2
}
