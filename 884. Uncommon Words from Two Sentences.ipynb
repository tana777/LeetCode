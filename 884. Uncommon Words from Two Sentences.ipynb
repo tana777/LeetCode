{
 "cells": [
  {
   "cell_type": "markdown",
   "metadata": {},
   "source": [
    "##### 884. Uncommon Words from Two Sentences\n",
    "\n",
    "We are given two sentences A and B.  (A sentence is a string of space separated words.  Each word consists only of lowercase letters.)<br>\n",
    "A word is uncommon if it appears exactly once in one of the sentences, and does not appear in the other sentence.<br>\n",
    "Return a list of all uncommon words. <br>\n",
    "You may return the list in any order.<br>\n",
    "\n",
    "Example 1:<br>\n",
    "Input: A = \"this apple is sweet\", B = \"this apple is sour\"<br>\n",
    "Output: [\"sweet\",\"sour\"]<br>\n",
    "\n",
    "Example 2:<br>\n",
    "Input: A = \"apple apple\", B = \"banana\"<br>\n",
    "Output: [\"banana\"]<br>\n",
    "\n",
    "Note:<br>\n",
    "0 <= A.length <= 200<br>\n",
    "0 <= B.length <= 200<br>\n",
    "A and B both contain only spaces and lowercase letters.<br>"
   ]
  },
  {
   "cell_type": "code",
   "execution_count": 65,
   "metadata": {},
   "outputs": [],
   "source": [
    "class Solution(object):\n",
    "    def uncommonFromSentences(self, A, B):\n",
    "        \"\"\"\n",
    "        :type A: str\n",
    "        :type B: str\n",
    "        :rtype: List[str]\n",
    "        \"\"\"\n",
    "        output = []\n",
    "        words = A.split() + B.split()\n",
    "        counter = collections.Counter(words)\n",
    "        for item, ct in counter.items():\n",
    "            if ct==1:\n",
    "                output.append(item)\n",
    "        return output"
   ]
  },
  {
   "cell_type": "code",
   "execution_count": 66,
   "metadata": {},
   "outputs": [
    {
     "data": {
      "text/plain": [
       "['sweet', 'sour']"
      ]
     },
     "execution_count": 66,
     "metadata": {},
     "output_type": "execute_result"
    }
   ],
   "source": [
    "A = \"this apple is sweet\"; B = \"this apple is sour\"\n",
    "#A = 'apple apple'; B = 'banana'\n",
    "s = Solution()\n",
    "s.uncommonFromSentences(A,B)"
   ]
  },
  {
   "cell_type": "code",
   "execution_count": 67,
   "metadata": {},
   "outputs": [],
   "source": [
    "class Solution(object):\n",
    "    def uncommonFromSentences(self, A, B):\n",
    "        \"\"\"\n",
    "        :type A: str\n",
    "        :type B: str\n",
    "        :rtype: List[str]\n",
    "        \"\"\"\n",
    "        words = A.split() + B.split()\n",
    "        unia = set(A.split() + B.split())\n",
    "        output = []\n",
    "        for uni in unia:\n",
    "            total = 0\n",
    "            for word in words:\n",
    "                if uni == word:\n",
    "                    total += 1\n",
    "            if total ==1:\n",
    "                output.append(uni)\n",
    "        return output\n"
   ]
  },
  {
   "cell_type": "code",
   "execution_count": 58,
   "metadata": {},
   "outputs": [
    {
     "data": {
      "text/plain": [
       "['sweet', 'sour']"
      ]
     },
     "execution_count": 58,
     "metadata": {},
     "output_type": "execute_result"
    }
   ],
   "source": [
    "A = \"this apple is sweet\"; B = \"this apple is sour\"\n",
    "#A = 'apple apple'; B = 'banana'\n",
    "s = Solution()\n",
    "s.uncommonFromSentences(A,B)"
   ]
  }
 ],
 "metadata": {
  "kernelspec": {
   "display_name": "Python 3",
   "language": "python",
   "name": "python3"
  },
  "language_info": {
   "codemirror_mode": {
    "name": "ipython",
    "version": 3
   },
   "file_extension": ".py",
   "mimetype": "text/x-python",
   "name": "python",
   "nbconvert_exporter": "python",
   "pygments_lexer": "ipython3",
   "version": "3.6.5"
  }
 },
 "nbformat": 4,
 "nbformat_minor": 2
}
