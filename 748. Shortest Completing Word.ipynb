{
 "cells": [
  {
   "cell_type": "markdown",
   "metadata": {},
   "source": [
    "##### 748. Shortest Completing Word\n",
    "\n",
    "\n",
    "Find the minimum length word from a given dictionary words, which has all the letters from the string licensePlate. Such a word is said to complete the given string licensePlate <br>\n",
    "Here, for letters we ignore case. For example, \"P\" on the licensePlate still matches \"p\" on the word.<br>\n",
    "It is guaranteed an answer exists. If there are multiple answers, return the one that occurs first in the array.<br>\n",
    "The license plate might have the same letter occurring multiple times. For example, given a licensePlate of \"PP\", the word \"pair\" does not complete the licensePlate, but the word \"supper\" does.<br>\n",
    "\n",
    "Example 1:<br>\n",
    "Input: licensePlate = \"1s3 PSt\", words = [\"step\", \"steps\", \"stripe\", \"stepple\"]<br>\n",
    "Output: \"steps\"<br>\n",
    "Explanation: The smallest length word that contains the letters \"S\", \"P\", \"S\", and \"T\".<br>\n",
    "Note that the answer is not \"step\", because the letter \"s\" must occur in the word twice.<br>\n",
    "Also note that we ignored case for the purposes of comparing whether a letter exists in the word.<br>\n",
    "Example 2:<br>\n",
    "Input: licensePlate = \"1s3 456\", words = [\"looks\", \"pest\", \"stew\", \"show\"]<br>\n",
    "Output: \"pest\"<br>\n",
    "Explanation: There are 3 smallest length words that contains the letters \"s\".<br>\n",
    "We return the one that occurred first.<br>\n",
    "Note:<br>\n",
    "licensePlate will be a string with length in range [1, 7].<br>\n",
    "licensePlate will contain digits, spaces, or letters (uppercase or lowercase).<br>\n",
    "words will have a length in the range [10, 1000].<br>\n",
    "Every words[i] will consist of lowercase letters, and have length in range [1, 15].<br>\n"
   ]
  },
  {
   "cell_type": "code",
   "execution_count": 124,
   "metadata": {},
   "outputs": [],
   "source": [
    "class Solution:\n",
    "    def shortestCompletingWord(self, licensePlate, words):\n",
    "        \"\"\"\n",
    "        :type licensePlate: str\n",
    "        :type words: List[str]\n",
    "        :rtype: str\n",
    "        \"\"\"\n",
    "        import collections\n",
    "        license = [s.lower() for s in licensePlate if s.isalpha()]\n",
    "        licensecount = collections.Counter(license)\n",
    "        lens = 15\n",
    "        res = ''\n",
    "        for word in words:\n",
    "            sign = 0\n",
    "            wordcount = collections.Counter(word)\n",
    "            for letter, ct in licensecount.items():\n",
    "                if wordcount[letter] >= ct:\n",
    "                    sign += 1\n",
    "                else:\n",
    "                    sign += 0\n",
    "\n",
    "            \n",
    "            if sign == len(licensecount) and len(word)<lens:\n",
    "                res = word\n",
    "                lens = len(res)\n",
    "        return res\n",
    "    \n",
    "# Using hash table implemented by collections Counter. "
   ]
  },
  {
   "cell_type": "code",
   "execution_count": 125,
   "metadata": {},
   "outputs": [
    {
     "data": {
      "text/plain": [
       "'pest'"
      ]
     },
     "execution_count": 125,
     "metadata": {},
     "output_type": "execute_result"
    }
   ],
   "source": [
    "s = Solution()\n",
    "licensePlate = \"1s3 456\"; words =[\"looks\",\"pest\",\"stew\",\"show\"]\n",
    "s.shortestCompletingWord(licensePlate, words)\n"
   ]
  }
 ],
 "metadata": {
  "kernelspec": {
   "display_name": "Python 3",
   "language": "python",
   "name": "python3"
  },
  "language_info": {
   "codemirror_mode": {
    "name": "ipython",
    "version": 3
   },
   "file_extension": ".py",
   "mimetype": "text/x-python",
   "name": "python",
   "nbconvert_exporter": "python",
   "pygments_lexer": "ipython3",
   "version": "3.6.5"
  }
 },
 "nbformat": 4,
 "nbformat_minor": 2
}
