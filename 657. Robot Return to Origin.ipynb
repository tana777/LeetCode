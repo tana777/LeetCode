{
 "cells": [
  {
   "cell_type": "markdown",
   "metadata": {},
   "source": [
    "\n",
    "There is a robot starting at position (0, 0), the origin, on a 2D plane. Given a sequence of its moves, judge if this robot ends up at (0, 0) after it completes its moves.\n",
    "\n",
    "The move sequence is represented by a string, and the character moves[i] represents its ith move. Valid moves are R (right), L (left), U (up), and D (down). If the robot returns to the origin after it finishes all of its moves, return true. Otherwise, return false.\n",
    "\n",
    "Note: The way that the robot is \"facing\" is irrelevant. \"R\" will always make the robot move to the right once, \"L\" will always make it move left, etc. Also, assume that the magnitude of the robot's movement is the same for each move.\n",
    "\n",
    "Example 1:\n",
    "\n",
    "Input: \"UD\"\n",
    "    \n",
    "Output: true \n",
    "    \n",
    "Explanation: The robot moves up once, and then down once. All moves have the same magnitude, so it ended up at the origin where it started. Therefore, we return true."
   ]
  },
  {
   "cell_type": "code",
   "execution_count": 50,
   "metadata": {},
   "outputs": [],
   "source": [
    "# Wrong 1\n",
    "class Solution:\n",
    "    def judgeCircle(self, moves):\n",
    "        \"\"\"\n",
    "        :type moves: str\n",
    "        :rtype: bool\n",
    "        \"\"\"\n",
    "        key = 'UDRL'\n",
    "        value = 'DULR'\n",
    "        dic = dict(zip(key,value))\n",
    "        move = [dic[i] for i in moves]\n",
    "        move = ''.join(move)\n",
    "        return move == moves[::-1]"
   ]
  },
  {
   "cell_type": "code",
   "execution_count": 51,
   "metadata": {},
   "outputs": [],
   "source": [
    "moves = 'RRLL'"
   ]
  },
  {
   "cell_type": "code",
   "execution_count": 52,
   "metadata": {},
   "outputs": [
    {
     "data": {
      "text/plain": [
       "True"
      ]
     },
     "execution_count": 52,
     "metadata": {},
     "output_type": "execute_result"
    }
   ],
   "source": [
    "s = Solution()\n",
    "s.judgeCircle(moves)"
   ]
  },
  {
   "cell_type": "code",
   "execution_count": 53,
   "metadata": {},
   "outputs": [
    {
     "data": {
      "text/plain": [
       "False"
      ]
     },
     "execution_count": 53,
     "metadata": {},
     "output_type": "execute_result"
    }
   ],
   "source": [
    "moves=\"RLUURDDDLU\"\n",
    "s = Solution()\n",
    "s.judgeCircle(moves)"
   ]
  },
  {
   "cell_type": "markdown",
   "metadata": {},
   "source": [
    "One case is not accepted, actually it should be returned TRUE. I might need to change the idea, I mean using dictionary is fine but I don't consider fully just including symmetric case. In addition, we can find that the corresponding number of movement should be the same value. For example, if moves equal to \"RLUURDDDLU\", it is clear that robot turns right twice, left twice and goes down three times and up three times. Thus, if a robot wants to go back to origin, it must take one-on-on movement.\n"
   ]
  },
  {
   "cell_type": "code",
   "execution_count": 54,
   "metadata": {},
   "outputs": [],
   "source": [
    "# works with long runtime\n",
    "class Solution:\n",
    "    def judgeCircle(self, moves):\n",
    "        \"\"\"\n",
    "        :type moves: str\n",
    "        :rtype: bool\n",
    "        \"\"\"\n",
    "        key = 'UDRL'\n",
    "        value = 'DULR'\n",
    "        dic = dict(zip(key,value))\n",
    "        keys = 'UDRL'\n",
    "        values = '1234'\n",
    "        dics = dict(zip(keys,values))\n",
    "        move = [dic[i] for i in moves]\n",
    "        move = ''.join(move)\n",
    "        move1 = [dics[i] for i in move]\n",
    "        move2 = [dics[i] for i in moves]\n",
    "        return sorted(move) == sorted(moves)\n",
    "        \n",
    "        "
   ]
  },
  {
   "cell_type": "code",
   "execution_count": 55,
   "metadata": {},
   "outputs": [],
   "source": [
    "## smarter way\n",
    "class Solution:\n",
    "    def judgeCircle(self, moves):\n",
    "        \"\"\"\n",
    "        :type moves: str\n",
    "        :rtype: bool\n",
    "        \"\"\"\n",
    "        return moves.count('R')==moves.count('L') and moves.count('U')==moves.count('D')\n",
    "        "
   ]
  },
  {
   "cell_type": "code",
   "execution_count": 71,
   "metadata": {},
   "outputs": [
    {
     "data": {
      "text/plain": [
       "True"
      ]
     },
     "execution_count": 71,
     "metadata": {},
     "output_type": "execute_result"
    }
   ],
   "source": [
    "moves=\"RLUURDDDLU\"\n",
    "s = Solution()\n",
    "s.judgeCircle(moves)"
   ]
  },
  {
   "cell_type": "code",
   "execution_count": 74,
   "metadata": {},
   "outputs": [],
   "source": [
    "# Wrong  \n",
    "# Reason: UL = 0 but the robot is not in origin.\n",
    "\n",
    "class Solution:\n",
    "    def judgeCircle(self, moves):\n",
    "        \"\"\"\n",
    "        :type moves: str\n",
    "        :rtype: bool\n",
    "        \"\"\"\n",
    "        key = 'UDRL'\n",
    "        value = [1,-1,1,-1]\n",
    "        dic = dict(zip(key,value))\n",
    "        move = [dic[i] for i in moves]\n",
    "        if sum(move) == 0:\n",
    "            return True\n",
    "        else:\n",
    "            return False\n",
    "        "
   ]
  },
  {
   "cell_type": "code",
   "execution_count": 75,
   "metadata": {},
   "outputs": [],
   "source": [
    "# Wrong  \n",
    "# Reason: UUL = 0 but the robot is not in origin.\n",
    "\n",
    "class Solution:\n",
    "    def judgeCircle(self, moves):\n",
    "        \"\"\"\n",
    "        :type moves: str\n",
    "        :rtype: bool\n",
    "        \"\"\"\n",
    "        key = 'UDRL'\n",
    "        value = [1,-1,2,-2]\n",
    "        dic = dict(zip(key,value))\n",
    "        move = [dic[i] for i in moves]\n",
    "        if sum(move) == 0:\n",
    "            return True\n",
    "        else:\n",
    "            return False\n",
    "        "
   ]
  },
  {
   "cell_type": "code",
   "execution_count": 77,
   "metadata": {},
   "outputs": [],
   "source": [
    "# Right -- imagine the robot walks on the coordinate axis, in order to stay at (0,0), movement on\n",
    "# x-axis and y-axis should offset. \n",
    "class Solution:\n",
    "    def judgeCircle(self, moves):\n",
    "        \"\"\"\n",
    "        :type moves: str\n",
    "        :rtype: bool\n",
    "        \"\"\"\n",
    "        x = y = 0\n",
    "        for move in moves:\n",
    "            if move == 'R':\n",
    "                x = x + 1\n",
    "            elif move == 'L':\n",
    "                x = x - 1\n",
    "            elif move == 'U':\n",
    "                y = y + 1\n",
    "            elif move == 'D':\n",
    "                y = y - 1\n",
    "        return x == y == 0\n",
    "\n",
    "# Complexity Analysis\n",
    "\n",
    "# Time Complexity: O(N), where N is the length of moves. We iterate through the string.\n",
    "\n",
    "# Space Complexity: O(1).\n"
   ]
  },
  {
   "cell_type": "code",
   "execution_count": null,
   "metadata": {},
   "outputs": [],
   "source": []
  }
 ],
 "metadata": {
  "kernelspec": {
   "display_name": "Python 3",
   "language": "python",
   "name": "python3"
  },
  "language_info": {
   "codemirror_mode": {
    "name": "ipython",
    "version": 3
   },
   "file_extension": ".py",
   "mimetype": "text/x-python",
   "name": "python",
   "nbconvert_exporter": "python",
   "pygments_lexer": "ipython3",
   "version": "3.6.5"
  }
 },
 "nbformat": 4,
 "nbformat_minor": 2
}
