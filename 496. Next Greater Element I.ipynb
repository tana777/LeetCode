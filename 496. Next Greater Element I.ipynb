{
 "cells": [
  {
   "cell_type": "markdown",
   "metadata": {},
   "source": [
    "##### 496. Next Greater Element I\n",
    "\n",
    "You are given two arrays (without duplicates) nums1 and nums2 where nums1’s elements are subset of nums2. Find all the next greater numbers for nums1's elements in the corresponding places of nums2.<br>\n",
    "\n",
    "The Next Greater Number of a number x in nums1 is the first greater number to its right in nums2. If it does not exist, output -1 for this number.<br>\n",
    "\n",
    "Example 1:<br>\n",
    "Input: nums1 = [4,1,2], nums2 = [1,3,4,2].<br>\n",
    "Output: [-1,3,-1]<br>\n",
    "Explanation:<br>\n",
    "    For number 4 in the first array, you cannot find the next greater number for it in the second array, so output -1.<br>\n",
    "    For number 1 in the first array, the next greater number for it in the second array is 3.<br>\n",
    "    For number 2 in the first array, there is no next greater number for it in the second array, so output -1.<br>\n",
    "Example 2:<br>\n",
    "Input: nums1 = [2,4], nums2 = [1,2,3,4].<br>\n",
    "Output: [3,-1]<br>\n",
    "Explanation:<br>\n",
    "    For number 2 in the first array, the next greater number for it in the second array is 3.<br>\n",
    "    For number 4 in the first array, there is no next greater number for it in the second array, so output -1.<br>\n",
    "Note:<br>\n",
    "All elements in nums1 and nums2 are unique.<br>\n",
    "The length of both nums1 and nums2 would not exceed 1000.<br>\n"
   ]
  },
  {
   "cell_type": "code",
   "execution_count": 33,
   "metadata": {},
   "outputs": [],
   "source": [
    "\n",
    "class Solution:\n",
    "    def nextGreaterElement(self, nums1, nums2):\n",
    "        \"\"\"\n",
    "        :type nums1: List[int]\n",
    "        :type nums2: List[int]\n",
    "        :rtype: List[int]\n",
    "        \"\"\"\n",
    "        import collections\n",
    "        output=[]\n",
    "        for i, item in enumerate(nums1):\n",
    "            index = nums2.index(item)\n",
    "            if index == len(nums2)-1:\n",
    "                output.append(-1)\n",
    "            else:\n",
    "            \n",
    "                ct = collections.deque()\n",
    "                for gre in nums2[index+1:]:\n",
    "                    if gre > item:\n",
    "                        ct.append(gre)\n",
    "                if len(ct) == 0:\n",
    "                    output.append(-1)\n",
    "                else:\n",
    "                    output.append(ct.popleft())\n",
    "\n",
    "        return output\n",
    "\n",
    "                    \n",
    "       "
   ]
  },
  {
   "cell_type": "code",
   "execution_count": 34,
   "metadata": {},
   "outputs": [
    {
     "data": {
      "text/plain": [
       "[-1, 3, -1]"
      ]
     },
     "execution_count": 34,
     "metadata": {},
     "output_type": "execute_result"
    }
   ],
   "source": [
    "nums1 = [4,1,2]; nums2 = [1,3,4,2]\n",
    "s = Solution()\n",
    "s.nextGreaterElement(nums1,nums2)"
   ]
  }
 ],
 "metadata": {
  "kernelspec": {
   "display_name": "Python 3",
   "language": "python",
   "name": "python3"
  },
  "language_info": {
   "codemirror_mode": {
    "name": "ipython",
    "version": 3
   },
   "file_extension": ".py",
   "mimetype": "text/x-python",
   "name": "python",
   "nbconvert_exporter": "python",
   "pygments_lexer": "ipython3",
   "version": "3.6.5"
  }
 },
 "nbformat": 4,
 "nbformat_minor": 2
}
