{
 "cells": [
  {
   "cell_type": "markdown",
   "metadata": {},
   "source": [
    "##### 867. Transpose Matrix\n",
    "\n",
    "Given a matrix A, return the transpose of A. <br>\n",
    "The transpose of a matrix is the matrix flipped over it's main diagonal, switching the row and column indices of the matrix.\n",
    "\n",
    "Example 1:<br>\n",
    "Input: [[1,2,3],[4,5,6],[7,8,9]]<br>\n",
    "Output: [[1,4,7],[2,5,8],[3,6,9]]<br>\n",
    "\n",
    "Example 2:<br>\n",
    "Input: [[1,2,3],[4,5,6]]<br>\n",
    "Output: [[1,4],[2,5],[3,6]]<br>\n",
    " \n",
    "\n",
    "Note:\n",
    "\n",
    "1 <= A.length <= 1000<br>\n",
    "1 <= A[0].length <= 1000<br>\n"
   ]
  },
  {
   "cell_type": "code",
   "execution_count": 4,
   "metadata": {},
   "outputs": [],
   "source": [
    "class Solution:\n",
    "    def transpose(self, A):\n",
    "        \"\"\"\n",
    "        :type A: List[List[int]]\n",
    "        :rtype: List[List[int]]\n",
    "        \"\"\"\n",
    "        \n",
    "        extend = [A[i][j] for i in range(len(A)) for j in range(len(A[0]))]\n",
    "        return[extend[i::len(A[0])] for i in range(len(A[0]))]\n",
    "        \n",
    "## Complexity analysis\n",
    "# Time complexity: O(n^2)\n",
    "# Space complexity: O(n^2)\n",
    "# where n is the input size, or we can specify r as row number and c as column number"
   ]
  },
  {
   "cell_type": "code",
   "execution_count": 5,
   "metadata": {},
   "outputs": [
    {
     "data": {
      "text/plain": [
       "[[1, 4, 7], [2, 5, 8], [3, 6, 9]]"
      ]
     },
     "execution_count": 5,
     "metadata": {},
     "output_type": "execute_result"
    }
   ],
   "source": [
    "A = [[1,2,3],[4,5,6],[7,8,9]]\n",
    "s = Solution()\n",
    "s.transpose(A)"
   ]
  }
 ],
 "metadata": {
  "kernelspec": {
   "display_name": "Python 3",
   "language": "python",
   "name": "python3"
  },
  "language_info": {
   "codemirror_mode": {
    "name": "ipython",
    "version": 3
   },
   "file_extension": ".py",
   "mimetype": "text/x-python",
   "name": "python",
   "nbconvert_exporter": "python",
   "pygments_lexer": "ipython3",
   "version": "3.6.5"
  }
 },
 "nbformat": 4,
 "nbformat_minor": 2
}
