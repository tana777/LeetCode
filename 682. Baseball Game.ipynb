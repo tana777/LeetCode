{
 "cells": [
  {
   "cell_type": "markdown",
   "metadata": {},
   "source": [
    "##### 682. Baseball Game\n",
    "\n",
    "You're now a baseball game point recorder. <br>\n",
    "Given a list of strings, each string can be one of the 4 following types: <br>\n",
    "Integer (one round's score): Directly represents the number of points you get in this round. <br>\n",
    "\"+\" (one round's score): Represents that the points you get in this round are the sum of the last two valid round's points. <br>\n",
    "\"D\" (one round's score): Represents that the points you get in this round are the doubled data of the last valid round's points. <br>\n",
    "\"C\" (an operation, which isn't a round's score): Represents the last valid round's points you get were invalid and should be removed. <br>\n",
    "Each round's operation is permanent and could have an impact on the round before and the round after. <br>\n",
    "\n",
    "You need to return the sum of the points you could get in all the rounds. <br>\n",
    "\n",
    "Example 1: <br>\n",
    "Input: [\"5\",\"2\",\"C\",\"D\",\"+\"] <br>\n",
    "Output: 30 <br>\n",
    "Explanation:  <br>\n",
    "Round 1: You could get 5 points. The sum is: 5. <br>\n",
    "Round 2: You could get 2 points. The sum is: 7. <br>\n",
    "Operation 1: The round 2's data was invalid. The sum is: 5.   <br>\n",
    "Round 3: You could get 10 points (the round 2's data has been removed). The sum is: 15. <br>\n",
    "Round 4: You could get 5 + 10 = 15 points. The sum is: 30. <br>\n",
    "Example 2: <br>\n",
    "Input: [\"5\",\"-2\",\"4\",\"C\",\"D\",\"9\",\"+\",\"+\"] <br>\n",
    "Output: 27 <br>\n",
    "Explanation:  <br>\n",
    "Round 1: You could get 5 points. The sum is: 5. <br>\n",
    "Round 2: You could get -2 points. The sum is: 3. <br>\n",
    "Round 3: You could get 4 points. The sum is: 7. <br> \n",
    "Operation 1: The round 3's data is invalid. The sum is: 3.   <br>\n",
    "Round 4: You could get -4 points (the round 3's data has been removed). The sum is: -1. <br>\n",
    "Round 5: You could get 9 points. The sum is: 8. <br>\n",
    "Round 6: You could get -4 + 9 = 5 points. The sum is 13. <br>\n",
    "Round 7: You could get 9 + 5 = 14 points. The sum is 27. <br>\n",
    "Note: <br>\n",
    "The size of the input list will be between 1 and 1000. <br>\n",
    "Every integer represented in the list will be between -30000 and 30000. <br>\n"
   ]
  },
  {
   "cell_type": "code",
   "execution_count": 29,
   "metadata": {},
   "outputs": [],
   "source": [
    "class Solution(object):\n",
    "    def calPoints(self, ops):\n",
    "        \"\"\"\n",
    "        :type ops: List[str]\n",
    "        :rtype: int\n",
    "        \"\"\"\n",
    "        score = []\n",
    "        total = 0\n",
    "        s = 0\n",
    "        for i in ops:\n",
    "            if i == 'C':\n",
    "                total -= int(score.pop())\n",
    "            elif i =='D':\n",
    "                s = int(score[-1])\n",
    "                score.append(2*s)\n",
    "                total += 2*s\n",
    "            \n",
    "            elif i =='+':\n",
    "                a1 = int(score[-1])\n",
    "                a2 = int(score[-2])\n",
    "                total = total + a1 + a2\n",
    "                score.append(a1+a2)\n",
    "            else:\n",
    "                score.append(i)\n",
    "                total += int(i)\n",
    "        return total               \n",
    "        "
   ]
  },
  {
   "cell_type": "code",
   "execution_count": 30,
   "metadata": {},
   "outputs": [
    {
     "data": {
      "text/plain": [
       "30"
      ]
     },
     "execution_count": 30,
     "metadata": {},
     "output_type": "execute_result"
    }
   ],
   "source": [
    "ops = [\"5\",\"2\",\"C\",\"D\",\"+\"]\n",
    "s = Solution()\n",
    "s.calPoints(ops)"
   ]
  },
  {
   "cell_type": "code",
   "execution_count": 31,
   "metadata": {},
   "outputs": [],
   "source": [
    "class Solution(object):\n",
    "    def calPoints(self, ops):\n",
    "        \"\"\"\n",
    "        :type ops: List[str]\n",
    "        :rtype: int\n",
    "        \"\"\"\n",
    "        stack = []\n",
    "        for word in ops:\n",
    "            if word == 'C':\n",
    "                stack.pop()\n",
    "            elif word == 'D':\n",
    "                stack.append(2*stack[-1])\n",
    "            elif word == '+':\n",
    "                stack.append(stack[-1]+stack[-2])\n",
    "            else:\n",
    "                stack.append(int(word))\n",
    "        return sum(stack)"
   ]
  },
  {
   "cell_type": "code",
   "execution_count": 32,
   "metadata": {},
   "outputs": [
    {
     "data": {
      "text/plain": [
       "30"
      ]
     },
     "execution_count": 32,
     "metadata": {},
     "output_type": "execute_result"
    }
   ],
   "source": [
    "ops = [\"5\",\"2\",\"C\",\"D\",\"+\"]\n",
    "s = Solution()\n",
    "s.calPoints(ops)"
   ]
  }
 ],
 "metadata": {
  "kernelspec": {
   "display_name": "Python 3",
   "language": "python",
   "name": "python3"
  },
  "language_info": {
   "codemirror_mode": {
    "name": "ipython",
    "version": 3
   },
   "file_extension": ".py",
   "mimetype": "text/x-python",
   "name": "python",
   "nbconvert_exporter": "python",
   "pygments_lexer": "ipython3",
   "version": "3.6.5"
  }
 },
 "nbformat": 4,
 "nbformat_minor": 2
}
