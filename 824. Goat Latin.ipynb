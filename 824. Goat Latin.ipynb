{
 "cells": [
  {
   "cell_type": "markdown",
   "metadata": {},
   "source": [
    "##### 824. Goat Latin\n",
    "\n",
    "A sentence S is given, composed of words separated by spaces. Each word consists of lowercase and uppercase letters only. <br>\n",
    "We would like to convert the sentence to \"Goat Latin\" (a made-up language similar to Pig Latin.)<br>\n",
    "The rules of Goat Latin are as follows:<br>\n",
    "If a word begins with a vowel (a, e, i, o, or u), append \"ma\" to the end of the word.<br>\n",
    "For example, the word 'apple' becomes 'applema'.<br>\n",
    "\n",
    "If a word begins with a consonant (i.e. not a vowel), remove the first letter and append it to the end, then add \"ma\".<br>\n",
    "For example, the word \"goat\" becomes \"oatgma\".<br>\n",
    " \n",
    "Add one letter 'a' to the end of each word per its word index in the sentence, starting with 1.<br>\n",
    "For example, the first word gets \"a\" added to the end, the second word gets \"aa\" added to the end and so on.<br>\n",
    "Return the final sentence representing the conversion from S to Goat Latin. <br>\n",
    "\n",
    "Example 1:<br>\n",
    "Input: \"I speak Goat Latin\"<br>\n",
    "Output: \"Imaa peaksmaaa oatGmaaaa atinLmaaaaa\"<br>\n",
    "\n",
    "Example 2:<br>\n",
    "Input: \"The quick brown fox jumped over the lazy dog\"<br>\n",
    "Output: \"heTmaa uickqmaaa rownbmaaaa oxfmaaaaa umpedjmaaaaaa overmaaaaaaa hetmaaaaaaaa azylmaaaaaaaaa ogdmaaaaaaaaaa\"<br>\n",
    " \n",
    "Notes:<br>\n",
    "S contains only uppercase, lowercase and spaces. Exactly one space between each word.<br>\n",
    "1 <= S.length <= 150.<br>\n"
   ]
  },
  {
   "cell_type": "code",
   "execution_count": 5,
   "metadata": {},
   "outputs": [],
   "source": [
    "class Solution:\n",
    "    def toGoatLatin(self, S):\n",
    "        \"\"\"\n",
    "        :type S: str\n",
    "        :rtype: str\n",
    "        \"\"\"\n",
    "        output = ''\n",
    "        s = S.split()\n",
    "        for i, word in enumerate(s):\n",
    "            if word[0].lower() in ('a','e','i','o','u'):\n",
    "                word = word+'ma'\n",
    "            else:\n",
    "                word = word[1:] + word[0]\n",
    "                word = word + 'ma'\n",
    "            word = word + 'a'*(i+1)\n",
    "            output += word + ' '\n",
    "            \n",
    "        return output[:-1]\n",
    "            "
   ]
  },
  {
   "cell_type": "code",
   "execution_count": 6,
   "metadata": {},
   "outputs": [
    {
     "data": {
      "text/plain": [
       "'Imaa peaksmaaa oatGmaaaa atinLmaaaaa'"
      ]
     },
     "execution_count": 6,
     "metadata": {},
     "output_type": "execute_result"
    }
   ],
   "source": [
    "S = \"I speak Goat Latin\"\n",
    "s = Solution()\n",
    "s.toGoatLatin(S)"
   ]
  }
 ],
 "metadata": {
  "kernelspec": {
   "display_name": "Python 3",
   "language": "python",
   "name": "python3"
  },
  "language_info": {
   "codemirror_mode": {
    "name": "ipython",
    "version": 3
   },
   "file_extension": ".py",
   "mimetype": "text/x-python",
   "name": "python",
   "nbconvert_exporter": "python",
   "pygments_lexer": "ipython3",
   "version": "3.6.5"
  }
 },
 "nbformat": 4,
 "nbformat_minor": 2
}
