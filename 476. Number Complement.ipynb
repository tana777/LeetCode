{
 "cells": [
  {
   "cell_type": "markdown",
   "metadata": {},
   "source": [
    "##### 476. Number Complement\n",
    "Given a positive integer, output its complement number. The complement strategy is to flip the bits of its binary representation.<br>\n",
    "\n",
    "Note:<br>\n",
    "The given integer is guaranteed to fit within the range of a 32-bit signed integer.<br>\n",
    "You could assume no leading zero bit in the integer’s binary representation.<br>\n",
    "Example 1:<br>\n",
    "Input: 5<br>\n",
    "Output: 2<br>\n",
    "Explanation: The binary representation of 5 is 101 (no leading zero bits), and its complement is 010. So you need to output 2.<br>\n",
    "Example 2:<br>\n",
    "Input: 1<br>\n",
    "Output: 0<br>\n",
    "Explanation: The binary representation of 1 is 1 (no leading zero bits), and its complement is 0. So you need to output 0.\n"
   ]
  },
  {
   "cell_type": "code",
   "execution_count": 62,
   "metadata": {},
   "outputs": [],
   "source": [
    "class Solution(object):\n",
    "    def findComplement(self, num):\n",
    "        \"\"\"\n",
    "        :type num: int\n",
    "        :rtype: int\n",
    "        \"\"\"\n",
    "        repre = bin(num) \n",
    "        repre = repre[2:] \n",
    "        repre = [int(i)+1 if i=='0' else 0 for i in repre] \n",
    "        num = len(repre)\n",
    "        output = 0\n",
    "        for i in range(num):\n",
    "            output += repre[i]*2**(num-1-i)\n",
    "        return output\n",
    "    \n",
    "# Complexity Analysis:\n",
    "# Time: O(n) n is the length of binary representation\n",
    "# You should know how to convert binary to decimal and vice versa"
   ]
  },
  {
   "cell_type": "code",
   "execution_count": 63,
   "metadata": {},
   "outputs": [
    {
     "data": {
      "text/plain": [
       "2"
      ]
     },
     "execution_count": 63,
     "metadata": {},
     "output_type": "execute_result"
    }
   ],
   "source": [
    "s = Solution()\n",
    "s.findComplement(5)"
   ]
  },
  {
   "cell_type": "code",
   "execution_count": null,
   "metadata": {},
   "outputs": [],
   "source": []
  }
 ],
 "metadata": {
  "kernelspec": {
   "display_name": "Python 3",
   "language": "python",
   "name": "python3"
  },
  "language_info": {
   "codemirror_mode": {
    "name": "ipython",
    "version": 3
   },
   "file_extension": ".py",
   "mimetype": "text/x-python",
   "name": "python",
   "nbconvert_exporter": "python",
   "pygments_lexer": "ipython3",
   "version": "3.6.5"
  }
 },
 "nbformat": 4,
 "nbformat_minor": 2
}
