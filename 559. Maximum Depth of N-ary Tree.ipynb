{
 "cells": [
  {
   "cell_type": "markdown",
   "metadata": {},
   "source": [
    "##### 559. Maximum Depth of N-ary Tree\n",
    "\n",
    "Given a n-ary tree, find its maximum depth. <br>\n",
    "The maximum depth is the number of nodes along the longest path from the root node down to the farthest leaf node.<br>\n",
    "\n",
    "For example, given a 3-ary tree:<br>\n",
    "\n",
    "          1\n",
    "       /  \\  \\\n",
    "      3   2   4\n",
    "     / \\ \n",
    "    5  6\n",
    "\n",
    "We should return its max depth, which is 3.<br>\n",
    "\n",
    " \n",
    "\n",
    "Note:<br>\n",
    "\n",
    "The depth of the tree is at most 1000.<br>\n",
    "The total number of nodes is at most 5000.<br>"
   ]
  },
  {
   "cell_type": "code",
   "execution_count": 13,
   "metadata": {},
   "outputs": [],
   "source": [
    "\"\"\"\n",
    "# Definition for a Node.\n",
    "class Node(object):\n",
    "    def __init__(self, val, children):\n",
    "        self.val = val\n",
    "        self.children = children\n",
    "\"\"\"\n",
    "\n",
    "## 1. using BFS to traversal the tree level by level and implement by iteration method and deque\n",
    "class Solution(object):\n",
    "    def maxDepth(self, root):\n",
    "        \"\"\"\n",
    "        :type root: Node\n",
    "        :rtype: int\n",
    "        \"\"\"\n",
    "        if root is None:\n",
    "            return 0\n",
    "        que = collections.deque()\n",
    "        que.append(root)\n",
    "        depth = 0\n",
    "        while que:\n",
    "            s = len(que)\n",
    "            for i in range(s):\n",
    "                node = que.popleft()\n",
    "                for ch in node.children:\n",
    "                    que.append(ch)\n",
    "            depth = depth + 1 \n",
    "        return depth\n",
    "            \n",
    "### Complexity Analysis\n",
    "# Time: O(n^2)\n",
    "# Space: O(n)"
   ]
  },
  {
   "cell_type": "code",
   "execution_count": 14,
   "metadata": {},
   "outputs": [],
   "source": [
    "## 2. using recursion\n",
    "class Solution(object):\n",
    "    def maxDepth(self, root):\n",
    "        \"\"\"\n",
    "        :type root: Node\n",
    "        :rtype: int\n",
    "        \"\"\"\n",
    "        if root is None: \n",
    "            return 0 \n",
    "        elif root.children == []:\n",
    "            return 1\n",
    "        else: \n",
    "            height = [self.maxDepth(c) for c in root.children]\n",
    "            return max(height) + 1 \n",
    "### Complexity Analysis\n",
    "# Time: O(n)\n",
    "# Space: worst case: O(n) general:O(logn)"
   ]
  }
 ],
 "metadata": {
  "kernelspec": {
   "display_name": "Python 3",
   "language": "python",
   "name": "python3"
  },
  "language_info": {
   "codemirror_mode": {
    "name": "ipython",
    "version": 3
   },
   "file_extension": ".py",
   "mimetype": "text/x-python",
   "name": "python",
   "nbconvert_exporter": "python",
   "pygments_lexer": "ipython3",
   "version": "3.6.5"
  }
 },
 "nbformat": 4,
 "nbformat_minor": 2
}
