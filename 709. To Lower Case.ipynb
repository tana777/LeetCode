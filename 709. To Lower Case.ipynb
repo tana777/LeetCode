{
 "cells": [
  {
   "cell_type": "markdown",
   "metadata": {},
   "source": [
    "Implement function ToLowerCase() that has a string parameter str, and returns the same string in lowercase.\n",
    "\n",
    "Example 1:\n",
    "\n",
    "Input: \"Hello\"\n",
    "Output: \"hello\"\n",
    "\n",
    "Example 2:\n",
    "\n",
    "Input: \"here\"\n",
    "Output: \"here\"\n",
    "\n",
    "Example 3:\n",
    "\n",
    "Input: \"LOVELY\"\n",
    "Output: \"lovely\""
   ]
  },
  {
   "cell_type": "code",
   "execution_count": 66,
   "metadata": {},
   "outputs": [],
   "source": [
    "strs = \"LOVELY\""
   ]
  },
  {
   "cell_type": "code",
   "execution_count": 67,
   "metadata": {},
   "outputs": [],
   "source": [
    "class Solution:\n",
    "    def toLowerCase(self, str):\n",
    "        \"\"\"\n",
    "        :type str: str\n",
    "        :rtype: str\n",
    "        \"\"\"\n",
    "        return str.lower()   "
   ]
  },
  {
   "cell_type": "markdown",
   "metadata": {},
   "source": [
    "If we do not use python built-in function, the problem can be solved by following."
   ]
  },
  {
   "cell_type": "code",
   "execution_count": 68,
   "metadata": {},
   "outputs": [],
   "source": [
    "class Solution:\n",
    "    def toLowerCase(self, str):\n",
    "        \"\"\"\n",
    "        :type str: str\n",
    "        :rtype: str\n",
    "        \"\"\"\n",
    "        str_low = []\n",
    "        for i in strs:\n",
    "            if ord(i) >= 65 and ord(i) <= 90:\n",
    "                i = chr(ord(i)+32)\n",
    "                str_low.append(i)\n",
    "            else:\n",
    "                str_low.append(i)\n",
    "                \n",
    "        return(''.join(str_low))"
   ]
  },
  {
   "cell_type": "code",
   "execution_count": 70,
   "metadata": {},
   "outputs": [
    {
     "data": {
      "text/plain": [
       "'lovely'"
      ]
     },
     "execution_count": 70,
     "metadata": {},
     "output_type": "execute_result"
    }
   ],
   "source": [
    "s = Solution()\n",
    "s.toLowerCase(strs)"
   ]
  }
 ],
 "metadata": {
  "kernelspec": {
   "display_name": "Python 3",
   "language": "python",
   "name": "python3"
  },
  "language_info": {
   "codemirror_mode": {
    "name": "ipython",
    "version": 3
   },
   "file_extension": ".py",
   "mimetype": "text/x-python",
   "name": "python",
   "nbconvert_exporter": "python",
   "pygments_lexer": "ipython3",
   "version": "3.6.5"
  }
 },
 "nbformat": 4,
 "nbformat_minor": 2
}
