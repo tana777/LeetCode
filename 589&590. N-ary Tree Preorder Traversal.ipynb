{
 "cells": [
  {
   "cell_type": "markdown",
   "metadata": {},
   "source": [
    "#### 589. N-ary Tree Preorder Traversal¶\n",
    "Given an n-ary tree, return the preorder traversal of its nodes' values.\n",
    "\n",
    "For example, given a 3-ary tree:\n",
    "\n",
    "\n",
    "Return its preorder traversal as: [1,3,5,6,2,4].\n",
    "\n",
    "\n",
    "Note:\n",
    "\n",
    "Recursive solution is trivial, could you do it iteratively?"
   ]
  },
  {
   "cell_type": "code",
   "execution_count": 18,
   "metadata": {},
   "outputs": [],
   "source": [
    "\"\"\"\n",
    "# Definition for a Node.\n",
    "class Node(object):\n",
    "    def __init__(self, val, children):\n",
    "        self.val = val\n",
    "        self.children = children\n",
    "\"\"\"\n",
    "  \n",
    "### 1. using iteration\n",
    "class Solution(object):\n",
    "    def preorder(self, root):\n",
    "        \"\"\"\n",
    "        :type root: Node\n",
    "        :rtype: List[int]\n",
    "        \"\"\"\n",
    "        if root is None:\n",
    "            return []\n",
    "        stack =[root] # using stack data structure due to last in first out\n",
    "        output = []\n",
    "        while stack:  \n",
    "            root = stack.pop()\n",
    "            output.append(root.val)\n",
    "            stack.extend(root.children[::-1]) # reverse the children to gaurantee the output order\n",
    "        return output\n",
    "        \n",
    "# Complexity Analysis\n",
    "## Time complexity: O(N)\n",
    "## Space complexity: O(N)"
   ]
  },
  {
   "cell_type": "code",
   "execution_count": 19,
   "metadata": {},
   "outputs": [],
   "source": [
    "### 2. using recursion\n",
    "class Solution(object):\n",
    "    def preorder(self, root):\n",
    "        \"\"\"\n",
    "        :type root: Node\n",
    "        :rtype: List[int]\n",
    "        \"\"\"\n",
    "        if root is None:\n",
    "            return []\n",
    "        output = []\n",
    "        output.append(root.val)  ########\n",
    "        for child in root.children:\n",
    "            output.extend(self.preorder(child))\n",
    "        return output\n",
    "\n",
    "# Complexity Analysis\n",
    "## Time complexity: O(N)\n",
    "## Space complexity: O(1)"
   ]
  },
  {
   "cell_type": "markdown",
   "metadata": {},
   "source": [
    "##### 590. N-ary Tree Postorder Traversal\n",
    "\n",
    "Given an n-ary tree, return the postorder traversal of its nodes' values.\n",
    "\n",
    "For example, given a 3-ary tree:\n",
    "\n",
    " \n",
    "Return its postorder traversal as: [5,6,3,2,4,1].\n",
    "\n",
    " \n",
    "Note:\n",
    "\n",
    "Recursive solution is trivial, could you do it iteratively?"
   ]
  },
  {
   "cell_type": "code",
   "execution_count": 21,
   "metadata": {},
   "outputs": [],
   "source": [
    "\"\"\"\n",
    "# Definition for a Node.\n",
    "class Node(object):\n",
    "    def __init__(self, val, children):\n",
    "        self.val = val\n",
    "        self.children = children\n",
    "\"\"\"\n",
    "class Solution(object):\n",
    "    def postorder(self, root):\n",
    "        \"\"\"\n",
    "        :type root: Node\n",
    "        :rtype: List[int]\n",
    "        \"\"\"\n",
    "        \n",
    "        if root is None:\n",
    "            return []\n",
    "        stack = [root]\n",
    "        output = []\n",
    "        while stack:\n",
    "            node = stack.pop()\n",
    "            output.append(node.val)\n",
    "            stack.extend(node.children)\n",
    "        return output[::-1]\n",
    "        \n",
    "\n",
    "\n"
   ]
  },
  {
   "cell_type": "code",
   "execution_count": 22,
   "metadata": {},
   "outputs": [],
   "source": [
    "class Solution(object):\n",
    "    def postorder(self, root):\n",
    "        \"\"\"\n",
    "        :type root: Node\n",
    "        :rtype: List[int]\n",
    "        \"\"\"\n",
    "        \n",
    "        if root is None:\n",
    "            return []\n",
    "        output = []\n",
    "        for child in root.children:\n",
    "            output.extend(self.postorder(child))\n",
    "        output.append(root.val) ##########\n",
    "        return output\n",
    "    "
   ]
  },
  {
   "cell_type": "code",
   "execution_count": null,
   "metadata": {},
   "outputs": [],
   "source": []
  }
 ],
 "metadata": {
  "kernelspec": {
   "display_name": "Python 3",
   "language": "python",
   "name": "python3"
  },
  "language_info": {
   "codemirror_mode": {
    "name": "ipython",
    "version": 3
   },
   "file_extension": ".py",
   "mimetype": "text/x-python",
   "name": "python",
   "nbconvert_exporter": "python",
   "pygments_lexer": "ipython3",
   "version": "3.6.5"
  }
 },
 "nbformat": 4,
 "nbformat_minor": 2
}
