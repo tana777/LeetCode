{
 "cells": [
  {
   "cell_type": "markdown",
   "metadata": {},
   "source": [
    "##### 917. Reverse Only Letters\n",
    "\n",
    "Given a string S, return the \"reversed\" string where all characters that are not a letter stay in the same place, and all letters reverse their positions. <br>\n",
    "\n",
    "Example 1:<br>\n",
    "Input: \"ab-cd\"<br>\n",
    "Output: \"dc-ba\"<br>\n",
    "\n",
    "Example 2:<br>\n",
    "Input: \"a-bC-dEf-ghIj\"<br>\n",
    "Output: \"j-Ih-gfE-dCba\"<br>\n",
    "\n",
    "Example 3:<br>\n",
    "Input: \"Test1ng-Leet=code-Q!\"<br>\n",
    "Output: \"Qedo1ct-eeLg=ntse-T!\"<br>\n",
    "\n",
    "Note:<br>\n",
    "\n",
    "S.length <= 100<br>\n",
    "33 <= S[i].ASCIIcode <= 122 <br>\n",
    "S doesn't contain \\ or \"<br>"
   ]
  },
  {
   "cell_type": "code",
   "execution_count": 72,
   "metadata": {},
   "outputs": [],
   "source": [
    "class Solution(object):\n",
    "    def reverseOnlyLetters(self, S):\n",
    "        \"\"\"\n",
    "        :type S: str\n",
    "        :rtype: str\n",
    "        \"\"\"\n",
    "        output = []\n",
    "        char=[i for i in range(len(S)) if not S[i].isalpha()]\n",
    "        s = [S[i] for i in range(len(S)) if S[i].isalpha()]\n",
    "        for i in range(len(S)):\n",
    "            if i in char:\n",
    "                output.append(S[i])\n",
    "            else:\n",
    "                output.append(s.pop())\n",
    "        return ''.join(output)\n",
    "        "
   ]
  },
  {
   "cell_type": "code",
   "execution_count": 70,
   "metadata": {},
   "outputs": [],
   "source": [
    "class Solution(object):\n",
    "    def reverseOnlyLetters(self, S):\n",
    "        \"\"\"\n",
    "        :type S: str\n",
    "        :rtype: str\n",
    "        \"\"\"\n",
    "        output = []\n",
    "        char=[c for c in S if c.isalpha()]\n",
    "        for cha in S:\n",
    "            if cha.isalpha():\n",
    "                output.append(char.pop())\n",
    "            else:\n",
    "                output.append(cha)\n",
    "        return ''.join(output)\n",
    "    \n",
    "# Complexity Analysis\n",
    "# Time: O(n) since we go through the element of the string and n is the length of S\n",
    "# Space: O(n)"
   ]
  },
  {
   "cell_type": "code",
   "execution_count": 73,
   "metadata": {},
   "outputs": [
    {
     "data": {
      "text/plain": [
       "'j-Ih-gfE-dCba'"
      ]
     },
     "execution_count": 73,
     "metadata": {},
     "output_type": "execute_result"
    }
   ],
   "source": [
    "s = Solution()\n",
    "S= \"a-bC-dEf-ghIj\"\n",
    "s.reverseOnlyLetters(S)"
   ]
  }
 ],
 "metadata": {
  "kernelspec": {
   "display_name": "Python 3",
   "language": "python",
   "name": "python3"
  },
  "language_info": {
   "codemirror_mode": {
    "name": "ipython",
    "version": 3
   },
   "file_extension": ".py",
   "mimetype": "text/x-python",
   "name": "python",
   "nbconvert_exporter": "python",
   "pygments_lexer": "ipython3",
   "version": "3.6.5"
  }
 },
 "nbformat": 4,
 "nbformat_minor": 2
}
