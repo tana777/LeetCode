{
 "cells": [
  {
   "cell_type": "markdown",
   "metadata": {},
   "source": [
    "##### 686. Repeated String Match\n",
    "\n",
    "Given two strings A and B, find the minimum number of times A has to be repeated such that B is a substring of it. If no such solution, return -1.\n",
    "\n",
    "For example, with A = \"abcd\" and B = \"cdabcdab\".\n",
    "\n",
    "Return 3, because by repeating A three times (“abcdabcdabcd”), B is a substring of it; and B is not a substring of A repeated two times (\"abcdabcd\").\n",
    "\n",
    "Note:\n",
    "The length of A and B will be between 1 and 10000."
   ]
  },
  {
   "cell_type": "code",
   "execution_count": 20,
   "metadata": {},
   "outputs": [],
   "source": [
    "class Solution(object):\n",
    "    def repeatedStringMatch(self, A, B):\n",
    "        \"\"\"\n",
    "        :type A: str\n",
    "        :type B: str\n",
    "        :rtype: int\n",
    "        \"\"\"\n",
    "        lena = len(A)\n",
    "        lenb = len(B)\n",
    "        q = lenb//lena + 3\n",
    "        for i in range(1,q):\n",
    "            if B in A*i:\n",
    "                return i\n",
    "        return -1\n",
    "       \n",
    "# tricky question, if A with repeated several times cannot cover B, then no matter \n",
    "# how many times you repeat, B cannot be a substring of A"
   ]
  },
  {
   "cell_type": "code",
   "execution_count": 21,
   "metadata": {},
   "outputs": [
    {
     "data": {
      "text/plain": [
       "3"
      ]
     },
     "execution_count": 21,
     "metadata": {},
     "output_type": "execute_result"
    }
   ],
   "source": [
    "A = 'abcd'\n",
    "B = 'cdabcdab'\n",
    "s = Solution()\n",
    "s.repeatedStringMatch(A,B)"
   ]
  }
 ],
 "metadata": {
  "kernelspec": {
   "display_name": "Python 3",
   "language": "python",
   "name": "python3"
  },
  "language_info": {
   "codemirror_mode": {
    "name": "ipython",
    "version": 3
   },
   "file_extension": ".py",
   "mimetype": "text/x-python",
   "name": "python",
   "nbconvert_exporter": "python",
   "pygments_lexer": "ipython3",
   "version": "3.6.5"
  }
 },
 "nbformat": 4,
 "nbformat_minor": 2
}
