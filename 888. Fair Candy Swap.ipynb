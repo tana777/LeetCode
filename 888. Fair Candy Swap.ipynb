{
 "cells": [
  {
   "cell_type": "markdown",
   "metadata": {},
   "source": [
    "##### 888. Fair Candy Swap\n",
    "\n",
    "Alice and Bob have candy bars of different sizes: A[i] is the size of the i-th bar of candy that Alice has, and B[j] is the size of the j-th bar of candy that Bob has.<br>\n",
    "Since they are friends, they would like to exchange one candy bar each so that after the exchange, they both have the same total amount of candy.  (The total amount of candy a person has is the sum of the sizes of candy bars they have.)<br>\n",
    "Return an integer array ans where ans[0] is the size of the candy bar that Alice must exchange, and ans[1] is the size of the candy bar that Bob must exchange.<br>\n",
    "If there are multiple answers, you may return any one of them.  It is guaranteed an answer exists.<br>\n",
    "\n",
    " \n",
    "\n",
    "Example 1:<br>\n",
    "Input: A = [1,1], B = [2,2]<br>\n",
    "Output: [1,2]<br>\n",
    "\n",
    "Example 2:<br>\n",
    "Input: A = [1,2], B = [2,3]<br>\n",
    "Output: [1,2]<br>\n",
    "\n",
    "Example 3:<br>\n",
    "Input: A = [2], B = [1,3]<br>\n",
    "Output: [2,3]<br>\n",
    "\n",
    "Example 4:<br>\n",
    "Input: A = [1,2,5], B = [2,4]<br>\n",
    "Output: [5,4]<br>\n",
    "\n",
    "Note:<br>\n",
    "1 <= A.length <= 10000<br>\n",
    "1 <= B.length <= 10000<br>\n",
    "1 <= A[i] <= 100000<br>\n",
    "1 <= B[i] <= 100000<br>\n",
    "It is guaranteed that Alice and Bob have different total amounts of candy.<br>\n",
    "It is guaranteed there exists an answer.<br>"
   ]
  },
  {
   "cell_type": "code",
   "execution_count": 17,
   "metadata": {},
   "outputs": [],
   "source": [
    "class Solution:\n",
    "    def fairCandySwap(self, A, B):\n",
    "        \"\"\"\n",
    "        :type A: List[int]\n",
    "        :type B: List[int]\n",
    "        :rtype: List[int]\n",
    "        \"\"\"\n",
    "        mean = (sum(A)+sum(B))//2\n",
    "        val = mean-sum(A)\n",
    "        setb = set(B)\n",
    "        for i in set(A):\n",
    "            if  i+val in setb:\n",
    "                return [i, i+val]\n",
    "\n",
    "\n",
    "## Complexity Analysis\n",
    "#Time Complexity: O(A.length+B.length).\n",
    "#Space Complexity: O(B.length), the space used by setb. \n",
    "#(We can improve this to min(A.length,B.length) by using an if statement.) "
   ]
  },
  {
   "cell_type": "code",
   "execution_count": 18,
   "metadata": {},
   "outputs": [
    {
     "data": {
      "text/plain": [
       "[1, 2]"
      ]
     },
     "execution_count": 18,
     "metadata": {},
     "output_type": "execute_result"
    }
   ],
   "source": [
    "A = [1,1]; B = [2,2]\n",
    "s = Solution()\n",
    "s.fairCandySwap(A,B)"
   ]
  }
 ],
 "metadata": {
  "kernelspec": {
   "display_name": "Python 3",
   "language": "python",
   "name": "python3"
  },
  "language_info": {
   "codemirror_mode": {
    "name": "ipython",
    "version": 3
   },
   "file_extension": ".py",
   "mimetype": "text/x-python",
   "name": "python",
   "nbconvert_exporter": "python",
   "pygments_lexer": "ipython3",
   "version": "3.6.5"
  }
 },
 "nbformat": 4,
 "nbformat_minor": 2
}
