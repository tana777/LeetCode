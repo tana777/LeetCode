{
 "cells": [
  {
   "cell_type": "markdown",
   "metadata": {},
   "source": [
    "##### 637. Average of Levels in Binary Tree\n",
    "Given a non-empty binary tree, return the average value of the nodes on each level in the form of an array.<br>\n",
    "Example 1:<br>\n",
    "Input:<br>\n",
    "        \n",
    "        3\n",
    "       / \\\n",
    "      9  20\n",
    "        /  \\\n",
    "       15   7\n",
    "Output: [3, 14.5, 11]<br><br>\n",
    "Explanation:<br>\n",
    "The average value of nodes on level 0 is 3,  on level 1 is 14.5, and on level 2 is 11. Hence return [3, 14.5, 11].<br>\n",
    "Note:<br>\n",
    "The range of node's value is in the range of 32-bit signed integer.<br>"
   ]
  },
  {
   "cell_type": "code",
   "execution_count": 1,
   "metadata": {},
   "outputs": [],
   "source": [
    "# Definition for a binary tree node.\n",
    "# class TreeNode:\n",
    "#     def __init__(self, x):\n",
    "#         self.val = x\n",
    "#         self.left = None\n",
    "#         self.right = None\n",
    "\n",
    "class Solution:\n",
    "    def averageOfLevels(self, root):\n",
    "        \"\"\"\n",
    "        :type root: TreeNode\n",
    "        :rtype: List[float]\n",
    "        \"\"\"\n",
    "        que = collections.deque()\n",
    "        output = []\n",
    "        que.append(root)\n",
    "        s = 0\n",
    "        while que:\n",
    "            total = 0\n",
    "            s = len(que)\n",
    "            for i in range(s):\n",
    "                root = que.popleft()\n",
    "                if root.right:\n",
    "                    que.append(root.right)\n",
    "                if root.left:\n",
    "                    que.append(root.left)\n",
    "                total += root.val\n",
    "            output.append(total/s)\n",
    "        return output     \n",
    "    \n",
    "    \n",
    "# using bfs implemented by deque to go through the tree level by level and compute the value\n",
    "# Complexity Analysis\n",
    "# Time: O(n) since we go through each node exactly once\n",
    "#Space: O(m). The size of dequeue can grow upto atmost the maximum number of nodes \n",
    "#at any level in the given binary tree. Here, m refers to the maximum mumber of nodes at any level in the input tree."
   ]
  }
 ],
 "metadata": {
  "kernelspec": {
   "display_name": "Python 3",
   "language": "python",
   "name": "python3"
  },
  "language_info": {
   "codemirror_mode": {
    "name": "ipython",
    "version": 3
   },
   "file_extension": ".py",
   "mimetype": "text/x-python",
   "name": "python",
   "nbconvert_exporter": "python",
   "pygments_lexer": "ipython3",
   "version": "3.6.5"
  }
 },
 "nbformat": 4,
 "nbformat_minor": 2
}
