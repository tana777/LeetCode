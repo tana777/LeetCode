{
 "cells": [
  {
   "cell_type": "markdown",
   "metadata": {},
   "source": [
    "##### 485. Max Consecutive Ones\n",
    "\n",
    "Given a binary array, find the maximum number of consecutive 1s in this array. <br>\n",
    "\n",
    "Example 1:<br>\n",
    "Input: [1,1,0,1,1,1]<br>\n",
    "Output: 3<br>\n",
    "Explanation: The first two digits or the last three digits are consecutive 1s.<br>\n",
    "    The maximum number of consecutive 1s is 3.<br>\n",
    "\n",
    "Note:<br>\n",
    "The input array will only contain 0 and 1.<br>\n",
    "The length of input array is a positive integer and will not exceed 10,000<br>"
   ]
  },
  {
   "cell_type": "code",
   "execution_count": 21,
   "metadata": {},
   "outputs": [],
   "source": [
    "class Solution:\n",
    "    def findMaxConsecutiveOnes(self, nums):\n",
    "        \"\"\"\n",
    "        :type nums: List[int]\n",
    "        :rtype: int\n",
    "        \"\"\"\n",
    "        maxval = 0\n",
    "        curr = 0\n",
    "        for i in nums:\n",
    "            if i == 1:\n",
    "                curr +=1\n",
    "            else:\n",
    "                curr = 0\n",
    "            \n",
    "            maxval = max(curr, maxval)\n",
    "        return maxval\n",
    "            \n",
    "           "
   ]
  },
  {
   "cell_type": "code",
   "execution_count": 22,
   "metadata": {},
   "outputs": [],
   "source": [
    "class Solution:\n",
    "    def findMaxConsecutiveOnes(self, nums):\n",
    "        \"\"\"\n",
    "        :type nums: List[int]\n",
    "        :rtype: int\n",
    "        \"\"\"\n",
    "        numstr = ''.join(map(str,nums))\n",
    "        ones = numstr.split('0')\n",
    "        return len(max(ones))"
   ]
  },
  {
   "cell_type": "code",
   "execution_count": 23,
   "metadata": {},
   "outputs": [
    {
     "data": {
      "text/plain": [
       "4"
      ]
     },
     "execution_count": 23,
     "metadata": {},
     "output_type": "execute_result"
    }
   ],
   "source": [
    "nums=[1,1,1,0,0,1,1,1,1]\n",
    "s = Solution()\n",
    "s.findMaxConsecutiveOnes(nums)"
   ]
  }
 ],
 "metadata": {
  "kernelspec": {
   "display_name": "Python 3",
   "language": "python",
   "name": "python3"
  },
  "language_info": {
   "codemirror_mode": {
    "name": "ipython",
    "version": 3
   },
   "file_extension": ".py",
   "mimetype": "text/x-python",
   "name": "python",
   "nbconvert_exporter": "python",
   "pygments_lexer": "ipython3",
   "version": "3.6.5"
  }
 },
 "nbformat": 4,
 "nbformat_minor": 2
}
