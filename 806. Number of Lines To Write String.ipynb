{
 "cells": [
  {
   "cell_type": "markdown",
   "metadata": {},
   "source": [
    "##### 806. Number of Lines To Write String\n",
    "\n",
    "We are to write the letters of a given string S, from left to right into lines. Each line has maximum width 100 units, and if writing a letter would cause the width of the line to exceed 100 units, it is written on the next line. We are given an array widths, an array where widths[0] is the width of 'a', widths[1] is the width of 'b', ..., and widths[25] is the width of 'z'. <br>\n",
    "Now answer two questions: how many lines have at least one character from S, and what is the width used by the last such line? Return your answer as an integer list of length 2. <br>\n",
    "Example :<br>\n",
    "Input:      <br>\n",
    "widths = [10,10,10,10,10,10,10,10,10,10,10,10,10,10,10,10,10,10,10,10,10,10,10,10,10,10]<br>\n",
    "S = \"abcdefghijklmnopqrstuvwxyz\"<br>\n",
    "Output: [3, 60]<br>\n",
    "Explanation: <br>\n",
    "All letters have the same length of 10. To write all 26 letters,\n",
    "we need two full lines and one line with 60 units.<br>\n",
    "Example :<br>\n",
    "Input: <br>\n",
    "widths = [4,10,10,10,10,10,10,10,10,10,10,10,10,10,10,10,10,10,10,10,10,10,10,10,10,10]<br>\n",
    "S = \"bbbcccdddaaa\"<br>\n",
    "Output: [2, 4]<br>\n",
    "Explanation: <br>\n",
    "All letters except 'a' have the same length of 10, and \n",
    "\"bbbcccdddaa\" will cover 9 * 10 + 2 * 4 = 98 units.\n",
    "For the last 'a', it is written on the second line because\n",
    "there is only 2 units left in the first line.\n",
    "So the answer is 2 lines, plus 4 units in the second line.<br>\n",
    " \n",
    "\n",
    "Note:<br>\n",
    "\n",
    "The length of S will be in the range [1, 1000].<br>\n",
    "S will only contain lowercase letters.<br>\n",
    "widths is an array of length 26.<br>\n",
    "widths[i] will be in the range of [2, 10].<br>\n"
   ]
  },
  {
   "cell_type": "code",
   "execution_count": 2,
   "metadata": {},
   "outputs": [],
   "source": [
    "class Solution(object):\n",
    "    def numberOfLines(self, widths, S):\n",
    "        \"\"\"\n",
    "        :type widths: List[int]\n",
    "        :type S: str\n",
    "        :rtype: List[int]\n",
    "        \"\"\"\n",
    "        letter = [chr(i) for i in range(97,123)]\n",
    "        dic = dict(zip(letter,widths))\n",
    "        each_widths = [dic[s] for s in S]\n",
    "        line = 1\n",
    "        index = 0\n",
    "        for i, char in enumerate(S):\n",
    "            if sum(each_widths[index:i+1]) > 100:\n",
    "                line += 1\n",
    "                index = i\n",
    "        last_width = sum(each_widths[index:])\n",
    "        return line, last_width\n",
    "    \n",
    "    "
   ]
  },
  {
   "cell_type": "code",
   "execution_count": 3,
   "metadata": {},
   "outputs": [],
   "source": [
    "class Solution(object):\n",
    "    def numberOfLines(self, widths, S):\n",
    "        lines, width = 1, 0\n",
    "        for c in S:\n",
    "            w = widths[ord(c) - ord('a')]\n",
    "            width += w\n",
    "            if width > 100:\n",
    "                lines += 1\n",
    "                width = w\n",
    "\n",
    "        return lines, width"
   ]
  },
  {
   "cell_type": "code",
   "execution_count": 4,
   "metadata": {},
   "outputs": [
    {
     "data": {
      "text/plain": [
       "(3, 60)"
      ]
     },
     "execution_count": 4,
     "metadata": {},
     "output_type": "execute_result"
    }
   ],
   "source": [
    "widths = [10,10,10,10,10,10,10,10,10,10,10,10,10,10,10,10,10,10,10,10,10,10,10,10,10,10]\n",
    "S = \"abcdefghijklmnopqrstuvwxyz\"   \n",
    "s = Solution()\n",
    "s.numberOfLines(widths,S)"
   ]
  }
 ],
 "metadata": {
  "kernelspec": {
   "display_name": "Python 3",
   "language": "python",
   "name": "python3"
  },
  "language_info": {
   "codemirror_mode": {
    "name": "ipython",
    "version": 3
   },
   "file_extension": ".py",
   "mimetype": "text/x-python",
   "name": "python",
   "nbconvert_exporter": "python",
   "pygments_lexer": "ipython3",
   "version": "3.6.5"
  }
 },
 "nbformat": 4,
 "nbformat_minor": 2
}
