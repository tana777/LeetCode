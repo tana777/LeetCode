{
 "cells": [
  {
   "cell_type": "markdown",
   "metadata": {},
   "source": [
    "Write a class RecentCounter to count recent requests.\n",
    "\n",
    "It has only one method: ping(int t), where t represents some time in milliseconds.\n",
    "\n",
    "Return the number of pings that have been made from 3000 milliseconds ago until now.\n",
    "\n",
    "Any ping with time in [t - 3000, t] will count, including the current ping.\n",
    "\n",
    "It is guaranteed that every call to ping uses a strictly larger value of t than before.\n",
    "\n",
    " \n",
    "\n",
    "Example 1:\n",
    "\n",
    "Input: inputs = [\"RecentCounter\",\"ping\",\"ping\",\"ping\",\"ping\"], inputs = [[],[1],[100],[3001],[3002]]\n",
    "    \n",
    "Output: [null,1,2,3,3]\n",
    " \n",
    "\n",
    "Note:\n",
    "\n",
    "Each test case will have at most 10000 calls to ping.\n",
    "\n",
    "Each test case will call ping with strictly increasing values of t.\n",
    "\n",
    "Each call to ping will have 1 <= t <= 10^9.\n",
    " "
   ]
  },
  {
   "cell_type": "code",
   "execution_count": 3,
   "metadata": {},
   "outputs": [],
   "source": [
    "## using deque \n",
    "class RecentCounter(object):\n",
    "    def __init__(self):\n",
    "        self.q = collections.deque() ## make a new empty deque \n",
    "\n",
    "    def ping(self, t):\n",
    "        self.q.append(t)  ## add time t to deque\n",
    "        while self.q[0] < t-3000:## our duty is to return recent request and the threshold is t-3000, so before that we do not need to count.\n",
    "            self.q.popleft() #return and remove the leftmost item which is earlier than t-3000\n",
    "        return len(self.q) # return the length of deque\n",
    "    \n",
    "## Complexity analysis\n",
    "### Time: O(t)\n",
    "### Space: O(t)"
   ]
  },
  {
   "cell_type": "code",
   "execution_count": 4,
   "metadata": {},
   "outputs": [],
   "source": [
    "## using binary search\n",
    "class RecentCounter(object):\n",
    "    def __init__(self):\n",
    "        self.reque = []\n",
    "    def ping(self, t):\n",
    "        self.reque.append(t)  ## add time t to request list\n",
    "        cur_req = len(self.reque) \n",
    "        prev_req = bisect.bisect_left(self.reque, t - 3000) #bisect_left() # help us get the first index of element less than t-3000\n",
    "        return cur_req - prev_req\n",
    "\n",
    "## Complexity analysis\n",
    "### Time: O(t*log(t))\n",
    "### Space: O(t)\n",
    "\n",
    "## Problem guaranteed that every call to ping uses a strictly larger value of t than before.\n",
    "## It's a good idea to use binary search. If we find the index of call less than t-3000, then the recent request can be obatined \n",
    "## by total length subtracting length less than t-3000.\n",
    "\n",
    "# bisect.bisect_left(a, x, lo=0, hi=len(a))\n",
    "#Locate the insertion point for x in a to maintain sorted order. \n",
    "#The parameters lo and hi may be used to specify a subset of the list which should be considered; \n",
    "#by default the entire list is used. If x is already present in a, \n",
    "#the insertion point will be before (to the left of) any existing entries. \n",
    "#The return value is suitable for use as the first parameter to list.insert() \n",
    "#assuming that a is already sorted.\n",
    "\n",
    "\n"
   ]
  },
  {
   "cell_type": "code",
   "execution_count": null,
   "metadata": {},
   "outputs": [],
   "source": []
  }
 ],
 "metadata": {
  "kernelspec": {
   "display_name": "Python 3",
   "language": "python",
   "name": "python3"
  },
  "language_info": {
   "codemirror_mode": {
    "name": "ipython",
    "version": 3
   },
   "file_extension": ".py",
   "mimetype": "text/x-python",
   "name": "python",
   "nbconvert_exporter": "python",
   "pygments_lexer": "ipython3",
   "version": "3.6.5"
  }
 },
 "nbformat": 4,
 "nbformat_minor": 2
}
