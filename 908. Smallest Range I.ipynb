{
 "cells": [
  {
   "cell_type": "markdown",
   "metadata": {},
   "source": [
    "##### 908. Smallest Range I\n",
    "\n",
    "Given an array A of integers, for each integer A[i] we may choose any x with -K <= x <= K, and add x to A[i].<br>\n",
    "After this process, we have some array B.<br>\n",
    "Return the smallest possible difference between the maximum value of B and the minimum value of B.\n",
    "     \n",
    "     Example 1:\n",
    "\n",
    "Input: A = [1], K = 0<br>\n",
    "Output: 0<br>\n",
    "Explanation: B = [1]<br>\n",
    "\n",
    "    Example 2:\n",
    "\n",
    "Input: A = [0,10], K = 2<br>\n",
    "Output: 6<br>\n",
    "Explanation: B = [2,8]<br>\n",
    "\n",
    "    Example 3:\n",
    "\n",
    "Input: A = [1,3,6], K = 3<br>\n",
    "Output: 0<br>\n",
    "Explanation: B = [3,3,3] or B = [4,4,4]<br>\n",
    " \n",
    "\n",
    "Note:\n",
    "\n",
    "1 <= A.length <= 10000<br>\n",
    "0 <= A[i] <= 10000<br>\n",
    "0 <= K <= 10000<br>"
   ]
  },
  {
   "cell_type": "code",
   "execution_count": 4,
   "metadata": {},
   "outputs": [],
   "source": [
    "class Solution:\n",
    "    def smallestRangeI(self, A, K):\n",
    "        \"\"\"\n",
    "        :type A: List[int]\n",
    "        :type K: int\n",
    "        :rtype: int\n",
    "        \"\"\"\n",
    "        if max(A) - min(A) > 2*K:\n",
    "            return(max(A)-min(A)-2*K)\n",
    "        else:\n",
    "            return 0\n",
    "        \n",
    "        \n",
    "        \n",
    "### In general, it has two different case as follow.        \n",
    "###---(---*---)--------(---*---)---    max - min > 2k\n",
    "#       min               max\n",
    "\n",
    "###---(---*--(-)--*---)---    max - min <= 2k \n",
    "#       min               max\n",
    "\n",
    "# Complexity Analysis\n",
    "## Time: O(n), where n is the input size of A\n",
    "## Space: O(1)"
   ]
  },
  {
   "cell_type": "code",
   "execution_count": 5,
   "metadata": {},
   "outputs": [
    {
     "data": {
      "text/plain": [
       "0"
      ]
     },
     "execution_count": 5,
     "metadata": {},
     "output_type": "execute_result"
    }
   ],
   "source": [
    "A = [1,3,6]; K = 3\n",
    "s = Solution()\n",
    "s.smallestRangeI(A,K)"
   ]
  }
 ],
 "metadata": {
  "kernelspec": {
   "display_name": "Python 3",
   "language": "python",
   "name": "python3"
  },
  "language_info": {
   "codemirror_mode": {
    "name": "ipython",
    "version": 3
   },
   "file_extension": ".py",
   "mimetype": "text/x-python",
   "name": "python",
   "nbconvert_exporter": "python",
   "pygments_lexer": "ipython3",
   "version": "3.6.5"
  }
 },
 "nbformat": 4,
 "nbformat_minor": 2
}
