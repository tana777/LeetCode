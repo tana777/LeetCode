{
 "cells": [
  {
   "cell_type": "markdown",
   "metadata": {},
   "source": [
    "\n",
    "On a N * N grid, we place some 1 * 1 * 1 cubes that are axis-aligned with the x, y, and z axes.\n",
    "\n",
    "Each value v = grid[i][j] represents a tower of v cubes placed on top of grid cell (i, j).\n",
    "\n",
    "Now we view the projection of these cubes onto the xy, yz, and zx planes.\n",
    "\n",
    "A projection is like a shadow, that maps our 3 dimensional figure to a 2 dimensional plane. \n",
    "\n",
    "Here, we are viewing the \"shadow\" when looking at the cubes from the top, the front, and the side.\n",
    "\n",
    "Return the total area of all three projections.\n",
    "\n",
    " \n",
    "\n",
    "Example 1:\n",
    "\n",
    "Input: [[2]]\n",
    "Output: 5\n",
    "Example 2:\n",
    "\n",
    "Input: [[1,2],[3,4]]\n",
    "Output: 17\n",
    "    \n",
    "Explanation: \n",
    "Here are the three projections (\"shadows\") of the shape made with each axis-aligned plane."
   ]
  },
  {
   "cell_type": "code",
   "execution_count": 86,
   "metadata": {},
   "outputs": [],
   "source": [
    "class Solution:\n",
    "    def projectionArea(self, grid):\n",
    "        \"\"\"\n",
    "        :type grid: List[List[int]]\n",
    "        :rtype: int\n",
    "        \"\"\"\n",
    "        \n",
    "        extend = [grid[i][j] for i in range(len(grid)) for j in range(len(grid[0]))]\n",
    "        top = len([i for i in extend if i!=0])\n",
    "        right = sum([max(extend[i*len(grid[0]):(i+1)*len(grid[0])]) for i in range(len(grid))])\n",
    "        front = sum([max(extend[i::len(grid[0])]) for i in range(len(grid[0]))])\n",
    "        return top+right+front"
   ]
  },
  {
   "cell_type": "code",
   "execution_count": 88,
   "metadata": {},
   "outputs": [],
   "source": [
    "### more readable\n",
    "class Solution:\n",
    "    def projectionArea(self, grid):\n",
    "        \"\"\"\n",
    "        :type grid: List[List[int]]\n",
    "        :rtype: int\n",
    "        \"\"\"\n",
    "        N = len(gird)\n",
    "        n = len(grid[0])\n",
    "        extend = [grid[i][j] for i in range(N) for j in range(n)]\n",
    "        top = len([i for i in extend if i!=0])\n",
    "        right = sum([max(extend[i*n:(i+1)*n]) for i in range(N)])\n",
    "        front = sum([max(extend[i::n]) for i in range(n)])\n",
    "        return top+right+front\n",
    "\n",
    "#Complexity Analysis\n",
    "#Time Complexity: O(N^2), where N is the length of grid.\n",
    "#Space Complexity: O(1)."
   ]
  },
  {
   "cell_type": "code",
   "execution_count": 89,
   "metadata": {},
   "outputs": [
    {
     "data": {
      "text/plain": [
       "5"
      ]
     },
     "execution_count": 89,
     "metadata": {},
     "output_type": "execute_result"
    }
   ],
   "source": [
    "#grid=[[1,2],[3,4]]\n",
    "grid =[[2]]\n",
    "s = Solution()\n",
    "s.projectionArea(grid)\n"
   ]
  }
 ],
 "metadata": {
  "kernelspec": {
   "display_name": "Python 3",
   "language": "python",
   "name": "python3"
  },
  "language_info": {
   "codemirror_mode": {
    "name": "ipython",
    "version": 3
   },
   "file_extension": ".py",
   "mimetype": "text/x-python",
   "name": "python",
   "nbconvert_exporter": "python",
   "pygments_lexer": "ipython3",
   "version": "3.6.5"
  }
 },
 "nbformat": 4,
 "nbformat_minor": 2
}
