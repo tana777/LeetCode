{
 "cells": [
  {
   "cell_type": "markdown",
   "metadata": {},
   "source": [
    "##### 876. Middle of the Linked List\n",
    "\n",
    "Given a non-empty, singly linked list with head node head, return a middle node of linked list.<br>\n",
    "If there are two middle nodes, return the second middle node.<br>\n",
    "\n",
    "Example 1:<br>\n",
    "Input: [1,2,3,4,5]<br>\n",
    "Output: Node 3 from this list (Serialization: [3,4,5])<br>\n",
    "The returned node has value 3.  (The judge's serialization of this node is [3,4,5]).<br>\n",
    "Note that we returned a ListNode object ans, such that:<br>\n",
    "ans.val = 3, ans.next.val = 4, ans.next.next.val = 5, and ans.next.next.next = NULL.<br>\n",
    "\n",
    "Example 2:<br>\n",
    "\n",
    "Input: [1,2,3,4,5,6]<br>\n",
    "Output: Node 4 from this list (Serialization: [4,5,6])<br>\n",
    "Since the list has two middle nodes with values 3 and 4, we return the second one.<br>\n",
    "\n",
    "Note:<br>\n",
    "The number of nodes in the given list will be between 1 and 100.<br>"
   ]
  },
  {
   "cell_type": "code",
   "execution_count": null,
   "metadata": {},
   "outputs": [],
   "source": []
  },
  {
   "cell_type": "code",
   "execution_count": 17,
   "metadata": {},
   "outputs": [],
   "source": [
    "# Definition for singly-linked list.\n",
    "# class ListNode:\n",
    "#     def __init__(self, x):\n",
    "#         self.val = x\n",
    "#         self.next = None\n",
    "\n",
    "class Solution:\n",
    "    def middleNode(self, head):\n",
    "        \"\"\"\n",
    "        :type head: ListNode\n",
    "        :rtype: ListNode\n",
    "        \"\"\"\n",
    "        index = head\n",
    "        middle = head\n",
    "        i = 0\n",
    "        while index:\n",
    "            index = index.next\n",
    "            i = i + 1\n",
    "        if i%2 ==0:\n",
    "            m = i\n",
    "        else:\n",
    "            m = int(i+1)\n",
    "        for j in range(int(m/2)-int(i%2)):\n",
    "            middle = middle.next\n",
    "        return middle,middle.val\n",
    "\n",
    "# Complexity Analysis\n",
    "## Time: O(n)\n",
    "## Space: "
   ]
  },
  {
   "cell_type": "code",
   "execution_count": 9,
   "metadata": {},
   "outputs": [],
   "source": [
    "class Solution(object):\n",
    "    def middleNode(self, head):\n",
    "        A = [head]\n",
    "        while A[-1].next:        ## reverse because the last node has next node\n",
    "            A.append(A[-1].next)\n",
    "        return A[len(A) // 2]"
   ]
  },
  {
   "cell_type": "code",
   "execution_count": 10,
   "metadata": {},
   "outputs": [],
   "source": [
    "class Solution(object):\n",
    "    def middleNode(self, head):\n",
    "        slow = fast = head\n",
    "        while fast and fast.next:\n",
    "            slow = slow.next\n",
    "            fast = fast.next.next\n",
    "        return slow\n",
    "    \n",
    "\n",
    "###- - - the third step here - - - - - - - -\n",
    "#slow:\n",
    "###-- -- -- the third step here -- -- -- --\n",
    "#fast:\n",
    "# We can find the fast is always twice faster than slow, when slow arrives the middle, \n",
    "# the fast arrives the end."
   ]
  },
  {
   "cell_type": "code",
   "execution_count": 11,
   "metadata": {},
   "outputs": [],
   "source": [
    "#Definition for singly-linked list.\n",
    "class ListNode:\n",
    "    def __init__(self, x):\n",
    "         self.val = x\n",
    "         self.next = None"
   ]
  },
  {
   "cell_type": "code",
   "execution_count": 33,
   "metadata": {},
   "outputs": [],
   "source": [
    "linked = ListNode(1)\n",
    "n1 = ListNode(2)\n",
    "linked.next = n1\n",
    "n2 = ListNode(3)\n",
    "n1.next = n2\n",
    "n3 = ListNode(4)\n",
    "n2.next = n3\n",
    "n4 = ListNode(5)\n",
    "n3.next = n4"
   ]
  },
  {
   "cell_type": "code",
   "execution_count": 34,
   "metadata": {},
   "outputs": [
    {
     "data": {
      "text/plain": [
       "(<__main__.ListNode at 0x109d021d0>, 3)"
      ]
     },
     "execution_count": 34,
     "metadata": {},
     "output_type": "execute_result"
    }
   ],
   "source": [
    "s = Solution()\n",
    "s.middleNode(linked)"
   ]
  }
 ],
 "metadata": {
  "kernelspec": {
   "display_name": "Python 3",
   "language": "python",
   "name": "python3"
  },
  "language_info": {
   "codemirror_mode": {
    "name": "ipython",
    "version": 3
   },
   "file_extension": ".py",
   "mimetype": "text/x-python",
   "name": "python",
   "nbconvert_exporter": "python",
   "pygments_lexer": "ipython3",
   "version": "3.6.5"
  }
 },
 "nbformat": 4,
 "nbformat_minor": 2
}
