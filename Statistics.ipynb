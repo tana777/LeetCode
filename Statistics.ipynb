{
 "cells": [
  {
   "cell_type": "markdown",
   "metadata": {},
   "source": [
    "Statistics\n",
    "- tool\n",
    "- help us make sense of the vast amount of information in the world\n",
    "- help us filter the loads of data that came at us everday\n",
    "- **descriptive stats** -- describe what the data show, they include things like where the middle of the data is, and measure of central tendency and measure of how spread out of the data. They compress and summerize the data to give us more useful information and make data more digestible for us.\n",
    "- **inferential stats** -- make conclusions that extend beyond the data we have in hand and help us make decision about data when there's an uncertainty. For example, you have a basket of candies, some are red, some are yellow and so on. You want to know how many of each color you have, then you can count them one by one until you get the descriptive stats. But it is time consuming. Who has time for that candy count? Or you could grab a handful of candy, and count just those you have pulled out and use descriptive statistics. If your candy was mixed pretty evenly and you grab the enough candy, you could use inferential statistics on that sample to estimate the content of the entire candy group. It can do much more complicated work for us and we can use it to test an idea on hypothesis. Like answering whether people in the US under the age of 30 eat more fast food than people over 30. We don't survey every person to answer that question. It gives us the ability to test how likely it is that two populations we sampled actually have different performance increases.\n"
   ]
  },
  {
   "cell_type": "markdown",
   "metadata": {},
   "source": [
    "Bayesian data analysis\n",
    "1. what it is?<br>\n",
    " prior + generative model + data --- posterior\n",
    " \n",
    "2. why use it?\n",
    " - make model more flexible\n",
    " - add extra information to your data, like expert opinion\n",
    " - result retains the uncertainty of the parameters, which is useful in prediction and decision analysis.\n",
    " \n",
    " prior --- uniform dist(non-informative dist), informative dist\n",
    "  \n",
    " parameter -- $\\theta$\n",
    " \n",
    " generative model -- binomial(16,$\\theta$)\n",
    " \n",
    " simulated data\n",
    " \n",
    "3. Markov Chain Monte Carlo\n",
    "Instead of exaustive searching the parameter combination space, which takes a long time and even cannot do that, MCMC samples the probability distribution by walking around in the parameter space.\n",
    "It'a main reason Bayes becomes popular again.\n",
    "- methods: Metroplis hastings/ Gibbs Sampling"
   ]
  },
  {
   "cell_type": "code",
   "execution_count": null,
   "metadata": {},
   "outputs": [],
   "source": []
  }
 ],
 "metadata": {
  "kernelspec": {
   "display_name": "Python 3",
   "language": "python",
   "name": "python3"
  },
  "language_info": {
   "codemirror_mode": {
    "name": "ipython",
    "version": 3
   },
   "file_extension": ".py",
   "mimetype": "text/x-python",
   "name": "python",
   "nbconvert_exporter": "python",
   "pygments_lexer": "ipython3",
   "version": "3.6.5"
  }
 },
 "nbformat": 4,
 "nbformat_minor": 2
}
