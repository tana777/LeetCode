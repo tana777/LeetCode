{
 "cells": [
  {
   "cell_type": "markdown",
   "metadata": {},
   "source": [
    "Statistics\n",
    "- tool\n",
    "- help us make sense of the vast amount of information in the world\n",
    "- help us filter the loads of data that came at us everday\n",
    "- **descriptive stats** -- describe what the data show, they include things like where the middle of the data is, and measure of central tendency and measure of how spread out of the data. They compress and summerize the data to give us more useful information and make data more digestible for us.\n",
    "- **inferential stats** -- make conclusions that extend beyond the data we have in hand and help us make decision about data when there's an uncertainty. For example, you have a basket of candies, some are red, some are yellow and so on. You want to know how many of each color you have, then you can count them one by one until you get the descriptive stats. But it is time consuming. Who has time for that candy count? Or you could grab a handful of candy, and count just those you have pulled out and use descriptive statistics. If your candy was mixed pretty evenly and you grab the enough candy, you could use inferential statistics on that sample to estimate the content of the entire candy group. It can do much more complicated work for us and we can use it to test an idea on hypothesis. Like answering whether people in the US under the age of 30 eat more fast food than people over 30. We don't survey every person to answer that question. It gives us the ability to test how likely it is that two populations we sampled actually have different performance increases.\n"
   ]
  },
  {
   "cell_type": "markdown",
   "metadata": {},
   "source": [
    "Bayesian data analysis\n",
    "1. what it is?<br>\n",
    " prior + generative model + data --- posterior\n",
    " \n",
    "2. why use it?\n",
    " - make model more flexible\n",
    " - add extra information to your data, like expert opinion\n",
    " - result retains the uncertainty of the parameters, which is useful in prediction and decision analysis.\n",
    " \n",
    " prior --- uniform dist(non-informative dist), informative dist\n",
    "  \n",
    " parameter -- $\\theta$\n",
    " \n",
    " generative model -- binomial(16,$\\theta$)\n",
    " \n",
    " simulated data\n",
    " \n",
    "3. Markov Chain Monte Carlo\n",
    "Instead of exaustive searching the parameter combination space, which takes a long time and even cannot do that, MCMC samples the probability distribution by walking around in the parameter space.\n",
    "It'a main reason Bayes becomes popular again.\n",
    "- methods: Metroplis hastings/ Gibbs Sampling"
   ]
  },
  {
   "cell_type": "markdown",
   "metadata": {},
   "source": [
    "probability\n",
    "\n",
    "Basic Probability Definitions and Set Operations\n",
    "1. outcome\n",
    "2. sample space\n",
    "3. probability\n",
    "4. event\n",
    "5. union, intersection, compliment\n",
    "6. mutually exclusive\n",
    "7. Random variable: A function that maps each outcome (co) in the sample space (Q) into the set of real numbers."
   ]
  },
  {
   "cell_type": "markdown",
   "metadata": {},
   "source": [
    "#### Coin toss game\n",
    "Two gamblers are playing a coin toss game. Gambler A has (n +1) fair coins; B has n fair coins.What is the probability that A will have more heads than B if both flip all their coins?\n",
    "\n",
    "\n",
    "I want to start with a simple concrete example to help me understand the question.\n",
    "n = 1 -- A: coin, coin B: coin\n",
    "For the first toss, we have three possible outcomes:\n",
    "1. A with head B with tail  p1\n",
    "2. B with head A with tail  p1\n",
    "3. A and B both head p2\n",
    "2*p1(symmetric) + p2 = 1\n",
    "The second coin only works for the third case, if it is head, then A will win. The prob of head is 0.5.\n",
    "thus the prob that A will have more heads should be p1 + 0.5*p2 = p1 +0.5*(1-2*p1) = 0.5\n",
    "We could continuelly consider in this way and get the same result.\n"
   ]
  },
  {
   "cell_type": "code",
   "execution_count": 47,
   "metadata": {},
   "outputs": [],
   "source": [
    "import random\n",
    "def cointossgame(n,m):\n",
    "    '''\n",
    "    type n: int, the number of fair coins of B\n",
    "    type m: int, simulation times\n",
    "    rtype: float, probability\n",
    "    '1': head\n",
    "    '0': tail\n",
    "    '''\n",
    "\n",
    "    total = 0\n",
    "    for time in range(m):\n",
    "        resultA=[]\n",
    "        resultB=[]\n",
    "        for toss in range(n):\n",
    "            if random.random() >=0.5:\n",
    "                resultA.append(1)\n",
    "            else:\n",
    "                resultA.append(0)\n",
    "            if random.random() >=0.5:\n",
    "                resultB.append(1)\n",
    "            else:\n",
    "                resultB.append(0)\n",
    "        if random.random() >=0.5:\n",
    "            resultA.append(1)\n",
    "        else:\n",
    "            resultA.append(0)\n",
    "        if resultA.count(1) > resultB.count(1):\n",
    "            total += 1\n",
    "    return total/m"
   ]
  },
  {
   "cell_type": "code",
   "execution_count": 48,
   "metadata": {},
   "outputs": [
    {
     "data": {
      "text/plain": [
       "0.4932"
      ]
     },
     "execution_count": 48,
     "metadata": {},
     "output_type": "execute_result"
    }
   ],
   "source": [
    "cointossgame(20,10000)"
   ]
  },
  {
   "cell_type": "markdown",
   "metadata": {},
   "source": [
    "Card game\n",
    "\n",
    "A casino offers a simple card game. There are 52 cards in a deck with 4 cards for each  value 2, 3, 4, 5,6, 7,8, 9,10, J, 0, K, A.(jack queen king ace) Each time the cards are thoroughly shuffled\n",
    "(so each card has equal probability of being selected). You pick up a card from the deck and the dealer picks another one without replacement.If you have a larger number,you win;if the numbers are equal or yours is smaller,the house wins—as in all other casinos, the house always has better odds of winning. What is your probability of winning?"
   ]
  },
  {
   "cell_type": "markdown",
   "metadata": {},
   "source": [
    "solution1:\n",
    "if my number is large, i win; if it is equal or smaller than the house, i lose.\n",
    "2 4/52 = 1/13 lose <br>\n",
    "3 1/13 win prob: 4/51<br>\n",
    "4 1/13 win prob: 8/51<br>\n",
    "5 1/13 win prob: 12/51<br>\n",
    "6 ---<br>\n",
    "7 ---<br>\n",
    "8 ---<br>\n",
    "9 ---<br>\n",
    "10 ---<br>\n",
    "J ---<br>\n",
    "Q ---<br>\n",
    "K ---<br>\n",
    "A 1/13 win prob 51-4/51<br>\n",
    "prob = $\\frac{1}{13}(\\frac{4}{51} + \\frac{8}{51} + ... + \\frac{48}{51}$)\n",
    "=  $\\frac{1}{13}* \\frac{(4+48)*12}{51*2} =\\frac{8}{17} $\n",
    "\n",
    "solution2:\n",
    "There are three possible outcomes:\n",
    "1. Your number is greater than house.\n",
    "2. Numbers are equal.\n",
    "3. House number is greater than yours.\n",
    "\n",
    "obviously, the first case and the third case are symmetric and assume probability with px.\n",
    "Then, we only need to focus on the second case. You pick up the same number. Assume you random pick one card with prob 1/13, then among the rest 51 cards, there are three cards the same as you, so the probability is 3/51. so we have one equation 2*px + 3/51 = 1 which gives us px is 8/17."
   ]
  },
  {
   "cell_type": "code",
   "execution_count": null,
   "metadata": {},
   "outputs": [],
   "source": []
  }
 ],
 "metadata": {
  "kernelspec": {
   "display_name": "Python 3",
   "language": "python",
   "name": "python3"
  },
  "language_info": {
   "codemirror_mode": {
    "name": "ipython",
    "version": 3
   },
   "file_extension": ".py",
   "mimetype": "text/x-python",
   "name": "python",
   "nbconvert_exporter": "python",
   "pygments_lexer": "ipython3",
   "version": "3.6.5"
  }
 },
 "nbformat": 4,
 "nbformat_minor": 2
}
