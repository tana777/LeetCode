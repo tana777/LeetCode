{
 "cells": [
  {
   "cell_type": "markdown",
   "metadata": {},
   "source": [
    "##### 788. Rotated Digits\n",
    "\n",
    "\n",
    "X is a good number if after rotating each digit individually by 180 degrees, we get a valid number that is different from X.  Each digit must be rotated - we cannot choose to leave it alone.<br>\n",
    "\n",
    "A number is valid if each digit remains a digit after rotation. 0, 1, and 8 rotate to themselves; 2 and 5 rotate to each other; 6 and 9 rotate to each other, and the rest of the numbers do not rotate to any other number and become invalid.\n",
    "\n",
    "Now given a positive number N, how many numbers X from 1 to N are good?\n",
    "\n",
    "Example:<br><br>\n",
    "Input: 10<br>\n",
    "Output: 4<br>\n",
    "Explanation:<br> \n",
    "There are four good numbers in the range [1, 10] : 2, 5, 6, 9.<br>\n",
    "Note that 1 and 10 are not good numbers, since they remain unchanged after rotating.<br>\n",
    "Note:<br>\n",
    "\n",
    "N  will be in range [1, 10000]."
   ]
  },
  {
   "cell_type": "code",
   "execution_count": 1,
   "metadata": {},
   "outputs": [],
   "source": [
    "class Solution:\n",
    "    def rotatedDigits(self, N):\n",
    "        \"\"\"\n",
    "        :type N: int\n",
    "        :rtype: int\n",
    "        \"\"\"\n",
    "        setn = {'0','1','8'}\n",
    "        sety = {'2','5','6','9'}\n",
    "        total = 0\n",
    "        for i in range(1,N+1):\n",
    "            n, y = 0, 0\n",
    "            for j in str(i):\n",
    "                if j in setn:\n",
    "                    n +=1\n",
    "                if j in sety:\n",
    "                    y +=1\n",
    "                if n+y == len(str(i)) and n<len(str(i)):\n",
    "                    total += 1\n",
    "        return total"
   ]
  },
  {
   "cell_type": "code",
   "execution_count": 2,
   "metadata": {},
   "outputs": [
    {
     "data": {
      "text/plain": [
       "40"
      ]
     },
     "execution_count": 2,
     "metadata": {},
     "output_type": "execute_result"
    }
   ],
   "source": [
    "s = Solution()\n",
    "s.rotatedDigits(100)"
   ]
  }
 ],
 "metadata": {
  "kernelspec": {
   "display_name": "Python 3",
   "language": "python",
   "name": "python3"
  },
  "language_info": {
   "codemirror_mode": {
    "name": "ipython",
    "version": 3
   },
   "file_extension": ".py",
   "mimetype": "text/x-python",
   "name": "python",
   "nbconvert_exporter": "python",
   "pygments_lexer": "ipython3",
   "version": "3.6.5"
  }
 },
 "nbformat": 4,
 "nbformat_minor": 2
}
