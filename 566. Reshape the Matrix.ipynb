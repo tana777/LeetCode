{
 "cells": [
  {
   "cell_type": "markdown",
   "metadata": {},
   "source": [
    "##### 566. Reshape the Matrix\n",
    "\n",
    "\n",
    "In MATLAB, there is a very useful function called 'reshape', which can reshape a matrix into a new one with different size but keep its original data.<br>\n",
    "You're given a matrix represented by a two-dimensional array, and two positive integers r and c representing the row number and column number of the wanted reshaped matrix, respectively.<br>\n",
    "The reshaped matrix need to be filled with all the elements of the original matrix in the same row-traversing order as they were.<br>\n",
    "If the 'reshape' operation with given parameters is possible and legal, output the new reshaped matrix; Otherwise, output the original matrix.<br>\n",
    "Example 1:<br>\n",
    "Input: <br>\n",
    "nums = <br>\n",
    "[[1,2],<br>\n",
    " [3,4]]<br>\n",
    "r = 1, c = 4<br>\n",
    "Output: <br>\n",
    "[[1,2,3,4]]<br>\n",
    "Explanation:<br>\n",
    "The row-traversing of nums is [1,2,3,4]. The new reshaped matrix is a 1 * 4 matrix, fill it row by row by using the previous list.<br>\n",
    "Example 2:<br>\n",
    "Input: <br>\n",
    "nums = <br>\n",
    "[[1,2],<br>\n",
    " [3,4]]<br>\n",
    "r = 2, c = 4<br>\n",
    "Output: <br>\n",
    "[[1,2],<br>\n",
    " [3,4]]<br>\n",
    " \n",
    "Explanation: <br>\n",
    "There is no way to reshape a 2$*$2 matrix to a 2 $*$ 4 matrix. So output the original matrix.<br>\n",
    "Note:<br>\n",
    "The height and width of the given matrix is in range [1, 100].<br>\n",
    "The given r and c are all positive.<br>"
   ]
  },
  {
   "cell_type": "code",
   "execution_count": 1,
   "metadata": {},
   "outputs": [],
   "source": [
    "class Solution:\n",
    "    def matrixReshape(self, nums, r, c):\n",
    "        \"\"\"\n",
    "        :type nums: List[List[int]]\n",
    "        :type r: int\n",
    "        :type c: int\n",
    "        :rtype: List[List[int]]\n",
    "        \"\"\"\n",
    " \n",
    "        row = len(nums)\n",
    "        col = len(nums[0])\n",
    "        if row*col != r*c:\n",
    "            return nums\n",
    "        ## 1. unpack to one row\n",
    "        extend = [nums[i][j] for i in range(row) for j in range(col)]\n",
    "        # extend = [ a for b in nums for a in b]\n",
    "        ## 2. slice\n",
    "        return [extend[i*c : i*c+c] for i in range(r)]\n",
    "        \n",
    "        \n",
    "## Complexity Analysis\n",
    "# Time complexity : O(m*n) Since we traverse the entire matrix of size m*n once only.\n",
    "# Here, mand n refers to the number of rows and columns in the given matrix.\n",
    "\n",
    "# Space complexity : O(m*n). The resultant matrix of size m*n is used."
   ]
  },
  {
   "cell_type": "code",
   "execution_count": 6,
   "metadata": {},
   "outputs": [
    {
     "data": {
      "text/plain": [
       "[[1, 2], [3, 4]]"
      ]
     },
     "execution_count": 6,
     "metadata": {},
     "output_type": "execute_result"
    }
   ],
   "source": [
    "nums = [[1,2],[3,4]]\n",
    "r = 2; c = 4\n",
    "s = Solution()\n",
    "s.matrixReshape(nums,r,c)"
   ]
  }
 ],
 "metadata": {
  "kernelspec": {
   "display_name": "Python 3",
   "language": "python",
   "name": "python3"
  },
  "language_info": {
   "codemirror_mode": {
    "name": "ipython",
    "version": 3
   },
   "file_extension": ".py",
   "mimetype": "text/x-python",
   "name": "python",
   "nbconvert_exporter": "python",
   "pygments_lexer": "ipython3",
   "version": "3.6.5"
  }
 },
 "nbformat": 4,
 "nbformat_minor": 2
}
