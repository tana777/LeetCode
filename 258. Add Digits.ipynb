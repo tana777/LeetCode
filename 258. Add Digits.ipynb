{
 "cells": [
  {
   "cell_type": "markdown",
   "metadata": {},
   "source": [
    "##### 258. Add Digits\n",
    "\n",
    "Given a non-negative integer num, repeatedly add all its digits until the result has only one digit.<br>\n",
    "Example:<br>\n",
    "Input: 38<br>\n",
    "Output: 2 <br>\n",
    "Explanation: The process is like: 3 + 8 = 11, 1 + 1 = 2. <br>\n",
    "             Since 2 has only one digit, return it.<br>\n",
    "Follow up:<br>\n",
    "Could you do it without any loop/recursion in O(1) runtime?<br>"
   ]
  },
  {
   "cell_type": "code",
   "execution_count": 9,
   "metadata": {},
   "outputs": [],
   "source": [
    "s= 89"
   ]
  },
  {
   "cell_type": "code",
   "execution_count": 19,
   "metadata": {},
   "outputs": [],
   "source": [
    "class Solution:\n",
    "    def addDigits(self, num):\n",
    "        \"\"\"\n",
    "        :type num: int\n",
    "        :rtype: int\n",
    "        \"\"\"\n",
    "        nums = num\n",
    "        while len(str(nums)) >= 2:\n",
    "            nums = sum([int(i) for i in str(nums)])\n",
    "        return sum([int(i) for i in str(nums)])\n",
    "        \n",
    "            "
   ]
  },
  {
   "cell_type": "code",
   "execution_count": 20,
   "metadata": {},
   "outputs": [],
   "source": [
    "class Solution:\n",
    "    def addDigits(self, num):\n",
    "        \"\"\"\n",
    "        :type num: int\n",
    "        :rtype: int\n",
    "        \"\"\"\n",
    "        while num > 10:\n",
    "            num = sum([int(i) for i in str(num)])\n",
    "        return num"
   ]
  },
  {
   "cell_type": "code",
   "execution_count": 21,
   "metadata": {},
   "outputs": [
    {
     "data": {
      "text/plain": [
       "9"
      ]
     },
     "execution_count": 21,
     "metadata": {},
     "output_type": "execute_result"
    }
   ],
   "source": [
    "num = 99\n",
    "s = Solution()\n",
    "s.addDigits(num)"
   ]
  }
 ],
 "metadata": {
  "kernelspec": {
   "display_name": "Python 3",
   "language": "python",
   "name": "python3"
  },
  "language_info": {
   "codemirror_mode": {
    "name": "ipython",
    "version": 3
   },
   "file_extension": ".py",
   "mimetype": "text/x-python",
   "name": "python",
   "nbconvert_exporter": "python",
   "pygments_lexer": "ipython3",
   "version": "3.6.5"
  }
 },
 "nbformat": 4,
 "nbformat_minor": 2
}
