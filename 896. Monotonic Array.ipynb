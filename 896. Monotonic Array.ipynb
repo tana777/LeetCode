{
 "cells": [
  {
   "cell_type": "markdown",
   "metadata": {},
   "source": [
    "##### 896. Monotonic Array\n",
    "\n",
    "An array is monotonic if it is either monotone increasing or monotone decreasing.<Br>\n",
    "An array A is monotone increasing if for all i <= j, A[i] <= A[j].  An array A is monotone decreasing if for all i <= j, A[i] >= A[j].<br>\n",
    "Return true if and only if the given array A is monotonic.<br> \n",
    "\n",
    "Example 1:<br>\n",
    "Input: [1,2,2,3]<br>\n",
    "Output: true<br>\n",
    "\n",
    "Example 2:<br>\n",
    "Input: [6,5,4,4]<br>\n",
    "Output: true<br>\n",
    "\n",
    "Example 3:<br>\n",
    "Input: [1,3,2]<br>\n",
    "Output: false<br>\n",
    "\n",
    "Example 4:<br>\n",
    "Input: [1,2,4,5]<br>\n",
    "Output: true<br>\n",
    "\n",
    "Example 5:<br>\n",
    "Input: [1,1,1]<br>\n",
    "Output: true<br>\n",
    "\n",
    "Note:<br>\n",
    "1 <= A.length <= 50000<br>\n",
    "-100000 <= A[i] <= 100000<br>"
   ]
  },
  {
   "cell_type": "code",
   "execution_count": 8,
   "metadata": {},
   "outputs": [],
   "source": [
    "class Solution:\n",
    "    def isMonotonic(self, A):\n",
    "        \"\"\"\n",
    "        :type A: List[int]\n",
    "        :rtype: bool\n",
    "        \"\"\"\n",
    "        return all([A[i+1]>=A[i] for i in range(len(A)-1)]) or all([A[i+1]<=A[i] for \n",
    "                                                                    i in range(len(A)-1)])\n",
    "    \n",
    "\n",
    "#Complexity Analysis\n",
    "#Time Complexity: O(N), where N is the length of A.\n",
    "#Space Complexity: O(1). "
   ]
  },
  {
   "cell_type": "code",
   "execution_count": 9,
   "metadata": {},
   "outputs": [],
   "source": [
    "class Solution:\n",
    "    def isMonotonic(self, A):\n",
    "        \"\"\"\n",
    "        :type A: List[int]\n",
    "        :rtype: bool\n",
    "        \"\"\"\n",
    "        incre = decre = True\n",
    "        for i in range(len(A)-1):\n",
    "            if A[i+1] > A[i]:\n",
    "                decre = False\n",
    "            if A[i+1] < A[i]:\n",
    "                incre = False\n",
    "        return incre or decre\n",
    "    \n",
    "#Complexity Analysis\n",
    "#Time Complexity: O(N), where N is the length of A.\n",
    "#Space Complexity: O(1)."
   ]
  },
  {
   "cell_type": "code",
   "execution_count": 10,
   "metadata": {},
   "outputs": [
    {
     "data": {
      "text/plain": [
       "True"
      ]
     },
     "execution_count": 10,
     "metadata": {},
     "output_type": "execute_result"
    }
   ],
   "source": [
    "A = [1,2,3,3]\n",
    "s = Solution()\n",
    "s.isMonotonic(A)"
   ]
  }
 ],
 "metadata": {
  "kernelspec": {
   "display_name": "Python 3",
   "language": "python",
   "name": "python3"
  },
  "language_info": {
   "codemirror_mode": {
    "name": "ipython",
    "version": 3
   },
   "file_extension": ".py",
   "mimetype": "text/x-python",
   "name": "python",
   "nbconvert_exporter": "python",
   "pygments_lexer": "ipython3",
   "version": "3.6.5"
  }
 },
 "nbformat": 4,
 "nbformat_minor": 2
}
