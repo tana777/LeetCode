{
 "cells": [
  {
   "cell_type": "markdown",
   "metadata": {},
   "source": [
    "##### 448. Find All Numbers Disappeared in an Array\n",
    "\n",
    "Given an array of integers where 1 ≤ a[i] ≤ n (n = size of array), some elements appear twice and others appear once.<BR>\n",
    "\n",
    "Find all the elements of [1, n] inclusive that do not appear in this array.<BR>\n",
    "\n",
    "Could you do it without extra space and in O(n) runtime? You may assume the returned list does not count as extra space.<BR>\n",
    "\n",
    "Example:<BR>\n",
    "\n",
    "Input:<BR>\n",
    "[4,3,2,7,8,2,3,1]<BR>\n",
    "\n",
    "Output:<BR>\n",
    "[5,6]<BR>"
   ]
  },
  {
   "cell_type": "code",
   "execution_count": 14,
   "metadata": {},
   "outputs": [],
   "source": [
    "## create a new list\n",
    "class Solution:\n",
    "    def findDisappearedNumbers(self, nums):\n",
    "        \"\"\"\n",
    "        :type nums: List[int]\n",
    "        :rtype: List[int]\n",
    "        \"\"\"\n",
    "        \n",
    "        search = set(nums)\n",
    "        output = []\n",
    "        for i in range(1,len(nums)+1):\n",
    "            if i not in search:\n",
    "                output.append(i)\n",
    "        return output\n",
    "                \n",
    "        "
   ]
  },
  {
   "cell_type": "code",
   "execution_count": 15,
   "metadata": {},
   "outputs": [],
   "source": [
    "## append disappeared value on the end of the list and return the last part\n",
    "class Solution:\n",
    "    def findDisappearedNumbers(self, nums):\n",
    "        \"\"\"\n",
    "        :type nums: List[int]\n",
    "        :rtype: List[int]\n",
    "        \"\"\"\n",
    "        \n",
    "        search = set(nums)\n",
    "        lens = len(nums)\n",
    "        for i in range(1,len(nums)+1):\n",
    "            if i not in search:\n",
    "                nums.append(i)\n",
    "        return nums[lens:]\n",
    "                "
   ]
  },
  {
   "cell_type": "code",
   "execution_count": 16,
   "metadata": {},
   "outputs": [],
   "source": [
    "## tricky method but very smart\n",
    "class Solution:\n",
    "    def findDisappeardNumbers(self, nums):\n",
    "        \"\"\"\n",
    "        :type nums: List[int]\n",
    "        :rtype: List[int]\n",
    "        \"\"\"\n",
    "        for i in range(len(nums)):\n",
    "            index = abs(nums[i])-1\n",
    "            nums[index] = - abs(nums[index])\n",
    "        return[i+1 for i in range(len(nums)) if nums[i] > 0]"
   ]
  },
  {
   "cell_type": "code",
   "execution_count": 17,
   "metadata": {},
   "outputs": [
    {
     "data": {
      "text/plain": [
       "[5, 6]"
      ]
     },
     "execution_count": 17,
     "metadata": {},
     "output_type": "execute_result"
    }
   ],
   "source": [
    "s = Solution()\n",
    "nums = [4,3,2,7,8,2,3,1]\n",
    "s.findDisappeardNumbers(nums)"
   ]
  }
 ],
 "metadata": {
  "kernelspec": {
   "display_name": "Python 3",
   "language": "python",
   "name": "python3"
  },
  "language_info": {
   "codemirror_mode": {
    "name": "ipython",
    "version": 3
   },
   "file_extension": ".py",
   "mimetype": "text/x-python",
   "name": "python",
   "nbconvert_exporter": "python",
   "pygments_lexer": "ipython3",
   "version": "3.6.5"
  }
 },
 "nbformat": 4,
 "nbformat_minor": 2
}
