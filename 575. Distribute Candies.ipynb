{
 "cells": [
  {
   "cell_type": "markdown",
   "metadata": {},
   "source": [
    "##### 575. Distribute Candies\n",
    "\n",
    "Given an integer array with even length, where different numbers in this array represent different kinds of candies. Each number means one candy of the corresponding kind. You need to distribute these candies equally in number to brother and sister. Return the maximum number of kinds of candies the sister could gain.<br>\n",
    "Example 1:<br>\n",
    "Input: candies = [1,1,2,2,3,3]<br>\n",
    "Output: 3<br>\n",
    "Explanation:<br>\n",
    "There are three different kinds of candies (1, 2 and 3), and two candies for each kind.<br>\n",
    "Optimal distribution: The sister has candies [1,2,3] and the brother has candies [1,2,3], too. <br>\n",
    "The sister has three different kinds of candies. <br>\n",
    "Example 2:<br>\n",
    "Input: candies = [1,1,2,3]<br>\n",
    "Output: 2<br>\n",
    "Explanation: For example, the sister has candies [2,3] and the brother has candies [1,1]. <br>\n",
    "The sister has two different kinds of candies, the brother has only one kind of candies. <br>\n",
    "Note:<br>\n",
    "\n",
    "The length of the given array is in range [2, 10,000], and will be even.<br>\n",
    "The number in given array is in range [-100,000, 100,000].<br>"
   ]
  },
  {
   "cell_type": "code",
   "execution_count": 8,
   "metadata": {},
   "outputs": [],
   "source": [
    "class Solution:\n",
    "    def distributeCandies(self, candies):\n",
    "        \"\"\"\n",
    "        :type candies: List[int]\n",
    "        :rtype: int\n",
    "        \"\"\"\n",
    "        ct = collections.Counter(candies)\n",
    "        if len(ct) <= len(candies)//2:\n",
    "            return len(ct)\n",
    "        else:\n",
    "            return len(candies)//2\n"
   ]
  },
  {
   "cell_type": "code",
   "execution_count": 12,
   "metadata": {},
   "outputs": [],
   "source": [
    "class Solution:\n",
    "    def distributeCandies(self, candies):\n",
    "        \"\"\"\n",
    "        :type candies: List[int]\n",
    "        :rtype: int\n",
    "        \"\"\"\n",
    "        kind = set(candies)\n",
    "        return min(len(kind),len(candies)//2)\n",
    "        "
   ]
  },
  {
   "cell_type": "code",
   "execution_count": 13,
   "metadata": {},
   "outputs": [
    {
     "data": {
      "text/plain": [
       "3"
      ]
     },
     "execution_count": 13,
     "metadata": {},
     "output_type": "execute_result"
    }
   ],
   "source": [
    "candies = [1,1,2,2,3,3]\n",
    "s = Solution()\n",
    "s.distributeCandies(candies)"
   ]
  }
 ],
 "metadata": {
  "kernelspec": {
   "display_name": "Python 3",
   "language": "python",
   "name": "python3"
  },
  "language_info": {
   "codemirror_mode": {
    "name": "ipython",
    "version": 3
   },
   "file_extension": ".py",
   "mimetype": "text/x-python",
   "name": "python",
   "nbconvert_exporter": "python",
   "pygments_lexer": "ipython3",
   "version": "3.6.5"
  }
 },
 "nbformat": 4,
 "nbformat_minor": 2
}
