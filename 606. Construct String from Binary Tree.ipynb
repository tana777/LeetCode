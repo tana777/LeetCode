{
 "cells": [
  {
   "cell_type": "markdown",
   "metadata": {},
   "source": [
    "##### 606. Construct String from Binary Tree\n",
    "\n",
    "\n",
    "You need to construct a string consists of parenthesis and integers from a binary tree with the preorder traversing way.\n",
    "\n",
    "The null node needs to be represented by empty parenthesis pair \"()\". And you need to omit all the empty parenthesis pairs that don't affect the one-to-one mapping relationship between the string and the original binary tree.\n",
    "\n",
    "Example 1:<br>\n",
    "Input: Binary tree: [1,2,3,4]\n",
    "         \n",
    "          1\n",
    "        /   \\\n",
    "      2     3\n",
    "     /    \n",
    "    4     \n",
    "\n",
    "Output: \"1(2(4))(3)\"\n",
    "\n",
    "Explanation: Originallay it needs to be \"1(2(4)())(3()())\", \n",
    "but you need to omit all the unnecessary empty parenthesis pairs. \n",
    "And it will be \"1(2(4))(3)\".\n",
    "\n",
    "Example 2:<br>\n",
    "Input: Binary tree: [1,2,3,null,4]\n",
    "     \n",
    "        1\n",
    "      /   \\\n",
    "     2     3\n",
    "     \\  \n",
    "      4 \n",
    "\n",
    "Output: \"1(2()(4))(3)\"\n",
    "\n",
    "Explanation: Almost the same as the first example, \n",
    "except we can't omit the first parenthesis pair to break the one-to-one mapping relationship between the input and the output."
   ]
  },
  {
   "cell_type": "markdown",
   "metadata": {},
   "source": [
    "Observe the pattern of omitting, we can find that:\n",
    "- if only right child is null: the parenthesis pairs can be omitted. return node.val + ( left)\n",
    "- if a node does not have left and right child at the same time, the two parenthesis paris can be omitted. return node.val\n",
    "- general case: a node with left and right child -- return node.val + (left) + (right)"
   ]
  },
  {
   "cell_type": "code",
   "execution_count": 10,
   "metadata": {},
   "outputs": [],
   "source": [
    "# Definition for a binary tree node.\n",
    "# class TreeNode(object):\n",
    "#     def __init__(self, x):\n",
    "#         self.val = x\n",
    "#         self.left = None\n",
    "#         self.right = None\n",
    "\n",
    "# method 1: preorder recursion\n",
    "class Solution(object):\n",
    "    def tree2str(self, t):\n",
    "        \"\"\"\n",
    "        :type t: TreeNode\n",
    "        :rtype: str\n",
    "        \"\"\"\n",
    "        \n",
    "        if t is None:\n",
    "            return ''\n",
    "        s = str(t.val)\n",
    "        l = self.tree2str(t.left)\n",
    "        r = self.tree2str(t.right)\n",
    "        # case 0: a node without left and right child\n",
    "        if not t.left and not t.right:\n",
    "            return s\n",
    "        # case 1: right child is null\n",
    "        if not t.right:\n",
    "            return s + '(' + l +')'\n",
    "        # general case\n",
    "        return s +'(' + l +')'+ '(' + r +')'\n",
    "    \n",
    "#Complexity Analysis\n",
    "#Time complexity : O(n). \n",
    "#The preorder traversal is done over the n nodes of the given Binary Tree.\n",
    "#Space complexity : O(n) The depth of the recursion tree can go upto n in case of a skewed tree."
   ]
  },
  {
   "cell_type": "code",
   "execution_count": 11,
   "metadata": {},
   "outputs": [],
   "source": [
    "## Iteration + stack + note check right child first then left child\n",
    "class Solution(object):\n",
    "    def tree2str(self,t):\n",
    "        if t is None:\n",
    "            return ''\n",
    "        stack = []\n",
    "        stack.append(t)\n",
    "        res = ''\n",
    "        while stack:\n",
    "            node = stack.pop()\n",
    "            if node ==')':\n",
    "                res += ')'\n",
    "                continue\n",
    "            res += '('+ str(node.val)\n",
    "            if not node.left and node.right:\n",
    "                res += '()'\n",
    "            if  node.right:\n",
    "                stack.append(')')\n",
    "                stack.append(node.right)\n",
    "            if  node.left:\n",
    "                stack.append(')')\n",
    "                stack.append(node.left)\n",
    "        return res[1:]\n"
   ]
  }
 ],
 "metadata": {
  "kernelspec": {
   "display_name": "Python 3",
   "language": "python",
   "name": "python3"
  },
  "language_info": {
   "codemirror_mode": {
    "name": "ipython",
    "version": 3
   },
   "file_extension": ".py",
   "mimetype": "text/x-python",
   "name": "python",
   "nbconvert_exporter": "python",
   "pygments_lexer": "ipython3",
   "version": "3.6.5"
  }
 },
 "nbformat": 4,
 "nbformat_minor": 2
}
