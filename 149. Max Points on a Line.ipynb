{
 "cells": [
  {
   "cell_type": "markdown",
   "metadata": {},
   "source": [
    "##### 149. Max Points on a Line\n",
    "\n",
    "Given n points on a 2D plane, find the maximum number of points that lie on the same straight line.\n",
    "\n",
    "Example 1:\n",
    "\n",
    "Input: [[1,1],[2,2],[3,3]]\n",
    "Output: 3<br>\n",
    "Explanation:<br>\n",
    "  \n",
    "  \n",
    "     ^\n",
    "     |\n",
    "     |        o\n",
    "     |     o\n",
    "     |  o  \n",
    "     +------------->\n",
    "     0  1  2  3  4\n",
    "Example 2:<br>\n",
    "\n",
    "Input: [[1,1],[3,2],[5,3],[4,1],[2,3],[1,4]]<br>\n",
    "Output: 4<br>\n",
    "Explanation:<br>\n",
    "    \n",
    "    ^\n",
    "    |\n",
    "    |  o\n",
    "    |     o        o\n",
    "    |        o\n",
    "    |  o        o\n",
    "    +------------------->\n",
    "    0  1  2  3  4  5  6"
   ]
  },
  {
   "cell_type": "code",
   "execution_count": 22,
   "metadata": {},
   "outputs": [],
   "source": [
    "import numpy as np\n",
    "import random as rd\n",
    "\n",
    "class Point(object):\n",
    "    def __init__(self, a=0, b=0):\n",
    "        self.x = a\n",
    "        self.y = b\n",
    "\n",
    "points=[]\n",
    "for i in range(13):\n",
    "    s = Point()\n",
    "    s.x = round(rd.random()*10)\n",
    "    s.y = round(rd.random()*10)\n",
    "    points.append(s)"
   ]
  },
  {
   "cell_type": "code",
   "execution_count": 23,
   "metadata": {},
   "outputs": [],
   "source": [
    "# Definition for a point.\n",
    "# class Point:\n",
    "#     def __init__(self, a=0, b=0):\n",
    "#         self.x = a\n",
    "#         self.y = b\n",
    "\n",
    "class Solution:\n",
    "    def maxPoints(self, points):\n",
    "        \"\"\"\n",
    "        :type points: List[Point]\n",
    "        :rtype: int\n",
    "        \"\"\"\n",
    "        N = len(points)\n",
    "        maxi = 0\n",
    "        for i in range(N):\n",
    "            slope = {}\n",
    "            repeat = 1\n",
    "            for j in range(i+1,N):\n",
    "                if points[i].x == points[j].x and points[i].y == points[j].y:\n",
    "                    repeat += 1\n",
    "                    continue\n",
    "                deltax = points[i].x - points[j].x\n",
    "                deltay = points[i].y - points[j].y\n",
    "                Gcd = self.gcd(deltax,deltay)\n",
    "                pairx = deltax/Gcd\n",
    "                pairy = deltay/Gcd\n",
    "                if (pairx,pairy) not in slope:\n",
    "                    slope[(pairx,pairy)] = 1\n",
    "                else:\n",
    "                    slope[(pairx,pairy)] += 1\n",
    "            maxi = max(maxi, (max(slope.values()) if slope else 0) + repeat)\n",
    "        return maxi\n",
    "    \n",
    "    def gcd(self,x,y):\n",
    "        if y==0:\n",
    "            return x\n",
    "        return self.gcd(y, x%y)\n",
    "        #return x if y==0 else self.gcd(y, x%y)\n",
    "    \n",
    "# Complexity analysis\n",
    "# Time: O(n^2)\n",
    "# Space: O(n)\n",
    "                    "
   ]
  },
  {
   "cell_type": "code",
   "execution_count": 24,
   "metadata": {},
   "outputs": [
    {
     "data": {
      "text/plain": [
       "4"
      ]
     },
     "execution_count": 24,
     "metadata": {},
     "output_type": "execute_result"
    }
   ],
   "source": [
    "s = Solution()\n",
    "s.maxPoints(points)"
   ]
  },
  {
   "cell_type": "markdown",
   "metadata": {},
   "source": [
    "1. What we should know?\n",
    "Two points determine one line. If there are some points at the same place, they are definitely on the same line.\n",
    "\n",
    "2. There are several ways to measure if the points are on the same line. Slope, distance and area of a triangle. Here we use the slope to determine it.\n",
    "\n",
    "3. The basic idea is for each point in the plane, create an empty dictionary, compute the slope with the rest of points one by one and check if they are the same. If they are on the same line, then add one to your dictionary with key equaling to the current slope. So on and so forth. \n",
    "\n",
    "3. Additionally, what we should further care is floating point numbers are not exactly the best candidates as keys. Instead of the slope with a single value, we use pairs dealt with greatest common divisor to ensure they can be compared."
   ]
  }
 ],
 "metadata": {
  "kernelspec": {
   "display_name": "Python 3",
   "language": "python",
   "name": "python3"
  },
  "language_info": {
   "codemirror_mode": {
    "name": "ipython",
    "version": 3
   },
   "file_extension": ".py",
   "mimetype": "text/x-python",
   "name": "python",
   "nbconvert_exporter": "python",
   "pygments_lexer": "ipython3",
   "version": "3.6.5"
  }
 },
 "nbformat": 4,
 "nbformat_minor": 2
}
