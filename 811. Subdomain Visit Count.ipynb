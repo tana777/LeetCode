{
 "cells": [
  {
   "cell_type": "markdown",
   "metadata": {},
   "source": [
    "##### 811. Subdomain Visit Count\n",
    "A website domain like \"discuss.leetcode.com\" consists of various subdomains. At the top level, we have \"com\", at the next level, we have \"leetcode.com\", and at the lowest level, \"discuss.leetcode.com\". When we visit a domain like \"discuss.leetcode.com\", we will also visit the parent domains \"leetcode.com\" and \"com\" implicitly.<br>\n",
    "\n",
    "Now, call a \"count-paired domain\" to be a count (representing the number of visits this domain received), followed by a space, followed by the address. An example of a count-paired domain might be \"9001 discuss.leetcode.com\".<br>\n",
    "\n",
    "We are given a list cpdomains of count-paired domains. We would like a list of count-paired domains, (in the same format as the input, and in any order), that explicitly counts the number of visits to each subdomain.<br>\n",
    "\n",
    "Example 1:<br>\n",
    "Input: <br>\n",
    "[\"9001 discuss.leetcode.com\"]<br>\n",
    "Output: <br>\n",
    "[\"9001 discuss.leetcode.com\", \"9001 leetcode.com\", \"9001 com\"]<br>\n",
    "Explanation: <br>\n",
    "We only have one website domain: \"discuss.leetcode.com\". As discussed above, the subdomain \"leetcode.com\" and \"com\" will also be visited. So they will all be visited 9001 times.<br>\n",
    "\n",
    "Example 2:<br>\n",
    "Input: <br>\n",
    "[\"900 google.mail.com\", \"50 yahoo.com\", \"1 intel.mail.com\", \"5 wiki.org\"]<br>\n",
    "Output: <br>\n",
    "[\"901 mail.com\",\"50 yahoo.com\",\"900 google.mail.com\",\"5 wiki.org\",\"5 org\",\"1 intel.mail.com\",\"951 com\"]<br>\n",
    "Explanation: <br>\n",
    "We will visit \"google.mail.com\" 900 times, \"yahoo.com\" 50 times, \"intel.mail.com\" once and \"wiki.org\" 5 times. For the subdomains, we will visit \"mail.com\" 900 + 1 = 901 times, \"com\" 900 + 50 + 1 = 951 times, and \"org\" 5 times.<br>\n",
    "\n",
    "Notes:<br>\n",
    "\n",
    "The length of cpdomains will not exceed 100. <br>\n",
    "The length of each domain name will not exceed 100.<br>\n",
    "Each address will have either 1 or 2 \".\" characters.<br>\n",
    "The input count in any count-paired domain will not exceed 10000.<br>\n",
    "The answer output can be returned in any order.<br>"
   ]
  },
  {
   "cell_type": "code",
   "execution_count": 245,
   "metadata": {},
   "outputs": [],
   "source": [
    "class Solution(object):\n",
    "    def subdomainVisits(self, cpdomains):\n",
    "        \"\"\"\n",
    "        :type cpdomains: List[str]\n",
    "        :rtype: List[str]\n",
    "        \"\"\"\n",
    "        ls=[]\n",
    "        for a in cpdomains: \n",
    "            aa = a.split()[1]\n",
    "            s = len(aa.split('.'))\n",
    "            ls.extend([ (a.split()[0] +' '+'.'.join(aa.split('.')[i:])).split() for i in range(s)])\n",
    "        unique=list(set([ls[i][1] for i in range(len(ls))]))\n",
    "        lss=[]\n",
    "        for uni in unique:\n",
    "            sums=0\n",
    "            for j in range(len(ls)):\n",
    "                if ls[j][1]==uni:\n",
    "                    sums += int(ls[j][0])\n",
    "            lss.append(str(sums)+' '+uni)\n",
    "        return lss\n",
    "        "
   ]
  },
  {
   "cell_type": "code",
   "execution_count": 234,
   "metadata": {},
   "outputs": [],
   "source": [
    "import collections\n",
    "class Solution(object):\n",
    "    def subdomainVisits(self, cpdomains):\n",
    "        ans = collections.Counter()\n",
    "        for domain in cpdomains:\n",
    "            count, domain = domain.split()\n",
    "            count = int(count)\n",
    "            frags = domain.split('.')\n",
    "            for i in range(len(frags)):\n",
    "                ans[\".\".join(frags[i:])] += count\n",
    "\n",
    "        return [\"{} {}\".format(ct, dom) for dom, ct in ans.items()]"
   ]
  },
  {
   "cell_type": "code",
   "execution_count": 246,
   "metadata": {},
   "outputs": [
    {
     "data": {
      "text/plain": [
       "['901 mail.com',\n",
       " '1 intel.mail.com',\n",
       " '900 google.mail.com',\n",
       " '5 org',\n",
       " '951 com',\n",
       " '50 yahoo.com',\n",
       " '5 wiki.org']"
      ]
     },
     "execution_count": 246,
     "metadata": {},
     "output_type": "execute_result"
    }
   ],
   "source": [
    "st=[\"900 google.mail.com\", \"50 yahoo.com\", \"1 intel.mail.com\", \"5 wiki.org\"]\n",
    "\n",
    "s = Solution()\n",
    "s.subdomainVisits(st)"
   ]
  },
  {
   "cell_type": "code",
   "execution_count": 266,
   "metadata": {},
   "outputs": [],
   "source": [
    "class Solution(object):\n",
    "    def subdomainVisits(self, cpdomains):\n",
    "        \"\"\"\n",
    "        :type cpdomains: List[str]\n",
    "        :rtype: List[str]\n",
    "        \"\"\"\n",
    "        dom=[]\n",
    "        for each in cpdomains: # the number of cpdomains elements n\n",
    "            ct = each.split()[0]  \n",
    "            domain = each.split()[1]  \n",
    "            domains = [ct+' '+'.'.join(domain.split('.')[i:]) for i in range(len(domain.split('.')))]\n",
    "            # the length of each element in cpdomains m\n",
    "            dom.extend(domains) \n",
    "        unique = list(set([ (dom[i].split()[1]) for i in range(len(dom))])) \n",
    "        output = []\n",
    "        for uni in unique:\n",
    "            sums = 0\n",
    "            for idx in range(len(dom)):\n",
    "                if dom[idx].split()[1] == uni:\n",
    "                    sums += int(dom[idx].split()[0])\n",
    "            output.append(str(sums)+' '+uni)\n",
    "            \n",
    "        return output\n",
    "    \n",
    "# Complexity Analysis\n",
    "# Time: O(n*m)\n",
    "# Space: "
   ]
  },
  {
   "cell_type": "code",
   "execution_count": 267,
   "metadata": {},
   "outputs": [
    {
     "data": {
      "text/plain": [
       "['901 mail.com',\n",
       " '1 intel.mail.com',\n",
       " '900 google.mail.com',\n",
       " '5 org',\n",
       " '951 com',\n",
       " '50 yahoo.com',\n",
       " '5 wiki.org']"
      ]
     },
     "execution_count": 267,
     "metadata": {},
     "output_type": "execute_result"
    }
   ],
   "source": [
    "s = Solution()\n",
    "s.subdomainVisits(st)"
   ]
  }
 ],
 "metadata": {
  "kernelspec": {
   "display_name": "Python 3",
   "language": "python",
   "name": "python3"
  },
  "language_info": {
   "codemirror_mode": {
    "name": "ipython",
    "version": 3
   },
   "file_extension": ".py",
   "mimetype": "text/x-python",
   "name": "python",
   "nbconvert_exporter": "python",
   "pygments_lexer": "ipython3",
   "version": "3.6.5"
  }
 },
 "nbformat": 4,
 "nbformat_minor": 2
}
