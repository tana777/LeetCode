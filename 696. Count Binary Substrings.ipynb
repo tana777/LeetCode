{
 "cells": [
  {
   "cell_type": "markdown",
   "metadata": {},
   "source": [
    "##### 696. Count Binary Substrings\n",
    "\n",
    "Give a string s, count the number of non-empty (contiguous) substrings that have the same number of 0's and 1's, and all the 0's and all the 1's in these substrings are grouped consecutively.\n",
    "\n",
    "Substrings that occur multiple times are counted the number of times they occur.\n",
    "\n",
    "Example 1:\n",
    "Input: \"00110011\"\n",
    "Output: 6\n",
    "Explanation: There are 6 substrings that have equal number of consecutive 1's and 0's: \"0011\", \"01\", \"1100\", \"10\", \"0011\", and \"01\".\n",
    "\n",
    "Notice that some of these substrings repeat and are counted the number of times they occur.\n",
    "\n",
    "Also, \"00110011\" is not a valid substring because all the 0's (and 1's) are not grouped together.\n",
    "Example 2:\n",
    "Input: \"10101\"\n",
    "Output: 4\n",
    "Explanation: There are 4 substrings: \"10\", \"01\", \"10\", \"01\" that have equal number of consecutive 1's and 0's.\n",
    "\n",
    "Note:<br>\n",
    "s.length will be between 1 and 50,000.<br>\n",
    "s will only consist of \"0\" or \"1\" characters.<br>"
   ]
  },
  {
   "cell_type": "code",
   "execution_count": 264,
   "metadata": {},
   "outputs": [],
   "source": [
    "# simple idea using two for loop but obviously since the greatest value of the length of s is 50,000\n",
    "# it will exceed time limit\n",
    "class Solution:\n",
    "    def countBinarySubstrings(self, s):\n",
    "        \"\"\"\n",
    "        :type s: str\n",
    "        :rtype: int\n",
    "        \"\"\"\n",
    "        output = 0\n",
    "        N = len(s)\n",
    "        for i in range(N):\n",
    "            c0, c1, t = 0, 0, 0\n",
    "            if s[i] =='0':\n",
    "                c0 = 1\n",
    "            else:\n",
    "                c1 = 1\n",
    "            for j in range(i+1,N):\n",
    "                if s[j]=='0':\n",
    "                    c0 += 1\n",
    "                else:\n",
    "                    c1 += 1\n",
    "                if s[j-1]!=s[j]:\n",
    "                    t +=1  \n",
    "                if c0==c1 and t==1:\n",
    "                    output += 1\n",
    "                    break\n",
    "        return output\n",
    "                "
   ]
  },
  {
   "cell_type": "code",
   "execution_count": 265,
   "metadata": {},
   "outputs": [],
   "source": [
    "class Solution:\n",
    "    def countBinarySubstrings(self, s):\n",
    "        \"\"\"\n",
    "        :type s: str\n",
    "        :rtype: int\n",
    "        \"\"\"\n",
    "    \n",
    "        count = []\n",
    "        num = 1\n",
    "        total = 0\n",
    "        for i in range(len(s)-1):\n",
    "            if s[i+1] == s[i]:\n",
    "                num +=1\n",
    "            else:\n",
    "                count.append(num)\n",
    "                num = 1\n",
    "        count.append(num)\n",
    "        if len(count)==1:\n",
    "            return 0 \n",
    "        for ct in range(len(count)-1):\n",
    "            total += min(count[ct],count[ct+1])\n",
    "        return total\n",
    "    \n",
    "# step1. create a list to record the number of the same substrings\n",
    "# e.g. s='0011001' -- then count list will be [2,2,2,1]\n",
    "# step2. consider the meaning of each value in the count list\n",
    "# e.g. for the first two number, 2,2 -- which at most has two different cases\n",
    "# 0011 or 1100, and whatever which case, the result is 2 different combinations - 01 0011 or 10 1100\n",
    "# so on and so forth, we can find that the general rule is the result of combinations is just the \n",
    "# minimum value of two numbers close to each other.\n",
    "\n",
    "# Complexity Analysis\n",
    "# Time: O(N) since we go through the string once and N is the length of string s\n",
    "# Space: O(N) since we create a empty list for computing the count of string, the space is used by \n",
    "# count list is O(N)"
   ]
  },
  {
   "cell_type": "code",
   "execution_count": 266,
   "metadata": {},
   "outputs": [],
   "source": [
    "class Solution(object):\n",
    "    def countBinarySubstrings(self, s):\n",
    "        \"\"\"\n",
    "        :type s: str\n",
    "        :rtype: int\n",
    "        \"\"\"\n",
    "        s = list(map(len,s.replace('01','0 1').replace('10','1 0').split()))\n",
    "        return sum([min(i,j) for i,j in zip(s,s[1:])])\n",
    "        \n",
    "# neat version"
   ]
  },
  {
   "cell_type": "code",
   "execution_count": 263,
   "metadata": {},
   "outputs": [
    {
     "data": {
      "text/plain": [
       "6"
      ]
     },
     "execution_count": 263,
     "metadata": {},
     "output_type": "execute_result"
    }
   ],
   "source": [
    "s = '011001011'\n",
    "S = Solution()\n",
    "S.countBinarySubstrings(s)"
   ]
  }
 ],
 "metadata": {
  "kernelspec": {
   "display_name": "Python 3",
   "language": "python",
   "name": "python3"
  },
  "language_info": {
   "codemirror_mode": {
    "name": "ipython",
    "version": 3
   },
   "file_extension": ".py",
   "mimetype": "text/x-python",
   "name": "python",
   "nbconvert_exporter": "python",
   "pygments_lexer": "ipython3",
   "version": "3.6.5"
  }
 },
 "nbformat": 4,
 "nbformat_minor": 2
}
