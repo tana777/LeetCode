{
 "cells": [
  {
   "cell_type": "markdown",
   "metadata": {},
   "source": [
    "##### 500. Keyboard Row<br>\n",
    "\n",
    "Given a List of words, return the words that can be typed using letters of alphabet on only one row's of American keyboard like the image below.<br>\n",
    "\n",
    "Example:<br>\n",
    "\n",
    "Input: [\"Hello\", \"Alaska\", \"Dad\", \"Peace\"]<br>\n",
    "Output: [\"Alaska\", \"Dad\"]<br>\n",
    " \n",
    "\n",
    "Note:<br>\n",
    "\n",
    "You may use one character in the keyboard more than once.<br>\n",
    "You may assume the input string will only contain letters of alphabet.<br>\n"
   ]
  },
  {
   "cell_type": "code",
   "execution_count": 39,
   "metadata": {},
   "outputs": [],
   "source": [
    "class Solution(object):\n",
    "    def findWords(self, words):\n",
    "        \"\"\"\n",
    "        :type words: List[str]\n",
    "        :rtype: List[str]\n",
    "        \"\"\"\n",
    "        key1 = 'QWERTYUIOP'\n",
    "        key11 = key1.lower()\n",
    "        key2 = 'ASDFGHJKL'\n",
    "        key22 = key2.lower()\n",
    "        key3 = 'ZXCVBNM'\n",
    "        key33 = key3.lower()\n",
    "        key=key1+key11+key2+key22+key3+key33\n",
    "        val=[0]*len(key1)*2+[1]*len(key2)*2+[2]*len(key3)*2\n",
    "        dic=dict(zip(key,val)) \n",
    "        output=[]\n",
    "        for word in words:\n",
    "            val = dic[word[0]]\n",
    "            total=1\n",
    "            for i in range(1,len(word)):\n",
    "                if dic[word[i]]==val:\n",
    "                    total +=1\n",
    "            if total==len(word):\n",
    "                output.append(word)\n",
    "        return output\n"
   ]
  },
  {
   "cell_type": "code",
   "execution_count": 40,
   "metadata": {},
   "outputs": [
    {
     "data": {
      "text/plain": [
       "['Alaska', 'Dad']"
      ]
     },
     "execution_count": 40,
     "metadata": {},
     "output_type": "execute_result"
    }
   ],
   "source": [
    "words=[\"Hello\", \"Alaska\", \"Dad\", \"Peace\"]\n",
    "s = Solution()\n",
    "s.findWords(words)"
   ]
  },
  {
   "cell_type": "code",
   "execution_count": 41,
   "metadata": {},
   "outputs": [],
   "source": [
    "## using set and the intersection between sets is a good idea!\n",
    "class Solution(object):\n",
    "    def findWords(self, words):\n",
    "        \"\"\"\n",
    "        :type words: List[str]\n",
    "        :rtype: List[str]\n",
    "        \"\"\"\n",
    "        a=set('qwertyuiop') \n",
    "        b=set('asdfghjkl')\n",
    "        c=set('zxcvbnm')\n",
    "        ans=[]\n",
    "        for word in words:\n",
    "            t=set(word.lower())\n",
    "            if a&t==t:\n",
    "                ans.append(word)\n",
    "            if b&t==t:\n",
    "                ans.append(word)\n",
    "            if c&t==t:\n",
    "                ans.append(word)\n",
    "        return ans"
   ]
  },
  {
   "cell_type": "code",
   "execution_count": 42,
   "metadata": {},
   "outputs": [
    {
     "data": {
      "text/plain": [
       "['Alaska', 'Dad']"
      ]
     },
     "execution_count": 42,
     "metadata": {},
     "output_type": "execute_result"
    }
   ],
   "source": [
    "words=[\"Hello\", \"Alaska\", \"Dad\", \"Peace\"]\n",
    "s = Solution()\n",
    "s.findWords(words)"
   ]
  }
 ],
 "metadata": {
  "kernelspec": {
   "display_name": "Python 3",
   "language": "python",
   "name": "python3"
  },
  "language_info": {
   "codemirror_mode": {
    "name": "ipython",
    "version": 3
   },
   "file_extension": ".py",
   "mimetype": "text/x-python",
   "name": "python",
   "nbconvert_exporter": "python",
   "pygments_lexer": "ipython3",
   "version": "3.6.5"
  }
 },
 "nbformat": 4,
 "nbformat_minor": 2
}
