{
 "cells": [
  {
   "cell_type": "markdown",
   "metadata": {},
   "source": [
    "##### 136. Single Number <br>\n",
    "\n",
    "Given a non-empty array of integers, every element appears twice except for one. Find that single one.<br>\n",
    "Note:<br>\n",
    "Your algorithm should have a linear runtime complexity. Could you implement it without using extra memory?<br>\n",
    "\n",
    "Example 1:<br>\n",
    "Input: [2,2,1]<br>\n",
    "Output: 1<br>\n",
    "\n",
    "Example 2:<br>\n",
    "Input: [4,1,2,1,2]<br>\n",
    "Output: 4<br>\n",
    "\n",
    "Ref: https://leetcode.com/articles/single-number/"
   ]
  },
  {
   "cell_type": "code",
   "execution_count": 61,
   "metadata": {},
   "outputs": [],
   "source": [
    "###  Approach 1: List operation\n",
    "\n",
    "#Iterate over all the elements in nums\n",
    "#If some number in nums is new to array, append it\n",
    "#If some number is already in the array, remove it\n",
    "\n",
    "class Solution:\n",
    "    def singleNumber(self, nums):\n",
    "        \"\"\"\n",
    "        :type nums: List[int]\n",
    "        :rtype: int\n",
    "        \"\"\"\n",
    "        dic = []\n",
    "        for item in nums:\n",
    "            if item not in dic:\n",
    "                dic.append(item)\n",
    "            else:\n",
    "                dic.remove(item)\n",
    "        return dic.pop()\n",
    "        \n",
    "\n",
    "#### Time Limit exceed\n",
    "\n",
    "#Complexity Analysis\n",
    "\n",
    "#Time complexity : O(n^2)\n",
    "#We iterate through nums, taking O(n) time. We search the whole list to find whether \n",
    "#there is duplicate number, taking O(n) time. Because search is in the for loop, \n",
    "#so we have to multiply both time complexities which is O(n^2).\n",
    "\n",
    "#Space complexity : O(n). We need a list of size nn to contain elements in nums. "
   ]
  },
  {
   "cell_type": "code",
   "execution_count": 62,
   "metadata": {},
   "outputs": [],
   "source": [
    "### Approach 2: Hash table\n",
    "## We use hash table to avoid the O(n) time required for searching the elements.\n",
    "#Iterate through all elements in nums\n",
    "#Try if hash_table has the key for pop\n",
    "#If not, set up key/value pair\n",
    "#In the end, there is only one element in hash_table, so use popitem to get it\n",
    "\n",
    "class Solution(object):\n",
    "    def singleNumber(self, nums):\n",
    "        \"\"\"\n",
    "        :type nums: List[int]\n",
    "        :rtype: int\n",
    "        \"\"\"\n",
    "        hash_table = {}\n",
    "        for i in nums:\n",
    "            try:\n",
    "                hash_table.pop(i)\n",
    "            except:\n",
    "                hash_table[i] = 1\n",
    "        return hash_table.popitem()[0]\n",
    "    \n",
    "## Complexity Analysis\n",
    "#Time complexity :  O(n)O(n⋅1)=O(n). Time complexity of for loop is O(n). \n",
    "#Time complexity of hash table(dictionary in python) operation pop is O(1).\n",
    "#Space complexity : O(n). The space required by hash_table is equal to the number of elements \n",
    "#in nums. "
   ]
  },
  {
   "cell_type": "code",
   "execution_count": 63,
   "metadata": {},
   "outputs": [],
   "source": [
    "### Approach 3: set\n",
    "# According to problem definition, we have 2∗(a+b+c)−(a+a+b+b+c)=c.\n",
    "class Solution(object):\n",
    "    def singleNumber(self, nums):\n",
    "        \"\"\"\n",
    "        :type nums: List[int]\n",
    "        :rtype: int\n",
    "        \"\"\"\n",
    "        return 2 * sum(set(nums)) - sum(nums)\n",
    "# Complexity Analysis\n",
    "# Time complexity: O(n+n) = O(n) sum will call next to iterate through nums. We can see it as sum(list(i, for i in nums))\n",
    "# so the time complexity is O(n) due to the number of elements in nums.\n",
    "# Space complexity: O(n+n) = O(n) set needs space for the elements in nums.\n",
    "\n"
   ]
  },
  {
   "cell_type": "code",
   "execution_count": 64,
   "metadata": {},
   "outputs": [],
   "source": [
    "### 4. using XOR(exclusive or)\n",
    "# XOR properties we should know:\n",
    "# a ^ a = 0\n",
    "# a ^ 0 = a\n",
    "# a ^ b = b ^ a\n",
    "# 1 ^ 0 = 0 ^ 1 = 1\n",
    "\n",
    "class Solution:\n",
    "    def singleNumber(self, nums):\n",
    "        \"\"\"\n",
    "        :type nums: List[int]\n",
    "        :rtype: int\n",
    "        \"\"\"\n",
    "        \n",
    "        a = 0\n",
    "        for item in nums:\n",
    "            a ^= item\n",
    "        return a\n",
    "    \n",
    "    \n",
    "#Complexity Analysis\n",
    "#Time complexity : O(n). We only iterate through nums, so the time complexity is the number \n",
    "#of elements in nums.\n",
    "#Space complexity : O(1)."
   ]
  },
  {
   "cell_type": "code",
   "execution_count": 65,
   "metadata": {},
   "outputs": [],
   "source": [
    "### My solution\n",
    "class Solution:\n",
    "    def singleNumber(self, nums):\n",
    "        \"\"\"\n",
    "        :type nums: List[int]\n",
    "        :rtype: int\n",
    "        \"\"\"\n",
    "        import collections\n",
    "        ct = collections.Counter(nums)\n",
    "        for item, c in ct.items():\n",
    "            if c == 1:\n",
    "                return item"
   ]
  },
  {
   "cell_type": "code",
   "execution_count": 66,
   "metadata": {},
   "outputs": [
    {
     "data": {
      "text/plain": [
       "3"
      ]
     },
     "execution_count": 66,
     "metadata": {},
     "output_type": "execute_result"
    }
   ],
   "source": [
    "nums=[1,1,2,2,3]\n",
    "s = Solution()\n",
    "s.singleNumber(nums)"
   ]
  }
 ],
 "metadata": {
  "kernelspec": {
   "display_name": "Python 3",
   "language": "python",
   "name": "python3"
  },
  "language_info": {
   "codemirror_mode": {
    "name": "ipython",
    "version": 3
   },
   "file_extension": ".py",
   "mimetype": "text/x-python",
   "name": "python",
   "nbconvert_exporter": "python",
   "pygments_lexer": "ipython3",
   "version": "3.6.5"
  }
 },
 "nbformat": 4,
 "nbformat_minor": 2
}
