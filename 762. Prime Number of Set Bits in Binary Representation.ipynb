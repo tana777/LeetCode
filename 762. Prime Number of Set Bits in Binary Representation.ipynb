{
 "cells": [
  {
   "cell_type": "markdown",
   "metadata": {},
   "source": [
    "##### 762. Prime Number of Set Bits in Binary Representation\n",
    "\n",
    "Given two integers L and R, find the count of numbers in the range [L, R] (inclusive) having a prime number of set bits in their binary representation.<br>\n",
    "\n",
    "(Recall that the number of set bits an integer has is the number of 1s present when written in binary. For example, 21 written in binary is 10101 which has 3 set bits. Also, 1 is not a prime.)<br>\n",
    "\n",
    "Example 1:<br>\n",
    "Input: L = 6, R = 10<br>\n",
    "Output: 4<br>\n",
    "Explanation:<br>\n",
    "6 -> 110 (2 set bits, 2 is prime)<br>\n",
    "7 -> 111 (3 set bits, 3 is prime)<br>\n",
    "9 -> 1001 (2 set bits , 2 is prime)<br>\n",
    "10->1010 (2 set bits , 2 is prime)<br>\n",
    "\n",
    "Example 2:<br>\n",
    "Input: L = 10, R = 15<br>\n",
    "Output: 5<br>\n",
    "Explanation:<br>\n",
    "10 -> 1010 (2 set bits, 2 is prime)<br>\n",
    "11 -> 1011 (3 set bits, 3 is prime)<br>\n",
    "12 -> 1100 (2 set bits, 2 is prime)<br>\n",
    "13 -> 1101 (3 set bits, 3 is prime)<br>\n",
    "14 -> 1110 (3 set bits, 3 is prime)<br>\n",
    "15 -> 1111 (4 set bits, 4 is not prime)<br>\n",
    "Note:<br>\n",
    "L, R will be integers L <= R in the range [1, 10^6].<br>\n",
    "R - L will be at most 10000.<br>"
   ]
  },
  {
   "cell_type": "code",
   "execution_count": 3,
   "metadata": {},
   "outputs": [],
   "source": [
    "class Solution(object):\n",
    "    def countPrimeSetBits(self, L, R):\n",
    "        \"\"\"\n",
    "        :type L: int\n",
    "        :type R: int\n",
    "        :rtype: int\n",
    "        \"\"\"\n",
    "        prime = {2,3,5,7,11,13,17,19}\n",
    "        return sum(bin(num).count('1') in prime for num in range(L,R+1))\n",
    "        \n",
    "#We only need primes up to 19 because R <=10^6 < 2^20\n",
    "#Complexity Analysis\n",
    "#Time Complexity: O(D), where D = R-L is the number of integers considered. \n",
    "#In a bit complexity model, this would be O(DlogD) as we have to count the bits in O(logD) time.\n",
    "#Space Complexity: O(1)."
   ]
  },
  {
   "cell_type": "code",
   "execution_count": 4,
   "metadata": {},
   "outputs": [
    {
     "data": {
      "text/plain": [
       "5"
      ]
     },
     "execution_count": 4,
     "metadata": {},
     "output_type": "execute_result"
    }
   ],
   "source": [
    "s = Solution()\n",
    "L = 10; R = 15\n",
    "s.countPrimeSetBits(L,R)"
   ]
  }
 ],
 "metadata": {
  "kernelspec": {
   "display_name": "Python 3",
   "language": "python",
   "name": "python3"
  },
  "language_info": {
   "codemirror_mode": {
    "name": "ipython",
    "version": 3
   },
   "file_extension": ".py",
   "mimetype": "text/x-python",
   "name": "python",
   "nbconvert_exporter": "python",
   "pygments_lexer": "ipython3",
   "version": "3.6.5"
  }
 },
 "nbformat": 4,
 "nbformat_minor": 2
}
