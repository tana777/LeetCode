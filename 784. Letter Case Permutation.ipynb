{
 "cells": [
  {
   "cell_type": "markdown",
   "metadata": {},
   "source": [
    "##### 784. Letter Case Permutation\n",
    "Given a string S, we can transform every letter individually to be lowercase or uppercase to create another string.  Return a list of all possible strings we could create.<br>\n",
    "\n",
    "Examples:<br>\n",
    "Input: S = \"a1b2\"<br>\n",
    "Output: [\"a1b2\", \"a1B2\", \"A1b2\", \"A1B2\"]<br>\n",
    "\n",
    "Input: S = \"3z4\"<br>\n",
    "Output: [\"3z4\", \"3Z4\"]<br>\n",
    "\n",
    "Input: S = \"12345\"<br>\n",
    "Output: [\"12345\"]<br>\n",
    "Note:\n",
    "\n",
    "S will be a string with length between 1 and 12.<br>\n",
    "S will consist only of letters or digits.<br>"
   ]
  },
  {
   "cell_type": "markdown",
   "metadata": {},
   "source": [
    "##### (DFS recursion)"
   ]
  },
  {
   "cell_type": "code",
   "execution_count": 12,
   "metadata": {},
   "outputs": [],
   "source": [
    "### 1. DFS recursion\n",
    "class Solution(object):\n",
    "    def letterCasePermutation(self, S):\n",
    "        \"\"\"\n",
    "        :type S: str\n",
    "        :rtype: List[str]\n",
    "        \"\"\"\n",
    "        "
   ]
  },
  {
   "cell_type": "code",
   "execution_count": 13,
   "metadata": {},
   "outputs": [],
   "source": [
    "### 2. iteration\n",
    "class Solution(object):\n",
    "    def letterCasePermutation(self, S):\n",
    "        \"\"\"\n",
    "        :type S: str\n",
    "        :rtype: List[str]\n",
    "        \"\"\"\n",
    "        output = ['']\n",
    "        for s in S:\n",
    "            if s.isalpha():\n",
    "                output = [word+new for word in output for new in [s.lower(),s.upper()]]\n",
    "            else:\n",
    "                output = [word+s for word in output]\n",
    "        return output"
   ]
  },
  {
   "cell_type": "code",
   "execution_count": 14,
   "metadata": {},
   "outputs": [
    {
     "data": {
      "text/plain": [
       "['a1a', 'a1A', 'A1a', 'A1A']"
      ]
     },
     "execution_count": 14,
     "metadata": {},
     "output_type": "execute_result"
    }
   ],
   "source": [
    "s = Solution()\n",
    "s.letterCasePermutation(S)"
   ]
  }
 ],
 "metadata": {
  "kernelspec": {
   "display_name": "Python 3",
   "language": "python",
   "name": "python3"
  },
  "language_info": {
   "codemirror_mode": {
    "name": "ipython",
    "version": 3
   },
   "file_extension": ".py",
   "mimetype": "text/x-python",
   "name": "python",
   "nbconvert_exporter": "python",
   "pygments_lexer": "ipython3",
   "version": "3.6.5"
  }
 },
 "nbformat": 4,
 "nbformat_minor": 2
}
