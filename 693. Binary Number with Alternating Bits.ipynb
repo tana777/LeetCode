{
 "cells": [
  {
   "cell_type": "markdown",
   "metadata": {},
   "source": [
    "##### 693. Binary Number with Alternating Bits\n",
    "\n",
    "\n",
    "Given a positive integer, check whether it has alternating bits: namely, if two adjacent bits will always have different values. <br>\n",
    "\n",
    "Example 1:<br>\n",
    "Input: 5<br>\n",
    "Output: True<br>\n",
    "Explanation:<br>\n",
    "The binary representation of 5 is: 101<br>\n",
    "Example 2:<br>\n",
    "Input: 7<br>\n",
    "Output: False<br>\n",
    "Explanation:<br>\n",
    "The binary representation of 7 is: 111.<br>\n",
    "Example 3:<br>\n",
    "Input: 11<br>\n",
    "Output: False<br>\n",
    "Explanation:<br>\n",
    "The binary representation of 11 is: 1011.<br>\n",
    "Example 4:<br>\n",
    "Input: 10<br>\n",
    "Output: True<br>\n",
    "Explanation:<br>\n",
    "The binary representation of 10 is: 1010.<br>"
   ]
  },
  {
   "cell_type": "code",
   "execution_count": 13,
   "metadata": {},
   "outputs": [],
   "source": [
    "class Solution:\n",
    "    def hasAlternatingBits(self, n):\n",
    "        \"\"\"\n",
    "        :type n: int\n",
    "        :rtype: bool\n",
    "        \"\"\"\n",
    "        output = []\n",
    "        num = bin(n)[2:]\n",
    "        for i in range(len(num)-1):\n",
    "            if num[i] != num[i+1]:\n",
    "                output.append(True)\n",
    "            else:\n",
    "                output.append(False)\n",
    "        return all(output)\n",
    "\n",
    "# Let's convert the given number into a string of binary digits. Then, we should simply check that \n",
    "# no two adjacent digits are the same. The following is a neater format."
   ]
  },
  {
   "cell_type": "code",
   "execution_count": 14,
   "metadata": {},
   "outputs": [],
   "source": [
    "class Solution:\n",
    "    def hasAlternatingBits(self, n):\n",
    "        \"\"\"\n",
    "        :type n: int\n",
    "        :rtype: bool\n",
    "        \"\"\"\n",
    "        \n",
    "        num = bin(n)[2:]\n",
    "        return all(num[i]!=num[i+1] for i in range(len(num)-1))\n",
    "\n",
    "    \n",
    "#Complexity Analysis\n",
    "#Time Complexity: O(1). For arbitrary inputs, we do O(w) work, where w is \n",
    "#the number of bits in n. However, w≤32.\n",
    "#Space complexity: O(1), or alternatively O(w)."
   ]
  },
  {
   "cell_type": "code",
   "execution_count": 15,
   "metadata": {},
   "outputs": [],
   "source": [
    "class Solution:\n",
    "    def hasAlternatingBits(self, n):\n",
    "        \"\"\"\n",
    "        :type n: int\n",
    "        :rtype: bool\n",
    "        \"\"\"\n",
    "        quo, rem = divmod(n,2)\n",
    "        while quo:\n",
    "            if rem == quo%2:\n",
    "                return False\n",
    "            quo, rem = divmod(quo, 2)\n",
    "        return True\n",
    "    \n",
    "#Complexity Analysis\n",
    "#Time Complexity: O(1).\n",
    "#Space complexity: O(1)."
   ]
  },
  {
   "cell_type": "code",
   "execution_count": 16,
   "metadata": {},
   "outputs": [
    {
     "data": {
      "text/plain": [
       "False"
      ]
     },
     "execution_count": 16,
     "metadata": {},
     "output_type": "execute_result"
    }
   ],
   "source": [
    "s = Solution()\n",
    "s.hasAlternatingBits(7)"
   ]
  }
 ],
 "metadata": {
  "kernelspec": {
   "display_name": "Python 3",
   "language": "python",
   "name": "python3"
  },
  "language_info": {
   "codemirror_mode": {
    "name": "ipython",
    "version": 3
   },
   "file_extension": ".py",
   "mimetype": "text/x-python",
   "name": "python",
   "nbconvert_exporter": "python",
   "pygments_lexer": "ipython3",
   "version": "3.6.5"
  }
 },
 "nbformat": 4,
 "nbformat_minor": 2
}
