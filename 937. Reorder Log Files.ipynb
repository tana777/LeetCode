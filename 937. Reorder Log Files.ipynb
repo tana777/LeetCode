{
 "cells": [
  {
   "cell_type": "markdown",
   "metadata": {},
   "source": [
    "##### 937. Reorder Log Files\n",
    "\n",
    "You have an array of logs.  Each log is a space delimited string of words.<br>\n",
    "For each log, the first word in each log is an alphanumeric identifier.  Then, either:<br>\n",
    "\n",
    "Each word after the identifier will consist only of lowercase letters, or;<br>\n",
    "Each word after the identifier will consist only of digits.<br>\n",
    "We will call these two varieties of logs letter-logs and digit-logs.  It is guaranteed that each log has at least one word after its identifier.<br>\n",
    "Reorder the logs so that all of the letter-logs come before any digit-log.  The letter-logs are ordered lexicographically ignoring identifier, with the identifier used in case of ties.  The digit-logs should be put in their original order.<br>\n",
    "\n",
    "Return the final order of the logs.<br>\n",
    "\n",
    "Example 1:<br>\n",
    "Input: [\"a1 9 2 3 1\",\"g1 act car\",\"zo4 4 7\",\"ab1 off key dog\",\"a8 act zoo\"]<br>\n",
    "Output: [\"g1 act car\",\"a8 act zoo\",\"ab1 off key dog\",\"a1 9 2 3 1\",\"zo4 4 7\"]<br>\n",
    " \n",
    "Note:<br>\n",
    "0 <= logs.length <= 100<br>\n",
    "3 <= logs[i].length <= 100<br>\n",
    "logs[i] is guaranteed to have an identifier, and a word after the identifier.<br>\n"
   ]
  },
  {
   "cell_type": "code",
   "execution_count": 47,
   "metadata": {},
   "outputs": [],
   "source": [
    "class Solution(object):\n",
    "    def reorderLogFiles(self, logs):\n",
    "        \"\"\"\n",
    "        :type logs: List[str]\n",
    "        :rtype: List[str]\n",
    "        \"\"\"\n",
    "        num = []\n",
    "        letter = []\n",
    "        for log in logs:\n",
    "            word = log.split()\n",
    "            if word[1].isalpha():\n",
    "                letter.append((word[1:],word[0]))\n",
    "            else:\n",
    "                num.append(log)\n",
    "        letter.sort()\n",
    "        return [ let[1] + ' ' + ' '.join(let[0]) for let in letter] + num"
   ]
  },
  {
   "cell_type": "code",
   "execution_count": 48,
   "metadata": {},
   "outputs": [
    {
     "data": {
      "text/plain": [
       "['g1 act car', 'a8 act zoo', 'ab1 off key dog', 'a1 9 2 3 1', 'zo4 4 7']"
      ]
     },
     "execution_count": 48,
     "metadata": {},
     "output_type": "execute_result"
    }
   ],
   "source": [
    "logs = [\"a1 9 2 3 1\",\"g1 act car\",\"zo4 4 7\",\"ab1 off key dog\",\"a8 act zoo\"]\n",
    "s = Solution()\n",
    "s.reorderLogFiles(logs)"
   ]
  }
 ],
 "metadata": {
  "kernelspec": {
   "display_name": "Python 3",
   "language": "python",
   "name": "python3"
  },
  "language_info": {
   "codemirror_mode": {
    "name": "ipython",
    "version": 3
   },
   "file_extension": ".py",
   "mimetype": "text/x-python",
   "name": "python",
   "nbconvert_exporter": "python",
   "pygments_lexer": "ipython3",
   "version": "3.6.5"
  }
 },
 "nbformat": 4,
 "nbformat_minor": 2
}
