{
 "cells": [
  {
   "cell_type": "markdown",
   "metadata": {},
   "source": [
    "##### 868. Binary Gap\n",
    "Given a positive integer N, find and return the longest distance between two consecutive 1's in the binary representation of N.<br>\n",
    "If there aren't two consecutive 1's, return 0.<br>\n",
    "\n",
    "Example 1:<br>\n",
    "Input: 22<br>\n",
    "Output: 2<br>\n",
    "Explanation: <br>\n",
    "22 in binary is 0b10110.<br>\n",
    "In the binary representation of 22, there are three ones, and two consecutive pairs of 1's.<br>\n",
    "The first consecutive pair of 1's have distance 2.<br>\n",
    "The second consecutive pair of 1's have distance 1.<br>\n",
    "The answer is the largest of these two distances, which is 2.<br>\n",
    "\n",
    "Example 2:<br>\n",
    "Input: 5<br>\n",
    "Output: 2<br>\n",
    "Explanation: <br>\n",
    "5 in binary is 0b101.<br>\n",
    "Example 3:<br>\n",
    "\n",
    "Input: 6<br>\n",
    "Output: 1<br>\n",
    "Explanation: <br>\n",
    "6 in binary is 0b110.<br>\n",
    "Example 4:<br>\n",
    "\n",
    "Input: 8<br>\n",
    "Output: 0<br>\n",
    "Explanation: <br>\n",
    "8 in binary is 0b1000.<br>\n",
    "There aren't any consecutive pairs of 1's in the binary representation of 8, so we return 0.<br>\n",
    "\n",
    "Note:<br>\n",
    "1 <= N <= 10^9<br>"
   ]
  },
  {
   "cell_type": "code",
   "execution_count": 12,
   "metadata": {},
   "outputs": [],
   "source": [
    "class Solution:\n",
    "    def binaryGap(self, N):\n",
    "        \"\"\"\n",
    "        :type N: int\n",
    "        :rtype: int\n",
    "        \"\"\"\n",
    "\n",
    "        index = []\n",
    "        for i, num in enumerate(bin(N)):\n",
    "            if num == '1':\n",
    "                index.append(i)\n",
    "        if len(index) == 1:\n",
    "            return 0\n",
    "        else:\n",
    "            return max([index[i+1]-index[i] for i in range(len(index)-1)]) \n",
    "        "
   ]
  },
  {
   "cell_type": "code",
   "execution_count": 14,
   "metadata": {},
   "outputs": [
    {
     "data": {
      "text/plain": [
       "2"
      ]
     },
     "execution_count": 14,
     "metadata": {},
     "output_type": "execute_result"
    }
   ],
   "source": [
    "s = Solution()\n",
    "s.binaryGap(22)"
   ]
  }
 ],
 "metadata": {
  "kernelspec": {
   "display_name": "Python 3",
   "language": "python",
   "name": "python3"
  },
  "language_info": {
   "codemirror_mode": {
    "name": "ipython",
    "version": 3
   },
   "file_extension": ".py",
   "mimetype": "text/x-python",
   "name": "python",
   "nbconvert_exporter": "python",
   "pygments_lexer": "ipython3",
   "version": "3.6.5"
  }
 },
 "nbformat": 4,
 "nbformat_minor": 2
}
