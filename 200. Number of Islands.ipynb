{
 "cells": [
  {
   "cell_type": "markdown",
   "metadata": {},
   "source": [
    "#### 200. Number of Islands\n",
    "\n",
    "Given a 2d grid map of '1's (land) and '0's (water), count the number of islands. An island is surrounded by water and is formed by connecting adjacent lands horizontally or vertically. You may assume all four edges of the grid are all surrounded by water.\n",
    "\n",
    "Example 1:<br>\n",
    "Input:<br>\n",
    "11110<br>\n",
    "11010<br>\n",
    "11000<br>\n",
    "00000<br>\n",
    "\n",
    "Output: 1<br>\n",
    "\n",
    "Example 2:<br>\n",
    "Input:<br>\n",
    "11000<br>\n",
    "11000<br>\n",
    "00100<br>\n",
    "00011<br>\n",
    "\n",
    "Output: 3<br>\n"
   ]
  },
  {
   "cell_type": "code",
   "execution_count": 11,
   "metadata": {},
   "outputs": [],
   "source": [
    "##### DFS\n",
    "\n",
    "class Solution:\n",
    "    def numIslands(self, grid):\n",
    "        \"\"\"\n",
    "        :type grid: List[List[str]]\n",
    "        :rtype: int\n",
    "        \"\"\"\n",
    "        n = len(grid)\n",
    "        if n==0:\n",
    "            return 0\n",
    "        m = len(grid[0])\n",
    "        res = 0\n",
    "        for y in range(n):\n",
    "            for x in range(m):\n",
    "                if grid[y][x] =='1':\n",
    "                    res += 1\n",
    "                    self.dfs(y,x,n,m,grid)\n",
    "        return res\n",
    "        \n",
    "    def dfs(self,y,x,n,m,grid):\n",
    "        if x<0 or y<0 or x>=m or y>=n or grid[y][x]=='0':\n",
    "            return\n",
    "        grid[y][x] = '0'\n",
    "        self.dfs(y-1,x,n,m,grid)\n",
    "        self.dfs(y+1,x,n,m,grid)\n",
    "        self.dfs(y,x+1,n,m,grid)\n",
    "        self.dfs(y,x-1,n,m,grid)\n",
    "    \n",
    "# Time complexity: O(n*m)\n",
    "        "
   ]
  },
  {
   "cell_type": "code",
   "execution_count": 12,
   "metadata": {},
   "outputs": [
    {
     "data": {
      "text/plain": [
       "1"
      ]
     },
     "execution_count": 12,
     "metadata": {},
     "output_type": "execute_result"
    }
   ],
   "source": [
    "grid=[[\"1\",\"1\",\"1\",\"1\",\"0\"],[\"1\",\"1\",\"0\",\"1\",\"0\"],[\"1\",\"1\",\"0\",\"0\",\"0\"],[\"0\",\"0\",\"0\",\"0\",\"0\"]]\n",
    "s = Solution()\n",
    "s.numIslands(grid)"
   ]
  },
  {
   "cell_type": "code",
   "execution_count": 17,
   "metadata": {},
   "outputs": [],
   "source": [
    "#### BFS\n",
    "\n",
    "class Solution:\n",
    "    def numIslands(self, grid):\n",
    "        \"\"\"\n",
    "        :type grid: List[List[str]]\n",
    "        :rtype: int\n",
    "        \"\"\"\n",
    "        n = len(grid)\n",
    "        if n==0:\n",
    "            return 0\n",
    "        m = len(grid[0])\n",
    "        res = 0\n",
    "        adjacent = [[0,1],[0,-1],[1,0],[-1,0]]\n",
    "        que = []\n",
    "        for y in range(n):\n",
    "            for x in range(m):\n",
    "                if grid[y][x] =='1':\n",
    "                    res += 1\n",
    "                    grid[y][x] =='0'\n",
    "                    que.append((y,x))\n",
    "                    while que:\n",
    "                        i, j = que.pop(0)\n",
    "                        for d in adjacent:\n",
    "                            ny, nx = i + d[0], j + d[1]\n",
    "                            if  0<= ny < n and 0 <= nx < m and grid[ny][nx]=='1':\n",
    "                                grid[ny][nx]='0'\n",
    "                                que.append((ny,nx))\n",
    "        return res\n",
    "                "
   ]
  },
  {
   "cell_type": "code",
   "execution_count": 18,
   "metadata": {},
   "outputs": [
    {
     "data": {
      "text/plain": [
       "1"
      ]
     },
     "execution_count": 18,
     "metadata": {},
     "output_type": "execute_result"
    }
   ],
   "source": [
    "grid=[[\"1\",\"1\",\"1\",\"1\",\"0\"],[\"1\",\"1\",\"0\",\"1\",\"0\"],[\"1\",\"1\",\"0\",\"0\",\"0\"],[\"0\",\"0\",\"0\",\"0\",\"0\"]]\n",
    "s = Solution()\n",
    "s.numIslands(grid)"
   ]
  }
 ],
 "metadata": {
  "kernelspec": {
   "display_name": "Python 3",
   "language": "python",
   "name": "python3"
  },
  "language_info": {
   "codemirror_mode": {
    "name": "ipython",
    "version": 3
   },
   "file_extension": ".py",
   "mimetype": "text/x-python",
   "name": "python",
   "nbconvert_exporter": "python",
   "pygments_lexer": "ipython3",
   "version": "3.6.5"
  }
 },
 "nbformat": 4,
 "nbformat_minor": 2
}
