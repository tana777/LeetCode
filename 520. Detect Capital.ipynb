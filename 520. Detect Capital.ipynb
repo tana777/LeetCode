{
 "cells": [
  {
   "cell_type": "markdown",
   "metadata": {},
   "source": [
    "##### 520. Detect Capital\n",
    "\n",
    "Given a word, you need to judge whether the usage of capitals in it is right or not. <br>\n",
    "We define the usage of capitals in a word to be right when one of the following cases holds:<br>\n",
    "All letters in this word are capitals, like \"USA\".<br>\n",
    "All letters in this word are not capitals, like \"leetcode\".<br>\n",
    "Only the first letter in this word is capital if it has more than one letter, like \"Google\".<br>\n",
    "Otherwise, we define that this word doesn't use capitals in a right way.<br>\n",
    "Example 1:<br>\n",
    "Input: \"USA\"<br>\n",
    "Output: True<br>\n",
    "Example 2:<br>\n",
    "Input: \"FlaG\"<br>\n",
    "Output: False<br>\n",
    "Note: The input will be a non-empty word consisting of uppercase and lowercase latin letters.<br>\n",
    "\n"
   ]
  },
  {
   "cell_type": "code",
   "execution_count": 1,
   "metadata": {},
   "outputs": [],
   "source": [
    "class Solution:\n",
    "    def detectCapitalUse(self, word):\n",
    "        \"\"\"\n",
    "        :type word: str\n",
    "        :rtype: bool\n",
    "        \"\"\"\n",
    "        if word.upper()==word or word.lower()==word:\n",
    "            return True\n",
    "        elif word[1:].lower() == word[1:]:\n",
    "            return True\n",
    "        else:\n",
    "            return False\n",
    "            \n",
    "        "
   ]
  },
  {
   "cell_type": "code",
   "execution_count": 2,
   "metadata": {},
   "outputs": [
    {
     "data": {
      "text/plain": [
       "True"
      ]
     },
     "execution_count": 2,
     "metadata": {},
     "output_type": "execute_result"
    }
   ],
   "source": [
    "s = Solution()\n",
    "word = 'Leetcode'\n",
    "s.detectCapitalUse(word)"
   ]
  }
 ],
 "metadata": {
  "kernelspec": {
   "display_name": "Python 3",
   "language": "python",
   "name": "python3"
  },
  "language_info": {
   "codemirror_mode": {
    "name": "ipython",
    "version": 3
   },
   "file_extension": ".py",
   "mimetype": "text/x-python",
   "name": "python",
   "nbconvert_exporter": "python",
   "pygments_lexer": "ipython3",
   "version": "3.6.5"
  }
 },
 "nbformat": 4,
 "nbformat_minor": 2
}
