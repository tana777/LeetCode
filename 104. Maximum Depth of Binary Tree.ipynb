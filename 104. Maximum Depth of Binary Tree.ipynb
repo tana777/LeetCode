{
 "cells": [
  {
   "cell_type": "markdown",
   "metadata": {},
   "source": [
    "##### 104. Maximum Depth of Binary Tree\n",
    "\n",
    "Given a binary tree, find its maximum depth.<br>\n",
    "The maximum depth is the number of nodes along the longest path from the root node down to the farthest leaf node.<br> \n",
    "Note: A leaf is a node with no children.<br> \n",
    "Example:<br> \n",
    "Given binary tree [3,9,20,null,null,15,7],<br> \n",
    "\n",
    "       3\n",
    "      / \\\n",
    "     9  20\n",
    "     /  \\\n",
    "    15   7\n",
    "return its depth = 3.<br> "
   ]
  },
  {
   "cell_type": "code",
   "execution_count": 3,
   "metadata": {},
   "outputs": [],
   "source": [
    "# Definition for a binary tree node.\n",
    "# class TreeNode:\n",
    "#     def __init__(self, x):\n",
    "#         self.val = x\n",
    "#         self.left = None\n",
    "#         self.right = None\n",
    "\n",
    "## 1. BFS using iteration method and implement by deque\n",
    "\n",
    "class Solution:\n",
    "    def maxDepth(self, root):\n",
    "        \"\"\"\n",
    "        :type root: TreeNode\n",
    "        :rtype: int\n",
    "        \"\"\"\n",
    "        if root is None:\n",
    "            return 0\n",
    "        que = collections.deque()\n",
    "        que.append(root)\n",
    "        depth = 0\n",
    "        while que:\n",
    "            s = len(que)\n",
    "            for i in range(s):\n",
    "                node = que.popleft()\n",
    "                if node.left:\n",
    "                    que.append(node.left)\n",
    "                if node.right:\n",
    "                    que.append(node.right)\n",
    "            depth = depth + 1\n",
    "        return depth\n",
    "    \n",
    "### Complexity Analysis\n",
    "# Time: O(n)\n",
    "# Space: O(n)"
   ]
  },
  {
   "cell_type": "code",
   "execution_count": 4,
   "metadata": {},
   "outputs": [],
   "source": [
    "# Definition for a binary tree node.\n",
    "# class TreeNode:\n",
    "#     def __init__(self, x):\n",
    "#         self.val = x\n",
    "#         self.left = None\n",
    "#         self.right = None\n",
    "\n",
    "class Solution:\n",
    "    def maxDepth(self, root):\n",
    "        \"\"\"\n",
    "        :type root: TreeNode\n",
    "        :rtype: int\n",
    "        \"\"\"\n",
    "        if root is None: \n",
    "            return 0 \n",
    "        elif root.left == [] or root.right == []:\n",
    "            return 1\n",
    "        else: \n",
    "            height=[self.maxDepth(root.left),self.maxDepth(root.right)]\n",
    "            return max(height)+1\n",
    "    \n",
    "\n",
    "#Complexity analysis\n",
    "#Time complexity : we visit each node exactly once, thus the time complexity is O(N),\n",
    "#where N is the number of nodes.\n"
   ]
  }
 ],
 "metadata": {
  "kernelspec": {
   "display_name": "Python 3",
   "language": "python",
   "name": "python3"
  },
  "language_info": {
   "codemirror_mode": {
    "name": "ipython",
    "version": 3
   },
   "file_extension": ".py",
   "mimetype": "text/x-python",
   "name": "python",
   "nbconvert_exporter": "python",
   "pygments_lexer": "ipython3",
   "version": "3.6.5"
  }
 },
 "nbformat": 4,
 "nbformat_minor": 2
}
