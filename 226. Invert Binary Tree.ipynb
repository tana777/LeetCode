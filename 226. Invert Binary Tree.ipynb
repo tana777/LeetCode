{
 "cells": [
  {
   "cell_type": "markdown",
   "metadata": {},
   "source": [
    "##### 226. Invert Binary Tree\n",
    "\n",
    "Invert a binary tree. <br>\n",
    "\n",
    "Example:<br>\n",
    "\n",
    "Input:<br>\n",
    "\n",
    "         4\n",
    "       /   \\\n",
    "      2     7\n",
    "     / \\   / \\\n",
    "    1   3 6   9\n",
    "Output:<br> \n",
    "\n",
    "        4\n",
    "      /   \\\n",
    "     7     2\n",
    "    / \\   / \\\n",
    "    9   6 3   1"
   ]
  },
  {
   "cell_type": "code",
   "execution_count": 4,
   "metadata": {},
   "outputs": [],
   "source": [
    "# Definition for a binary tree node.\n",
    "# class TreeNode:\n",
    "#     def __init__(self, x):\n",
    "#         self.val = x\n",
    "#         self.left = None\n",
    "#         self.right = None\n",
    "\n",
    "\n",
    "### BFS + deque or stack iteration method\n",
    "class Solution:\n",
    "    def invertTree(self, root):\n",
    "        \"\"\"\n",
    "        :type root: TreeNode\n",
    "        :rtype: TreeNode\n",
    "        \"\"\"\n",
    "        \n",
    "        if root is None:\n",
    "            return []\n",
    "        que = collections.deque()\n",
    "        que.append(root)\n",
    "        \n",
    "        while que:\n",
    "            node = que.popleft()\n",
    "            if node:\n",
    "                node.left, node.right = node.right, node.left\n",
    "                que.append(node.left)\n",
    "                que.append(node.right)\n",
    "        return root\n",
    "        "
   ]
  },
  {
   "cell_type": "code",
   "execution_count": 5,
   "metadata": {},
   "outputs": [],
   "source": [
    "# Definition for a binary tree node.\n",
    "# class TreeNode:\n",
    "#     def __init__(self, x):\n",
    "#         self.val = x\n",
    "#         self.left = None\n",
    "#         self.right = None\n",
    "\n",
    "\n",
    "##### DFS + stack\n",
    "class Solution:\n",
    "    def invertTree(self, root):\n",
    "        \"\"\"\n",
    "        :type root: TreeNode\n",
    "        :rtype: TreeNode\n",
    "        \"\"\"\n",
    "        \n",
    "        if root is None:\n",
    "            return []\n",
    "        \n",
    "        stack = []\n",
    "        stack.append(root)\n",
    "        \n",
    "        while stack:\n",
    "            node = stack.pop()\n",
    "            if node:\n",
    "                node.left, node.right = node.right, node.left\n",
    "                stack.extend([node.left,node.right])\n",
    "        return root\n",
    "        "
   ]
  },
  {
   "cell_type": "code",
   "execution_count": 6,
   "metadata": {},
   "outputs": [],
   "source": [
    "# recursively\n",
    "class Solution:\n",
    "    def invertTree(self, root):\n",
    "        \"\"\"\n",
    "        :type root: TreeNode\n",
    "        :rtype: TreeNode\n",
    "        \"\"\"\n",
    "        def invertTree1(self, root):\n",
    "            if root:\n",
    "                root.left, root.right = self.invertTree(root.right), self.invertTree(root.left)\n",
    "        return root"
   ]
  }
 ],
 "metadata": {
  "kernelspec": {
   "display_name": "Python 3",
   "language": "python",
   "name": "python3"
  },
  "language_info": {
   "codemirror_mode": {
    "name": "ipython",
    "version": 3
   },
   "file_extension": ".py",
   "mimetype": "text/x-python",
   "name": "python",
   "nbconvert_exporter": "python",
   "pygments_lexer": "ipython3",
   "version": "3.6.5"
  }
 },
 "nbformat": 4,
 "nbformat_minor": 2
}
