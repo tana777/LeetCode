{
 "cells": [
  {
   "cell_type": "markdown",
   "metadata": {},
   "source": [
    "##### 463. Island Perimeter\n",
    "\n",
    "You are given a map in form of a two-dimensional integer grid where 1 represents land and 0 represents water.<br>\n",
    "Grid cells are connected horizontally/vertically (not diagonally). The grid is completely surrounded by water, and there is exactly one island (i.e., one or more connected land cells).<br>\n",
    "The island doesn't have \"lakes\" (water inside that isn't connected to the water around the island). One cell is a square with side length 1. The grid is rectangular, width and height don't exceed 100. Determine the perimeter of the island.<br>\n",
    "\n",
    "\n",
    "Example:<br>\n",
    "Input:<br>\n",
    "[[0,1,0,0],<br>\n",
    " [1,1,1,0],<br>\n",
    " [0,1,0,0],<br>\n",
    " [1,1,0,0]]<br>\n",
    "\n",
    "Output: 16<br>\n",
    "\n",
    "Explanation: The perimeter is the 16 yellow stripes in the image below:\n",
    "\n"
   ]
  },
  {
   "cell_type": "code",
   "execution_count": 2,
   "metadata": {},
   "outputs": [],
   "source": [
    "class Solution(object):\n",
    "    def islandPerimeter(self, grid):\n",
    "        \"\"\"\n",
    "        :type grid: List[List[int]]\n",
    "        :rtype: int\n",
    "        \"\"\"\n",
    "        r = len(grid)\n",
    "        c = len(grid[0])\n",
    "        out_h = sum(grid[0][:] + grid[r-1][:])\n",
    "        out_v = sum([ grid[i][0]+grid[i][c-1] for i in range(r)])\n",
    "        out = out_h + out_v\n",
    "        rows = 0\n",
    "        cols = 0\n",
    "        for i in range(r-1):\n",
    "            for j in range(c):\n",
    "                if grid[i][j] != grid[i+1][j]:\n",
    "                    rows += 1\n",
    "        for j in range(c-1):\n",
    "            for i in range(r):\n",
    "                if grid[i][j] != grid[i][j+1]:\n",
    "                    cols += 1\n",
    "        return out+rows+cols   \n"
   ]
  },
  {
   "cell_type": "code",
   "execution_count": 3,
   "metadata": {},
   "outputs": [
    {
     "data": {
      "text/plain": [
       "16"
      ]
     },
     "execution_count": 3,
     "metadata": {},
     "output_type": "execute_result"
    }
   ],
   "source": [
    "grid=[[0,1,0,0],\n",
    "[1,1,1,0],\n",
    "[0,1,0,0],\n",
    "[1,1,0,0]]\n",
    "s =Solution()\n",
    "s.islandPerimeter(grid)"
   ]
  }
 ],
 "metadata": {
  "kernelspec": {
   "display_name": "Python 3",
   "language": "python",
   "name": "python3"
  },
  "language_info": {
   "codemirror_mode": {
    "name": "ipython",
    "version": 3
   },
   "file_extension": ".py",
   "mimetype": "text/x-python",
   "name": "python",
   "nbconvert_exporter": "python",
   "pygments_lexer": "ipython3",
   "version": "3.6.5"
  }
 },
 "nbformat": 4,
 "nbformat_minor": 2
}
