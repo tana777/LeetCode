{
 "cells": [
  {
   "cell_type": "markdown",
   "metadata": {},
   "source": [
    "##### 812. Largest Triangle Area\n",
    "\n",
    "You have a list of points in the plane. Return the area of the largest triangle that can be formed by any 3 of the points.<br>\n",
    "\n",
    "Example:<br><br>\n",
    "Input: points = [[0,0],[0,1],[1,0],[0,2],[2,0]]<br>\n",
    "Output: 2<br>\n",
    "   \n",
    "Notes:<br>\n",
    "\n",
    "3 <= points.length <= 50.<br>\n",
    "No points will be duplicated.<br>\n",
    " -50 <= points[i][j] <= 50.<br>\n",
    "Answers within 10^-6 of the true value will be accepted as correct.<br>"
   ]
  },
  {
   "cell_type": "code",
   "execution_count": 49,
   "metadata": {},
   "outputs": [],
   "source": [
    "class Solution:\n",
    "    def largestTriangleArea(self, points):\n",
    "        \"\"\"\n",
    "        :type points: List[List[int]]\n",
    "        :rtype: float\n",
    "        \"\"\"\n",
    "        def area(x,y,z):\n",
    "            l1 = ((x[0]-y[0]) ** 2 + (x[1]-y[1]) ** 2) ** 0.5\n",
    "            l2 = ((x[0]-z[0]) ** 2 + (x[1]-z[1]) ** 2) ** 0.5\n",
    "            l3 = ((y[0]-z[0]) ** 2 + (y[1]-z[1]) ** 2) ** 0.5\n",
    "            if l1 + l2 > l3 and l1 + l3 > l2 and l2 + l3 > l1 and l1 - l2 < l3 and l1 - l3 < l2 and l2 - l3 < l1:\n",
    "                s = (l1+l2+l3)/2\n",
    "                return (s* (s-l1) * (s-l2) * (s-l3)) ** 0.5\n",
    "            return 0\n",
    "        S = 0\n",
    "        for i in range(len(points) - 2):\n",
    "            for j in range(i, len(points) - 1):\n",
    "                for k in range(j, len(points)):\n",
    "                    A = area(points[i], points[j], points[k])\n",
    "                    if A > S:\n",
    "                        S = A\n",
    "        return S\n",
    "    \n",
    "### Brute force\n",
    "## check each possible triangle and compute its area and keep the largest one\n",
    "## so we need three for loops to cycle through each choice of 3 points in the array.\n",
    "## then we'll need a function to compute the area given 3 points and additionally, chech if the points\n",
    "## can form a triangle first.\n",
    "## Here we use Heron's formula to calculate the area, which requires the 3 side lengths that can be\n",
    "## obtained by distance formula of two points.\n",
    "\n",
    "## Complexity Analysis\n",
    "# Time: O(N^3), where N is the input size of points. Since we use three for loops here of length N.\n",
    "#Space: O(1)."
   ]
  },
  {
   "cell_type": "code",
   "execution_count": 50,
   "metadata": {},
   "outputs": [
    {
     "data": {
      "text/plain": [
       "6.000000000000001"
      ]
     },
     "execution_count": 50,
     "metadata": {},
     "output_type": "execute_result"
    }
   ],
   "source": [
    "points = [[1,2],[4,5],[7,4],[3,4],[2,3]]\n",
    "s = Solution()\n",
    "s.largestTriangleArea(points)"
   ]
  }
 ],
 "metadata": {
  "kernelspec": {
   "display_name": "Python 3",
   "language": "python",
   "name": "python3"
  },
  "language_info": {
   "codemirror_mode": {
    "name": "ipython",
    "version": 3
   },
   "file_extension": ".py",
   "mimetype": "text/x-python",
   "name": "python",
   "nbconvert_exporter": "python",
   "pygments_lexer": "ipython3",
   "version": "3.6.5"
  }
 },
 "nbformat": 4,
 "nbformat_minor": 2
}
